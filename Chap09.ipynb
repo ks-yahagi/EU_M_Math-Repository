{
  "nbformat": 4,
  "nbformat_minor": 0,
  "metadata": {
    "colab": {
      "name": "Chap09.ipynb",
      "provenance": [],
      "collapsed_sections": [],
      "authorship_tag": "ABX9TyOkiV/xevmHbXkCBpg1qnhI",
      "include_colab_link": true
    },
    "kernelspec": {
      "name": "python3",
      "display_name": "Python 3"
    },
    "language_info": {
      "name": "python"
    }
  },
  "cells": [
    {
      "cell_type": "markdown",
      "metadata": {
        "id": "view-in-github",
        "colab_type": "text"
      },
      "source": [
        "<a href=\"https://colab.research.google.com/github/ks-yahagi/EU_M_Math-Repository/blob/main/Chap09.ipynb\" target=\"_parent\"><img src=\"https://colab.research.google.com/assets/colab-badge.svg\" alt=\"Open In Colab\"/></a>"
      ]
    },
    {
      "cell_type": "code",
      "execution_count": 1,
      "metadata": {
        "colab": {
          "base_uri": "https://localhost:8080/",
          "height": 36
        },
        "id": "iicxiUIsbteW",
        "outputId": "ea06dbb0-eca2-48c1-8a7c-929b3fdbef69"
      },
      "outputs": [
        {
          "output_type": "execute_result",
          "data": {
            "text/plain": [
              "'%.3f'"
            ],
            "application/vnd.google.colaboratory.intrinsic+json": {
              "type": "string"
            }
          },
          "metadata": {},
          "execution_count": 1
        }
      ],
      "source": [
        "#データ加工・処理・分析ライブラリ\n",
        "import numpy as np\n",
        "import numpy.random as random\n",
        "import scipy as sp\n",
        "from pandas import Series, DataFrame\n",
        "import pandas as pd\n",
        "\n",
        "#可視化ライブラリ\n",
        "import matplotlib.pyplot as plt\n",
        "import matplotlib as mp1\n",
        "import seaborn as sns\n",
        "%matplotlib inline\n",
        "\n",
        "#機械学習ライブラリ\n",
        "import sklearn\n",
        "\n",
        "#小数点第3位まで表示\n",
        "%precision 3"
      ]
    },
    {
      "cell_type": "code",
      "source": [
        "#訓練データの作成\n",
        "\n",
        "#k-means法を扱うためのインポート\n",
        "from sklearn.cluster import KMeans\n",
        "\n",
        "#データ取得のためのインポート\n",
        "from sklearn.datasets import make_blobs\n",
        "\n",
        "#サンプルデータ生成\n",
        "#注意:make_blobsは2つの値を返すため、一方は使用しない「_」で受け取る\n",
        "X, _ =make_blobs(random_state=10)\n",
        "\n",
        "#グラフを描画\n",
        "#colorのオプションで色付けが出来る\n",
        "plt.scatter(X[:,0],X[:,1],color='black')"
      ],
      "metadata": {
        "colab": {
          "base_uri": "https://localhost:8080/",
          "height": 283
        },
        "id": "dMtGykVgc8A9",
        "outputId": "a60d13e7-8672-4bcc-f416-2dee6da1b2a2"
      },
      "execution_count": 2,
      "outputs": [
        {
          "output_type": "execute_result",
          "data": {
            "text/plain": [
              "<matplotlib.collections.PathCollection at 0x7ff7ac0f2910>"
            ]
          },
          "metadata": {},
          "execution_count": 2
        },
        {
          "output_type": "display_data",
          "data": {
            "text/plain": [
              "<Figure size 432x288 with 1 Axes>"
            ],
            "image/png": "[encoded data removed]"
          },
          "metadata": {
            "needs_background": "light"
          }
        }
      ]
    },
    {
      "cell_type": "code",
      "source": [
        "#KMeansクラスの初期化\n",
        "kmeans = KMeans(init='random',n_clusters=3)\n",
        "\n",
        "#クラスターの重心を計算\n",
        "kmeans.fit(X)\n",
        "\n",
        "#クラスター番号を予測\n",
        "y_pred = kmeans.predict(X)"
      ],
      "metadata": {
        "id": "MpXTaPK7gI4n"
      },
      "execution_count": 3,
      "outputs": []
    },
    {
      "cell_type": "code",
      "source": [
        "#concatでデータを横に移動\n",
        "merge_data = pd.concat([pd.DataFrame(X[:,0]),pd.DataFrame(X[:,1]),pd.DataFrame(y_pred)], axis=1)\n",
        "\n",
        "#上記のデータにて、X軸をfeature1、Y軸をfeature2、クラスター番号をclusterと列名指定\n",
        "merge_data.columns = ['feature1','feature2','cluster']\n",
        "\n",
        "#クラスタリング結果のグラフ化\n",
        "ax = None\n",
        "colors = ['blue','red','green']\n",
        "for i, data in merge_data.groupby('cluster'):\n",
        "  ax = data.plot.scatter(x='feature1',y='feature2',color=colors[i],label=f'cluster{i}',ax = ax)"
      ],
      "metadata": {
        "colab": {
          "base_uri": "https://localhost:8080/",
          "height": 279
        },
        "id": "Vl2WzgcMg4Yw",
        "outputId": "4d30b101-0651-457b-f81e-ac735a0d5040"
      },
      "execution_count": 4,
      "outputs": [
        {
          "output_type": "display_data",
          "data": {
            "text/plain": [
              "<Figure size 432x288 with 1 Axes>"
            ],
            "image/png": "[encoded data removed]"
          },
          "metadata": {
            "needs_background": "light"
          }
        }
      ]
    },
    {
      "cell_type": "code",
      "source": [
        "#webからデータを取得したり、zipファイルを扱うためのライブラリをインポート\n",
        "import requests,zipfile\n",
        "import io\n",
        "\n",
        "#データがあるurlの指定\n",
        "zip_file_url = 'http://archive.ics.uci.edu/ml/machine-learning-databases/00222/bank.zip'\n",
        "\n",
        "#データを取得して展開する\n",
        "r = requests.get(zip_file_url,stream=True)\n",
        "z = zipfile.ZipFile(io.BytesIO(r.content))\n",
        "z.extractall()\n",
        "\n",
        "#対象データの読み込み\n",
        "bank = pd.read_csv('bank-full.csv',sep=';')\n",
        "\n",
        "#先頭の5行を表示\n",
        "bank.head()"
      ],
      "metadata": {
        "colab": {
          "base_uri": "https://localhost:8080/",
          "height": 250
        },
        "id": "24eMSGUXiwOw",
        "outputId": "55d64738-e7d6-42e1-d6aa-13b0e98d36c7"
      },
      "execution_count": 5,
      "outputs": [
        {
          "output_type": "execute_result",
          "data": {
            "text/plain": [
              "   age           job  marital  education default  balance housing loan  \\\n",
              "0   58    management  married   tertiary      no     2143     yes   no   \n",
              "1   44    technician   single  secondary      no       29     yes   no   \n",
              "2   33  entrepreneur  married  secondary      no        2     yes  yes   \n",
              "3   47   blue-collar  married    unknown      no     1506     yes   no   \n",
              "4   33       unknown   single    unknown      no        1      no   no   \n",
              "\n",
              "   contact  day month  duration  campaign  pdays  previous poutcome   y  \n",
              "0  unknown    5   may       261         1     -1         0  unknown  no  \n",
              "1  unknown    5   may       151         1     -1         0  unknown  no  \n",
              "2  unknown    5   may        76         1     -1         0  unknown  no  \n",
              "3  unknown    5   may        92         1     -1         0  unknown  no  \n",
              "4  unknown    5   may       198         1     -1         0  unknown  no  "
            ],
            "text/html": [
              "\n",
              "  <div id=\"df-6b657e36-548e-44f3-bbd5-d60131aaefd6\">\n",
              "    <div class=\"colab-df-container\">\n",
              "      <div>\n",
              "<style scoped>\n",
              "    .dataframe tbody tr th:only-of-type {\n",
              "        vertical-align: middle;\n",
              "    }\n",
              "\n",
              "    .dataframe tbody tr th {\n",
              "        vertical-align: top;\n",
              "    }\n",
              "\n",
              "    .dataframe thead th {\n",
              "        text-align: right;\n",
              "    }\n",
              "</style>\n",
              "<table border=\"1\" class=\"dataframe\">\n",
              "  <thead>\n",
              "    <tr style=\"text-align: right;\">\n",
              "      <th></th>\n",
              "      <th>age</th>\n",
              "      <th>job</th>\n",
              "      <th>marital</th>\n",
              "      <th>education</th>\n",
              "      <th>default</th>\n",
              "      <th>balance</th>\n",
              "      <th>housing</th>\n",
              "      <th>loan</th>\n",
              "      <th>contact</th>\n",
              "      <th>day</th>\n",
              "      <th>month</th>\n",
              "      <th>duration</th>\n",
              "      <th>campaign</th>\n",
              "      <th>pdays</th>\n",
              "      <th>previous</th>\n",
              "      <th>poutcome</th>\n",
              "      <th>y</th>\n",
              "    </tr>\n",
              "  </thead>\n",
              "  <tbody>\n",
              "    <tr>\n",
              "      <th>0</th>\n",
              "      <td>58</td>\n",
              "      <td>management</td>\n",
              "      <td>married</td>\n",
              "      <td>tertiary</td>\n",
              "      <td>no</td>\n",
              "      <td>2143</td>\n",
              "      <td>yes</td>\n",
              "      <td>no</td>\n",
              "      <td>unknown</td>\n",
              "      <td>5</td>\n",
              "      <td>may</td>\n",
              "      <td>261</td>\n",
              "      <td>1</td>\n",
              "      <td>-1</td>\n",
              "      <td>0</td>\n",
              "      <td>unknown</td>\n",
              "      <td>no</td>\n",
              "    </tr>\n",
              "    <tr>\n",
              "      <th>1</th>\n",
              "      <td>44</td>\n",
              "      <td>technician</td>\n",
              "      <td>single</td>\n",
              "      <td>secondary</td>\n",
              "      <td>no</td>\n",
              "      <td>29</td>\n",
              "      <td>yes</td>\n",
              "      <td>no</td>\n",
              "      <td>unknown</td>\n",
              "      <td>5</td>\n",
              "      <td>may</td>\n",
              "      <td>151</td>\n",
              "      <td>1</td>\n",
              "      <td>-1</td>\n",
              "      <td>0</td>\n",
              "      <td>unknown</td>\n",
              "      <td>no</td>\n",
              "    </tr>\n",
              "    <tr>\n",
              "      <th>2</th>\n",
              "      <td>33</td>\n",
              "      <td>entrepreneur</td>\n",
              "      <td>married</td>\n",
              "      <td>secondary</td>\n",
              "      <td>no</td>\n",
              "      <td>2</td>\n",
              "      <td>yes</td>\n",
              "      <td>yes</td>\n",
              "      <td>unknown</td>\n",
              "      <td>5</td>\n",
              "      <td>may</td>\n",
              "      <td>76</td>\n",
              "      <td>1</td>\n",
              "      <td>-1</td>\n",
              "      <td>0</td>\n",
              "      <td>unknown</td>\n",
              "      <td>no</td>\n",
              "    </tr>\n",
              "    <tr>\n",
              "      <th>3</th>\n",
              "      <td>47</td>\n",
              "      <td>blue-collar</td>\n",
              "      <td>married</td>\n",
              "      <td>unknown</td>\n",
              "      <td>no</td>\n",
              "      <td>1506</td>\n",
              "      <td>yes</td>\n",
              "      <td>no</td>\n",
              "      <td>unknown</td>\n",
              "      <td>5</td>\n",
              "      <td>may</td>\n",
              "      <td>92</td>\n",
              "      <td>1</td>\n",
              "      <td>-1</td>\n",
              "      <td>0</td>\n",
              "      <td>unknown</td>\n",
              "      <td>no</td>\n",
              "    </tr>\n",
              "    <tr>\n",
              "      <th>4</th>\n",
              "      <td>33</td>\n",
              "      <td>unknown</td>\n",
              "      <td>single</td>\n",
              "      <td>unknown</td>\n",
              "      <td>no</td>\n",
              "      <td>1</td>\n",
              "      <td>no</td>\n",
              "      <td>no</td>\n",
              "      <td>unknown</td>\n",
              "      <td>5</td>\n",
              "      <td>may</td>\n",
              "      <td>198</td>\n",
              "      <td>1</td>\n",
              "      <td>-1</td>\n",
              "      <td>0</td>\n",
              "      <td>unknown</td>\n",
              "      <td>no</td>\n",
              "    </tr>\n",
              "  </tbody>\n",
              "</table>\n",
              "</div>\n",
              "      <button class=\"colab-df-convert\" onclick=\"convertToInteractive('df-6b657e36-548e-44f3-bbd5-d60131aaefd6')\"\n",
              "              title=\"Convert this dataframe to an interactive table.\"\n",
              "              style=\"display:none;\">\n",
              "        \n",
              "  <svg xmlns=\"http://www.w3.org/2000/svg\" height=\"24px\"viewBox=\"0 0 24 24\"\n",
              "       width=\"24px\">\n",
              "    <path d=\"M0 0h24v24H0V0z\" fill=\"none\"/>\n",
              "    <path d=\"M18.56 5.44l.94 2.06.94-2.06 2.06-.94-2.06-.94-.94-2.06-.94 2.06-2.06.94zm-11 1L8.5 8.5l.94-2.06 2.06-.94-2.06-.94L8.5 2.5l-.94 2.06-2.06.94zm10 10l.94 2.06.94-2.06 2.06-.94-2.06-.94-.94-2.06-.94 2.06-2.06.94z\"/><path d=\"M17.41 7.96l-1.37-1.37c-.4-.4-.92-.59-1.43-.59-.52 0-1.04.2-1.43.59L10.3 9.45l-7.72 7.72c-.78.78-.78 2.05 0 2.83L4 21.41c.39.39.9.59 1.41.59.51 0 1.02-.2 1.41-.59l7.78-7.78 2.81-2.81c.8-.78.8-2.07 0-2.86zM5.41 20L4 18.59l7.72-7.72 1.47 1.35L5.41 20z\"/>\n",
              "  </svg>\n",
              "      </button>\n",
              "      \n",
              "  <style>\n",
              "    .colab-df-container {\n",
              "      display:flex;\n",
              "      flex-wrap:wrap;\n",
              "      gap: 12px;\n",
              "    }\n",
              "\n",
              "    .colab-df-convert {\n",
              "      background-color: #E8F0FE;\n",
              "      border: none;\n",
              "      border-radius: 50%;\n",
              "      cursor: pointer;\n",
              "      display: none;\n",
              "      fill: #1967D2;\n",
              "      height: 32px;\n",
              "      padding: 0 0 0 0;\n",
              "      width: 32px;\n",
              "    }\n",
              "\n",
              "    .colab-df-convert:hover {\n",
              "      background-color: #E2EBFA;\n",
              "      box-shadow: 0px 1px 2px rgba(60, 64, 67, 0.3), 0px 1px 3px 1px rgba(60, 64, 67, 0.15);\n",
              "      fill: #174EA6;\n",
              "    }\n",
              "\n",
              "    [theme=dark] .colab-df-convert {\n",
              "      background-color: #3B4455;\n",
              "      fill: #D2E3FC;\n",
              "    }\n",
              "\n",
              "    [theme=dark] .colab-df-convert:hover {\n",
              "      background-color: #434B5C;\n",
              "      box-shadow: 0px 1px 3px 1px rgba(0, 0, 0, 0.15);\n",
              "      filter: drop-shadow(0px 1px 2px rgba(0, 0, 0, 0.3));\n",
              "      fill: #FFFFFF;\n",
              "    }\n",
              "  </style>\n",
              "\n",
              "      <script>\n",
              "        const buttonEl =\n",
              "          document.querySelector('#df-6b657e36-548e-44f3-bbd5-d60131aaefd6 button.colab-df-convert');\n",
              "        buttonEl.style.display =\n",
              "          google.colab.kernel.accessAllowed ? 'block' : 'none';\n",
              "\n",
              "        async function convertToInteractive(key) {\n",
              "          const element = document.querySelector('#df-6b657e36-548e-44f3-bbd5-d60131aaefd6');\n",
              "          const dataTable =\n",
              "            await google.colab.kernel.invokeFunction('convertToInteractive',\n",
              "                                                     [key], {});\n",
              "          if (!dataTable) return;\n",
              "\n",
              "          const docLinkHtml = 'Like what you see? Visit the ' +\n",
              "            '<a target=\"_blank\" href=https://colab.research.google.com/notebooks/data_table.ipynb>data table notebook</a>'\n",
              "            + ' to learn more about interactive tables.';\n",
              "          element.innerHTML = '';\n",
              "          dataTable['output_type'] = 'display_data';\n",
              "          await google.colab.output.renderOutput(dataTable, element);\n",
              "          const docLink = document.createElement('div');\n",
              "          docLink.innerHTML = docLinkHtml;\n",
              "          element.appendChild(docLink);\n",
              "        }\n",
              "      </script>\n",
              "    </div>\n",
              "  </div>\n",
              "  "
            ]
          },
          "metadata": {},
          "execution_count": 5
        }
      ]
    },
    {
      "cell_type": "code",
      "source": [
        "print('データ形式(X,y):{}'.format(bank.shape))\n",
        "print('欠損データの数:{}'.format(bank.isnull().sum().sum()))"
      ],
      "metadata": {
        "colab": {
          "base_uri": "https://localhost:8080/"
        },
        "id": "saJI4VX8kBEH",
        "outputId": "fddd76d9-73d7-414b-dd4d-4cdde02f686c"
      },
      "execution_count": 6,
      "outputs": [
        {
          "output_type": "stream",
          "name": "stdout",
          "text": [
            "データ形式(X,y):(45211, 17)\n",
            "欠損データの数:0\n"
          ]
        }
      ]
    },
    {
      "cell_type": "code",
      "source": [
        "from sklearn.preprocessing import StandardScaler\n",
        "\n",
        "#データ配列の絞り込み\n",
        "bank_sub = bank[['age','balance','campaign','previous']]\n",
        "\n",
        "#標準化\n",
        "sc = StandardScaler()\n",
        "sc.fit(bank_sub)\n",
        "bank_sub_std = sc.transform(bank_sub)\n",
        "bank_sub.info()"
      ],
      "metadata": {
        "colab": {
          "base_uri": "https://localhost:8080/"
        },
        "id": "XotpODQCkkMy",
        "outputId": "d5cc1ce4-f97f-4a7b-9eb0-ceda09bcbdef"
      },
      "execution_count": 7,
      "outputs": [
        {
          "output_type": "stream",
          "name": "stdout",
          "text": [
            "<class 'pandas.core.frame.DataFrame'>\n",
            "RangeIndex: 45211 entries, 0 to 45210\n",
            "Data columns (total 4 columns):\n",
            " #   Column    Non-Null Count  Dtype\n",
            "---  ------    --------------  -----\n",
            " 0   age       45211 non-null  int64\n",
            " 1   balance   45211 non-null  int64\n",
            " 2   campaign  45211 non-null  int64\n",
            " 3   previous  45211 non-null  int64\n",
            "dtypes: int64(4)\n",
            "memory usage: 1.4 MB\n"
          ]
        }
      ]
    },
    {
      "cell_type": "code",
      "source": [
        "#KMeansクラスの初期化\n",
        "kmeans = KMeans(init='random',n_clusters=6,random_state=0)\n",
        "\n",
        "#クラスターの重心を計算\n",
        "kmeans.fit(bank_sub_std)\n",
        "\n",
        "#クラスター番号をpandasのSeriesオブジェクトに変換\n",
        "labels = pd.Series(kmeans.labels_,name='cluster_number')\n",
        "\n",
        "#クラスター番号と件数を表示\n",
        "print(labels.value_counts(sort=False))\n",
        "\n",
        "#グラフを描画\n",
        "ax = labels.value_counts(sort=False).plot(kind='bar')\n",
        "ax.set_xlabel('cluster number')\n",
        "ax.set_ylabel('count')"
      ],
      "metadata": {
        "colab": {
          "base_uri": "https://localhost:8080/",
          "height": 420
        },
        "id": "6tiyVkhBlPhm",
        "outputId": "9acf8492-e0e8-4f3f-ddbc-36160fc72ba7"
      },
      "execution_count": 8,
      "outputs": [
        {
          "output_type": "stream",
          "name": "stdout",
          "text": [
            "4    14734\n",
            "0    24509\n",
            "2     2684\n",
            "1      221\n",
            "5     1683\n",
            "3     1380\n",
            "Name: cluster_number, dtype: int64\n"
          ]
        },
        {
          "output_type": "execute_result",
          "data": {
            "text/plain": [
              "Text(0, 0.5, 'count')"
            ]
          },
          "metadata": {},
          "execution_count": 8
        },
        {
          "output_type": "display_data",
          "data": {
            "text/plain": [
              "<Figure size 432x288 with 1 Axes>"
            ],
            "image/png": "[encoded data removed]"
          },
          "metadata": {
            "needs_background": "light"
          }
        }
      ]
    },
    {
      "cell_type": "code",
      "execution_count": 9,
      "metadata": {
        "id": "pIr_IEy51aFr",
        "colab": {
          "base_uri": "https://localhost:8080/",
          "height": 297
        },
        "outputId": "271e0cac-09ef-43ff-8055-873a812a1095"
      },
      "outputs": [
        {
          "output_type": "execute_result",
          "data": {
            "text/plain": [
              "Text(0, 0.5, 'Distortion')"
            ]
          },
          "metadata": {},
          "execution_count": 9
        },
        {
          "output_type": "display_data",
          "data": {
            "text/plain": [
              "<Figure size 432x288 with 1 Axes>"
            ],
            "image/png": "[encoded data removed]"
          },
          "metadata": {
            "needs_background": "light"
          }
        }
      ],
      "source": [
        "# エルボー方による推定。クラスター数を1から10に増やして、それぞれの距離の総和を求める\n",
        "dist_list =[]\n",
        "for i in range(1,10):\n",
        "    kmeans= KMeans(n_clusters=i, init='random', random_state=0)\n",
        "    kmeans.fit(X)\n",
        "    dist_list.append(kmeans.inertia_)\n",
        "    \n",
        "# グラフを表示\n",
        "plt.plot(range(1,10), dist_list,marker='+')\n",
        "plt.xlabel('Number of clusters')\n",
        "plt.ylabel('Distortion')"
      ]
    },
    {
      "cell_type": "code",
      "execution_count": 10,
      "metadata": {
        "id": "ceK7LS5j1aFt",
        "colab": {
          "base_uri": "https://localhost:8080/",
          "height": 297
        },
        "outputId": "5459e319-88f1-4c87-b5a8-70299b442362"
      },
      "outputs": [
        {
          "output_type": "execute_result",
          "data": {
            "text/plain": [
              "Text(0, 0.5, 'Distortion')"
            ]
          },
          "metadata": {},
          "execution_count": 10
        },
        {
          "output_type": "display_data",
          "data": {
            "text/plain": [
              "<Figure size 432x288 with 1 Axes>"
            ],
            "image/png": "[encoded data removed]"
          },
          "metadata": {
            "needs_background": "light"
          }
        }
      ],
      "source": [
        "# エルボー方による推定。クラスター数を1から20に増やして、それぞれの距離の総和を求める\n",
        "dist_list =[]\n",
        "for i in range(1,20):\n",
        "    kmeans= KMeans(n_clusters=i, init='random', random_state=0)\n",
        "    kmeans.fit(bank_sub_std)\n",
        "    dist_list.append(kmeans.inertia_)\n",
        "    \n",
        "# グラフを表示\n",
        "plt.plot(range(1,20), dist_list,marker='+')\n",
        "plt.xlabel('Number of clusters')\n",
        "plt.ylabel('Distortion')"
      ]
    },
    {
      "cell_type": "code",
      "execution_count": 11,
      "metadata": {
        "id": "1UzSSQMv1aFw",
        "colab": {
          "base_uri": "https://localhost:8080/",
          "height": 270
        },
        "outputId": "e8c73566-3e07-461c-bd7c-2e6b01f82043"
      },
      "outputs": [
        {
          "output_type": "execute_result",
          "data": {
            "text/plain": [
              "   age           job  marital  education default  balance housing loan  \\\n",
              "0   58    management  married   tertiary      no     2143     yes   no   \n",
              "1   44    technician   single  secondary      no       29     yes   no   \n",
              "2   33  entrepreneur  married  secondary      no        2     yes  yes   \n",
              "3   47   blue-collar  married    unknown      no     1506     yes   no   \n",
              "4   33       unknown   single    unknown      no        1      no   no   \n",
              "\n",
              "   contact  day month  duration  campaign  pdays  previous poutcome   y  \\\n",
              "0  unknown    5   may       261         1     -1         0  unknown  no   \n",
              "1  unknown    5   may       151         1     -1         0  unknown  no   \n",
              "2  unknown    5   may        76         1     -1         0  unknown  no   \n",
              "3  unknown    5   may        92         1     -1         0  unknown  no   \n",
              "4  unknown    5   may       198         1     -1         0  unknown  no   \n",
              "\n",
              "   cluster_number  \n",
              "0               4  \n",
              "1               4  \n",
              "2               0  \n",
              "3               4  \n",
              "4               0  "
            ],
            "text/html": [
              "\n",
              "  <div id=\"df-a32b0850-129e-4b77-bbc3-6ea65a7040f2\">\n",
              "    <div class=\"colab-df-container\">\n",
              "      <div>\n",
              "<style scoped>\n",
              "    .dataframe tbody tr th:only-of-type {\n",
              "        vertical-align: middle;\n",
              "    }\n",
              "\n",
              "    .dataframe tbody tr th {\n",
              "        vertical-align: top;\n",
              "    }\n",
              "\n",
              "    .dataframe thead th {\n",
              "        text-align: right;\n",
              "    }\n",
              "</style>\n",
              "<table border=\"1\" class=\"dataframe\">\n",
              "  <thead>\n",
              "    <tr style=\"text-align: right;\">\n",
              "      <th></th>\n",
              "      <th>age</th>\n",
              "      <th>job</th>\n",
              "      <th>marital</th>\n",
              "      <th>education</th>\n",
              "      <th>default</th>\n",
              "      <th>balance</th>\n",
              "      <th>housing</th>\n",
              "      <th>loan</th>\n",
              "      <th>contact</th>\n",
              "      <th>day</th>\n",
              "      <th>month</th>\n",
              "      <th>duration</th>\n",
              "      <th>campaign</th>\n",
              "      <th>pdays</th>\n",
              "      <th>previous</th>\n",
              "      <th>poutcome</th>\n",
              "      <th>y</th>\n",
              "      <th>cluster_number</th>\n",
              "    </tr>\n",
              "  </thead>\n",
              "  <tbody>\n",
              "    <tr>\n",
              "      <th>0</th>\n",
              "      <td>58</td>\n",
              "      <td>management</td>\n",
              "      <td>married</td>\n",
              "      <td>tertiary</td>\n",
              "      <td>no</td>\n",
              "      <td>2143</td>\n",
              "      <td>yes</td>\n",
              "      <td>no</td>\n",
              "      <td>unknown</td>\n",
              "      <td>5</td>\n",
              "      <td>may</td>\n",
              "      <td>261</td>\n",
              "      <td>1</td>\n",
              "      <td>-1</td>\n",
              "      <td>0</td>\n",
              "      <td>unknown</td>\n",
              "      <td>no</td>\n",
              "      <td>4</td>\n",
              "    </tr>\n",
              "    <tr>\n",
              "      <th>1</th>\n",
              "      <td>44</td>\n",
              "      <td>technician</td>\n",
              "      <td>single</td>\n",
              "      <td>secondary</td>\n",
              "      <td>no</td>\n",
              "      <td>29</td>\n",
              "      <td>yes</td>\n",
              "      <td>no</td>\n",
              "      <td>unknown</td>\n",
              "      <td>5</td>\n",
              "      <td>may</td>\n",
              "      <td>151</td>\n",
              "      <td>1</td>\n",
              "      <td>-1</td>\n",
              "      <td>0</td>\n",
              "      <td>unknown</td>\n",
              "      <td>no</td>\n",
              "      <td>4</td>\n",
              "    </tr>\n",
              "    <tr>\n",
              "      <th>2</th>\n",
              "      <td>33</td>\n",
              "      <td>entrepreneur</td>\n",
              "      <td>married</td>\n",
              "      <td>secondary</td>\n",
              "      <td>no</td>\n",
              "      <td>2</td>\n",
              "      <td>yes</td>\n",
              "      <td>yes</td>\n",
              "      <td>unknown</td>\n",
              "      <td>5</td>\n",
              "      <td>may</td>\n",
              "      <td>76</td>\n",
              "      <td>1</td>\n",
              "      <td>-1</td>\n",
              "      <td>0</td>\n",
              "      <td>unknown</td>\n",
              "      <td>no</td>\n",
              "      <td>0</td>\n",
              "    </tr>\n",
              "    <tr>\n",
              "      <th>3</th>\n",
              "      <td>47</td>\n",
              "      <td>blue-collar</td>\n",
              "      <td>married</td>\n",
              "      <td>unknown</td>\n",
              "      <td>no</td>\n",
              "      <td>1506</td>\n",
              "      <td>yes</td>\n",
              "      <td>no</td>\n",
              "      <td>unknown</td>\n",
              "      <td>5</td>\n",
              "      <td>may</td>\n",
              "      <td>92</td>\n",
              "      <td>1</td>\n",
              "      <td>-1</td>\n",
              "      <td>0</td>\n",
              "      <td>unknown</td>\n",
              "      <td>no</td>\n",
              "      <td>4</td>\n",
              "    </tr>\n",
              "    <tr>\n",
              "      <th>4</th>\n",
              "      <td>33</td>\n",
              "      <td>unknown</td>\n",
              "      <td>single</td>\n",
              "      <td>unknown</td>\n",
              "      <td>no</td>\n",
              "      <td>1</td>\n",
              "      <td>no</td>\n",
              "      <td>no</td>\n",
              "      <td>unknown</td>\n",
              "      <td>5</td>\n",
              "      <td>may</td>\n",
              "      <td>198</td>\n",
              "      <td>1</td>\n",
              "      <td>-1</td>\n",
              "      <td>0</td>\n",
              "      <td>unknown</td>\n",
              "      <td>no</td>\n",
              "      <td>0</td>\n",
              "    </tr>\n",
              "  </tbody>\n",
              "</table>\n",
              "</div>\n",
              "      <button class=\"colab-df-convert\" onclick=\"convertToInteractive('df-a32b0850-129e-4b77-bbc3-6ea65a7040f2')\"\n",
              "              title=\"Convert this dataframe to an interactive table.\"\n",
              "              style=\"display:none;\">\n",
              "        \n",
              "  <svg xmlns=\"http://www.w3.org/2000/svg\" height=\"24px\"viewBox=\"0 0 24 24\"\n",
              "       width=\"24px\">\n",
              "    <path d=\"M0 0h24v24H0V0z\" fill=\"none\"/>\n",
              "    <path d=\"M18.56 5.44l.94 2.06.94-2.06 2.06-.94-2.06-.94-.94-2.06-.94 2.06-2.06.94zm-11 1L8.5 8.5l.94-2.06 2.06-.94-2.06-.94L8.5 2.5l-.94 2.06-2.06.94zm10 10l.94 2.06.94-2.06 2.06-.94-2.06-.94-.94-2.06-.94 2.06-2.06.94z\"/><path d=\"M17.41 7.96l-1.37-1.37c-.4-.4-.92-.59-1.43-.59-.52 0-1.04.2-1.43.59L10.3 9.45l-7.72 7.72c-.78.78-.78 2.05 0 2.83L4 21.41c.39.39.9.59 1.41.59.51 0 1.02-.2 1.41-.59l7.78-7.78 2.81-2.81c.8-.78.8-2.07 0-2.86zM5.41 20L4 18.59l7.72-7.72 1.47 1.35L5.41 20z\"/>\n",
              "  </svg>\n",
              "      </button>\n",
              "      \n",
              "  <style>\n",
              "    .colab-df-container {\n",
              "      display:flex;\n",
              "      flex-wrap:wrap;\n",
              "      gap: 12px;\n",
              "    }\n",
              "\n",
              "    .colab-df-convert {\n",
              "      background-color: #E8F0FE;\n",
              "      border: none;\n",
              "      border-radius: 50%;\n",
              "      cursor: pointer;\n",
              "      display: none;\n",
              "      fill: #1967D2;\n",
              "      height: 32px;\n",
              "      padding: 0 0 0 0;\n",
              "      width: 32px;\n",
              "    }\n",
              "\n",
              "    .colab-df-convert:hover {\n",
              "      background-color: #E2EBFA;\n",
              "      box-shadow: 0px 1px 2px rgba(60, 64, 67, 0.3), 0px 1px 3px 1px rgba(60, 64, 67, 0.15);\n",
              "      fill: #174EA6;\n",
              "    }\n",
              "\n",
              "    [theme=dark] .colab-df-convert {\n",
              "      background-color: #3B4455;\n",
              "      fill: #D2E3FC;\n",
              "    }\n",
              "\n",
              "    [theme=dark] .colab-df-convert:hover {\n",
              "      background-color: #434B5C;\n",
              "      box-shadow: 0px 1px 3px 1px rgba(0, 0, 0, 0.15);\n",
              "      filter: drop-shadow(0px 1px 2px rgba(0, 0, 0, 0.3));\n",
              "      fill: #FFFFFF;\n",
              "    }\n",
              "  </style>\n",
              "\n",
              "      <script>\n",
              "        const buttonEl =\n",
              "          document.querySelector('#df-a32b0850-129e-4b77-bbc3-6ea65a7040f2 button.colab-df-convert');\n",
              "        buttonEl.style.display =\n",
              "          google.colab.kernel.accessAllowed ? 'block' : 'none';\n",
              "\n",
              "        async function convertToInteractive(key) {\n",
              "          const element = document.querySelector('#df-a32b0850-129e-4b77-bbc3-6ea65a7040f2');\n",
              "          const dataTable =\n",
              "            await google.colab.kernel.invokeFunction('convertToInteractive',\n",
              "                                                     [key], {});\n",
              "          if (!dataTable) return;\n",
              "\n",
              "          const docLinkHtml = 'Like what you see? Visit the ' +\n",
              "            '<a target=\"_blank\" href=https://colab.research.google.com/notebooks/data_table.ipynb>data table notebook</a>'\n",
              "            + ' to learn more about interactive tables.';\n",
              "          element.innerHTML = '';\n",
              "          dataTable['output_type'] = 'display_data';\n",
              "          await google.colab.output.renderOutput(dataTable, element);\n",
              "          const docLink = document.createElement('div');\n",
              "          docLink.innerHTML = docLinkHtml;\n",
              "          element.appendChild(docLink);\n",
              "        }\n",
              "      </script>\n",
              "    </div>\n",
              "  </div>\n",
              "  "
            ]
          },
          "metadata": {},
          "execution_count": 11
        }
      ],
      "source": [
        "# 金融機関のデータにクラスター番号のデータを結合\n",
        "bank_with_cluster = pd.concat([bank, labels], axis=1)\n",
        "\n",
        "# 先頭の5行を表示\n",
        "bank_with_cluster.head()"
      ]
    },
    {
      "cell_type": "code",
      "execution_count": 12,
      "metadata": {
        "id": "-tD4U8E11aFy",
        "colab": {
          "base_uri": "https://localhost:8080/",
          "height": 269
        },
        "outputId": "2451b049-4ac8-4b6c-b13c-95248450bc13"
      },
      "outputs": [
        {
          "output_type": "execute_result",
          "data": {
            "text/plain": [
              "age             [15, 20)  [20, 25)  [25, 30)  [30, 35)  [35, 40)  [40, 45)  \\\n",
              "cluster_number                                                               \n",
              "0                     45       711      4024      8492      7146      4091   \n",
              "1                      0         3        10        37        25        26   \n",
              "2                      0        14       152       497       517       460   \n",
              "3                      0        20       132       327       308       187   \n",
              "4                      0         0         0         0         0      1155   \n",
              "5                      2        14       146       387       353       266   \n",
              "\n",
              "age             [45, 50)  [50, 55)  [55, 60)  [60, 65)  [65, 100)  \n",
              "cluster_number                                                     \n",
              "0                      0         0         0         0          0  \n",
              "1                     27        30        38        11         14  \n",
              "2                    375       306       263        63         37  \n",
              "3                    146       117        71        38         34  \n",
              "4                   4701      3885      3436       838        719  \n",
              "5                    221       150       114        24          6  "
            ],
            "text/html": [
              "\n",
              "  <div id=\"df-fb69678b-80c7-4922-acf8-852fd9d88511\">\n",
              "    <div class=\"colab-df-container\">\n",
              "      <div>\n",
              "<style scoped>\n",
              "    .dataframe tbody tr th:only-of-type {\n",
              "        vertical-align: middle;\n",
              "    }\n",
              "\n",
              "    .dataframe tbody tr th {\n",
              "        vertical-align: top;\n",
              "    }\n",
              "\n",
              "    .dataframe thead th {\n",
              "        text-align: right;\n",
              "    }\n",
              "</style>\n",
              "<table border=\"1\" class=\"dataframe\">\n",
              "  <thead>\n",
              "    <tr style=\"text-align: right;\">\n",
              "      <th>age</th>\n",
              "      <th>[15, 20)</th>\n",
              "      <th>[20, 25)</th>\n",
              "      <th>[25, 30)</th>\n",
              "      <th>[30, 35)</th>\n",
              "      <th>[35, 40)</th>\n",
              "      <th>[40, 45)</th>\n",
              "      <th>[45, 50)</th>\n",
              "      <th>[50, 55)</th>\n",
              "      <th>[55, 60)</th>\n",
              "      <th>[60, 65)</th>\n",
              "      <th>[65, 100)</th>\n",
              "    </tr>\n",
              "    <tr>\n",
              "      <th>cluster_number</th>\n",
              "      <th></th>\n",
              "      <th></th>\n",
              "      <th></th>\n",
              "      <th></th>\n",
              "      <th></th>\n",
              "      <th></th>\n",
              "      <th></th>\n",
              "      <th></th>\n",
              "      <th></th>\n",
              "      <th></th>\n",
              "      <th></th>\n",
              "    </tr>\n",
              "  </thead>\n",
              "  <tbody>\n",
              "    <tr>\n",
              "      <th>0</th>\n",
              "      <td>45</td>\n",
              "      <td>711</td>\n",
              "      <td>4024</td>\n",
              "      <td>8492</td>\n",
              "      <td>7146</td>\n",
              "      <td>4091</td>\n",
              "      <td>0</td>\n",
              "      <td>0</td>\n",
              "      <td>0</td>\n",
              "      <td>0</td>\n",
              "      <td>0</td>\n",
              "    </tr>\n",
              "    <tr>\n",
              "      <th>1</th>\n",
              "      <td>0</td>\n",
              "      <td>3</td>\n",
              "      <td>10</td>\n",
              "      <td>37</td>\n",
              "      <td>25</td>\n",
              "      <td>26</td>\n",
              "      <td>27</td>\n",
              "      <td>30</td>\n",
              "      <td>38</td>\n",
              "      <td>11</td>\n",
              "      <td>14</td>\n",
              "    </tr>\n",
              "    <tr>\n",
              "      <th>2</th>\n",
              "      <td>0</td>\n",
              "      <td>14</td>\n",
              "      <td>152</td>\n",
              "      <td>497</td>\n",
              "      <td>517</td>\n",
              "      <td>460</td>\n",
              "      <td>375</td>\n",
              "      <td>306</td>\n",
              "      <td>263</td>\n",
              "      <td>63</td>\n",
              "      <td>37</td>\n",
              "    </tr>\n",
              "    <tr>\n",
              "      <th>3</th>\n",
              "      <td>0</td>\n",
              "      <td>20</td>\n",
              "      <td>132</td>\n",
              "      <td>327</td>\n",
              "      <td>308</td>\n",
              "      <td>187</td>\n",
              "      <td>146</td>\n",
              "      <td>117</td>\n",
              "      <td>71</td>\n",
              "      <td>38</td>\n",
              "      <td>34</td>\n",
              "    </tr>\n",
              "    <tr>\n",
              "      <th>4</th>\n",
              "      <td>0</td>\n",
              "      <td>0</td>\n",
              "      <td>0</td>\n",
              "      <td>0</td>\n",
              "      <td>0</td>\n",
              "      <td>1155</td>\n",
              "      <td>4701</td>\n",
              "      <td>3885</td>\n",
              "      <td>3436</td>\n",
              "      <td>838</td>\n",
              "      <td>719</td>\n",
              "    </tr>\n",
              "    <tr>\n",
              "      <th>5</th>\n",
              "      <td>2</td>\n",
              "      <td>14</td>\n",
              "      <td>146</td>\n",
              "      <td>387</td>\n",
              "      <td>353</td>\n",
              "      <td>266</td>\n",
              "      <td>221</td>\n",
              "      <td>150</td>\n",
              "      <td>114</td>\n",
              "      <td>24</td>\n",
              "      <td>6</td>\n",
              "    </tr>\n",
              "  </tbody>\n",
              "</table>\n",
              "</div>\n",
              "      <button class=\"colab-df-convert\" onclick=\"convertToInteractive('df-fb69678b-80c7-4922-acf8-852fd9d88511')\"\n",
              "              title=\"Convert this dataframe to an interactive table.\"\n",
              "              style=\"display:none;\">\n",
              "        \n",
              "  <svg xmlns=\"http://www.w3.org/2000/svg\" height=\"24px\"viewBox=\"0 0 24 24\"\n",
              "       width=\"24px\">\n",
              "    <path d=\"M0 0h24v24H0V0z\" fill=\"none\"/>\n",
              "    <path d=\"M18.56 5.44l.94 2.06.94-2.06 2.06-.94-2.06-.94-.94-2.06-.94 2.06-2.06.94zm-11 1L8.5 8.5l.94-2.06 2.06-.94-2.06-.94L8.5 2.5l-.94 2.06-2.06.94zm10 10l.94 2.06.94-2.06 2.06-.94-2.06-.94-.94-2.06-.94 2.06-2.06.94z\"/><path d=\"M17.41 7.96l-1.37-1.37c-.4-.4-.92-.59-1.43-.59-.52 0-1.04.2-1.43.59L10.3 9.45l-7.72 7.72c-.78.78-.78 2.05 0 2.83L4 21.41c.39.39.9.59 1.41.59.51 0 1.02-.2 1.41-.59l7.78-7.78 2.81-2.81c.8-.78.8-2.07 0-2.86zM5.41 20L4 18.59l7.72-7.72 1.47 1.35L5.41 20z\"/>\n",
              "  </svg>\n",
              "      </button>\n",
              "      \n",
              "  <style>\n",
              "    .colab-df-container {\n",
              "      display:flex;\n",
              "      flex-wrap:wrap;\n",
              "      gap: 12px;\n",
              "    }\n",
              "\n",
              "    .colab-df-convert {\n",
              "      background-color: #E8F0FE;\n",
              "      border: none;\n",
              "      border-radius: 50%;\n",
              "      cursor: pointer;\n",
              "      display: none;\n",
              "      fill: #1967D2;\n",
              "      height: 32px;\n",
              "      padding: 0 0 0 0;\n",
              "      width: 32px;\n",
              "    }\n",
              "\n",
              "    .colab-df-convert:hover {\n",
              "      background-color: #E2EBFA;\n",
              "      box-shadow: 0px 1px 2px rgba(60, 64, 67, 0.3), 0px 1px 3px 1px rgba(60, 64, 67, 0.15);\n",
              "      fill: #174EA6;\n",
              "    }\n",
              "\n",
              "    [theme=dark] .colab-df-convert {\n",
              "      background-color: #3B4455;\n",
              "      fill: #D2E3FC;\n",
              "    }\n",
              "\n",
              "    [theme=dark] .colab-df-convert:hover {\n",
              "      background-color: #434B5C;\n",
              "      box-shadow: 0px 1px 3px 1px rgba(0, 0, 0, 0.15);\n",
              "      filter: drop-shadow(0px 1px 2px rgba(0, 0, 0, 0.3));\n",
              "      fill: #FFFFFF;\n",
              "    }\n",
              "  </style>\n",
              "\n",
              "      <script>\n",
              "        const buttonEl =\n",
              "          document.querySelector('#df-fb69678b-80c7-4922-acf8-852fd9d88511 button.colab-df-convert');\n",
              "        buttonEl.style.display =\n",
              "          google.colab.kernel.accessAllowed ? 'block' : 'none';\n",
              "\n",
              "        async function convertToInteractive(key) {\n",
              "          const element = document.querySelector('#df-fb69678b-80c7-4922-acf8-852fd9d88511');\n",
              "          const dataTable =\n",
              "            await google.colab.kernel.invokeFunction('convertToInteractive',\n",
              "                                                     [key], {});\n",
              "          if (!dataTable) return;\n",
              "\n",
              "          const docLinkHtml = 'Like what you see? Visit the ' +\n",
              "            '<a target=\"_blank\" href=https://colab.research.google.com/notebooks/data_table.ipynb>data table notebook</a>'\n",
              "            + ' to learn more about interactive tables.';\n",
              "          element.innerHTML = '';\n",
              "          dataTable['output_type'] = 'display_data';\n",
              "          await google.colab.output.renderOutput(dataTable, element);\n",
              "          const docLink = document.createElement('div');\n",
              "          docLink.innerHTML = docLinkHtml;\n",
              "          element.appendChild(docLink);\n",
              "        }\n",
              "      </script>\n",
              "    </div>\n",
              "  </div>\n",
              "  "
            ]
          },
          "metadata": {},
          "execution_count": 12
        }
      ],
      "source": [
        "# 分割のための区切りを設定\n",
        "bins = [15,20,25,30,35,40,45,50,55,60,65,100]\n",
        "\n",
        "# 上の区切りをもとに金融機関のデータを分割し、qcut_age変数に各データの年齢層を設定\n",
        "qcut_age = pd.cut(bank_with_cluster.age, bins, right=False)\n",
        "\n",
        "# クラスタ番号と年齢層を結合\n",
        "df = pd.concat([bank_with_cluster.cluster_number, qcut_age], axis=1)\n",
        "\n",
        "# クラスタ番号と年齢層を軸に集計し、年齢層を列に設定\n",
        "cross_cluster_age = df.groupby(['cluster_number', 'age']).size().unstack().fillna(0)\n",
        "cross_cluster_age"
      ]
    },
    {
      "cell_type": "code",
      "execution_count": 13,
      "metadata": {
        "id": "Pt4hEEPd1aFz",
        "colab": {
          "base_uri": "https://localhost:8080/"
        },
        "outputId": "d33f0ecd-a7a1-4acd-be01-f678c4ff097d"
      },
      "outputs": [
        {
          "output_type": "execute_result",
          "data": {
            "text/plain": [
              "[30, 35)     9740\n",
              "[35, 40)     8349\n",
              "[40, 45)     6185\n",
              "[45, 50)     5470\n",
              "[50, 55)     4488\n",
              "[25, 30)     4464\n",
              "[55, 60)     3922\n",
              "[60, 65)      974\n",
              "[65, 100)     810\n",
              "[20, 25)      762\n",
              "[15, 20)       47\n",
              "Name: age, dtype: int64"
            ]
          },
          "metadata": {},
          "execution_count": 13
        }
      ],
      "source": [
        "# 分割したデータ数をカウント\n",
        "hist_age = pd.value_counts(qcut_age)\n",
        "hist_age"
      ]
    },
    {
      "cell_type": "code",
      "execution_count": 14,
      "metadata": {
        "id": "4AX5usin1aF2",
        "colab": {
          "base_uri": "https://localhost:8080/",
          "height": 333
        },
        "outputId": "c768139c-dbbc-4183-8571-076c9a68b179"
      },
      "outputs": [
        {
          "output_type": "execute_result",
          "data": {
            "text/plain": [
              "<matplotlib.axes._subplots.AxesSubplot at 0x7ff7a6332690>"
            ]
          },
          "metadata": {},
          "execution_count": 14
        },
        {
          "output_type": "display_data",
          "data": {
            "text/plain": [
              "<Figure size 432x288 with 2 Axes>"
            ],
            "image/png": "[encoded data removed]"
          },
          "metadata": {
            "needs_background": "light"
          }
        }
      ],
      "source": [
        "sns.heatmap(cross_cluster_age.apply(lambda x : x/x.sum(), axis=1), cmap='Blues')"
      ]
    },
    {
      "cell_type": "code",
      "execution_count": 15,
      "metadata": {
        "id": "EslP6cvq1aF4",
        "colab": {
          "base_uri": "https://localhost:8080/",
          "height": 330
        },
        "outputId": "836eea97-0933-4137-f058-1559a38d2559"
      },
      "outputs": [
        {
          "output_type": "execute_result",
          "data": {
            "text/plain": [
              "job             admin.  blue-collar  entrepreneur  housemaid  management  \\\n",
              "cluster_number                                                             \n",
              "0                 3097         5610           728        426        5130   \n",
              "1                   15           12            19          7          91   \n",
              "2                  219          459            91         70         788   \n",
              "3                  196          244            42         22         332   \n",
              "4                 1467         3040           543        675        2732   \n",
              "5                  177          367            64         40         385   \n",
              "\n",
              "job             retired  self-employed  services  student  technician  \\\n",
              "cluster_number                                                          \n",
              "0                    57            852      2564      813        4459   \n",
              "1                    24             11         9        3          21   \n",
              "2                   111            130       189       48         460   \n",
              "3                    53             41       112       52         250   \n",
              "4                  1984            479      1124        4        2084   \n",
              "5                    35             66       156       18         323   \n",
              "\n",
              "job             unemployed  unknown  \n",
              "cluster_number                       \n",
              "0                      698       75  \n",
              "1                        6        3  \n",
              "2                       99       20  \n",
              "3                       31        5  \n",
              "4                      439      163  \n",
              "5                       30       22  "
            ],
            "text/html": [
              "\n",
              "  <div id=\"df-21ef0f99-e92b-48fc-acde-44fee1013bf3\">\n",
              "    <div class=\"colab-df-container\">\n",
              "      <div>\n",
              "<style scoped>\n",
              "    .dataframe tbody tr th:only-of-type {\n",
              "        vertical-align: middle;\n",
              "    }\n",
              "\n",
              "    .dataframe tbody tr th {\n",
              "        vertical-align: top;\n",
              "    }\n",
              "\n",
              "    .dataframe thead th {\n",
              "        text-align: right;\n",
              "    }\n",
              "</style>\n",
              "<table border=\"1\" class=\"dataframe\">\n",
              "  <thead>\n",
              "    <tr style=\"text-align: right;\">\n",
              "      <th>job</th>\n",
              "      <th>admin.</th>\n",
              "      <th>blue-collar</th>\n",
              "      <th>entrepreneur</th>\n",
              "      <th>housemaid</th>\n",
              "      <th>management</th>\n",
              "      <th>retired</th>\n",
              "      <th>self-employed</th>\n",
              "      <th>services</th>\n",
              "      <th>student</th>\n",
              "      <th>technician</th>\n",
              "      <th>unemployed</th>\n",
              "      <th>unknown</th>\n",
              "    </tr>\n",
              "    <tr>\n",
              "      <th>cluster_number</th>\n",
              "      <th></th>\n",
              "      <th></th>\n",
              "      <th></th>\n",
              "      <th></th>\n",
              "      <th></th>\n",
              "      <th></th>\n",
              "      <th></th>\n",
              "      <th></th>\n",
              "      <th></th>\n",
              "      <th></th>\n",
              "      <th></th>\n",
              "      <th></th>\n",
              "    </tr>\n",
              "  </thead>\n",
              "  <tbody>\n",
              "    <tr>\n",
              "      <th>0</th>\n",
              "      <td>3097</td>\n",
              "      <td>5610</td>\n",
              "      <td>728</td>\n",
              "      <td>426</td>\n",
              "      <td>5130</td>\n",
              "      <td>57</td>\n",
              "      <td>852</td>\n",
              "      <td>2564</td>\n",
              "      <td>813</td>\n",
              "      <td>4459</td>\n",
              "      <td>698</td>\n",
              "      <td>75</td>\n",
              "    </tr>\n",
              "    <tr>\n",
              "      <th>1</th>\n",
              "      <td>15</td>\n",
              "      <td>12</td>\n",
              "      <td>19</td>\n",
              "      <td>7</td>\n",
              "      <td>91</td>\n",
              "      <td>24</td>\n",
              "      <td>11</td>\n",
              "      <td>9</td>\n",
              "      <td>3</td>\n",
              "      <td>21</td>\n",
              "      <td>6</td>\n",
              "      <td>3</td>\n",
              "    </tr>\n",
              "    <tr>\n",
              "      <th>2</th>\n",
              "      <td>219</td>\n",
              "      <td>459</td>\n",
              "      <td>91</td>\n",
              "      <td>70</td>\n",
              "      <td>788</td>\n",
              "      <td>111</td>\n",
              "      <td>130</td>\n",
              "      <td>189</td>\n",
              "      <td>48</td>\n",
              "      <td>460</td>\n",
              "      <td>99</td>\n",
              "      <td>20</td>\n",
              "    </tr>\n",
              "    <tr>\n",
              "      <th>3</th>\n",
              "      <td>196</td>\n",
              "      <td>244</td>\n",
              "      <td>42</td>\n",
              "      <td>22</td>\n",
              "      <td>332</td>\n",
              "      <td>53</td>\n",
              "      <td>41</td>\n",
              "      <td>112</td>\n",
              "      <td>52</td>\n",
              "      <td>250</td>\n",
              "      <td>31</td>\n",
              "      <td>5</td>\n",
              "    </tr>\n",
              "    <tr>\n",
              "      <th>4</th>\n",
              "      <td>1467</td>\n",
              "      <td>3040</td>\n",
              "      <td>543</td>\n",
              "      <td>675</td>\n",
              "      <td>2732</td>\n",
              "      <td>1984</td>\n",
              "      <td>479</td>\n",
              "      <td>1124</td>\n",
              "      <td>4</td>\n",
              "      <td>2084</td>\n",
              "      <td>439</td>\n",
              "      <td>163</td>\n",
              "    </tr>\n",
              "    <tr>\n",
              "      <th>5</th>\n",
              "      <td>177</td>\n",
              "      <td>367</td>\n",
              "      <td>64</td>\n",
              "      <td>40</td>\n",
              "      <td>385</td>\n",
              "      <td>35</td>\n",
              "      <td>66</td>\n",
              "      <td>156</td>\n",
              "      <td>18</td>\n",
              "      <td>323</td>\n",
              "      <td>30</td>\n",
              "      <td>22</td>\n",
              "    </tr>\n",
              "  </tbody>\n",
              "</table>\n",
              "</div>\n",
              "      <button class=\"colab-df-convert\" onclick=\"convertToInteractive('df-21ef0f99-e92b-48fc-acde-44fee1013bf3')\"\n",
              "              title=\"Convert this dataframe to an interactive table.\"\n",
              "              style=\"display:none;\">\n",
              "        \n",
              "  <svg xmlns=\"http://www.w3.org/2000/svg\" height=\"24px\"viewBox=\"0 0 24 24\"\n",
              "       width=\"24px\">\n",
              "    <path d=\"M0 0h24v24H0V0z\" fill=\"none\"/>\n",
              "    <path d=\"M18.56 5.44l.94 2.06.94-2.06 2.06-.94-2.06-.94-.94-2.06-.94 2.06-2.06.94zm-11 1L8.5 8.5l.94-2.06 2.06-.94-2.06-.94L8.5 2.5l-.94 2.06-2.06.94zm10 10l.94 2.06.94-2.06 2.06-.94-2.06-.94-.94-2.06-.94 2.06-2.06.94z\"/><path d=\"M17.41 7.96l-1.37-1.37c-.4-.4-.92-.59-1.43-.59-.52 0-1.04.2-1.43.59L10.3 9.45l-7.72 7.72c-.78.78-.78 2.05 0 2.83L4 21.41c.39.39.9.59 1.41.59.51 0 1.02-.2 1.41-.59l7.78-7.78 2.81-2.81c.8-.78.8-2.07 0-2.86zM5.41 20L4 18.59l7.72-7.72 1.47 1.35L5.41 20z\"/>\n",
              "  </svg>\n",
              "      </button>\n",
              "      \n",
              "  <style>\n",
              "    .colab-df-container {\n",
              "      display:flex;\n",
              "      flex-wrap:wrap;\n",
              "      gap: 12px;\n",
              "    }\n",
              "\n",
              "    .colab-df-convert {\n",
              "      background-color: #E8F0FE;\n",
              "      border: none;\n",
              "      border-radius: 50%;\n",
              "      cursor: pointer;\n",
              "      display: none;\n",
              "      fill: #1967D2;\n",
              "      height: 32px;\n",
              "      padding: 0 0 0 0;\n",
              "      width: 32px;\n",
              "    }\n",
              "\n",
              "    .colab-df-convert:hover {\n",
              "      background-color: #E2EBFA;\n",
              "      box-shadow: 0px 1px 2px rgba(60, 64, 67, 0.3), 0px 1px 3px 1px rgba(60, 64, 67, 0.15);\n",
              "      fill: #174EA6;\n",
              "    }\n",
              "\n",
              "    [theme=dark] .colab-df-convert {\n",
              "      background-color: #3B4455;\n",
              "      fill: #D2E3FC;\n",
              "    }\n",
              "\n",
              "    [theme=dark] .colab-df-convert:hover {\n",
              "      background-color: #434B5C;\n",
              "      box-shadow: 0px 1px 3px 1px rgba(0, 0, 0, 0.15);\n",
              "      filter: drop-shadow(0px 1px 2px rgba(0, 0, 0, 0.3));\n",
              "      fill: #FFFFFF;\n",
              "    }\n",
              "  </style>\n",
              "\n",
              "      <script>\n",
              "        const buttonEl =\n",
              "          document.querySelector('#df-21ef0f99-e92b-48fc-acde-44fee1013bf3 button.colab-df-convert');\n",
              "        buttonEl.style.display =\n",
              "          google.colab.kernel.accessAllowed ? 'block' : 'none';\n",
              "\n",
              "        async function convertToInteractive(key) {\n",
              "          const element = document.querySelector('#df-21ef0f99-e92b-48fc-acde-44fee1013bf3');\n",
              "          const dataTable =\n",
              "            await google.colab.kernel.invokeFunction('convertToInteractive',\n",
              "                                                     [key], {});\n",
              "          if (!dataTable) return;\n",
              "\n",
              "          const docLinkHtml = 'Like what you see? Visit the ' +\n",
              "            '<a target=\"_blank\" href=https://colab.research.google.com/notebooks/data_table.ipynb>data table notebook</a>'\n",
              "            + ' to learn more about interactive tables.';\n",
              "          element.innerHTML = '';\n",
              "          dataTable['output_type'] = 'display_data';\n",
              "          await google.colab.output.renderOutput(dataTable, element);\n",
              "          const docLink = document.createElement('div');\n",
              "          docLink.innerHTML = docLinkHtml;\n",
              "          element.appendChild(docLink);\n",
              "        }\n",
              "      </script>\n",
              "    </div>\n",
              "  </div>\n",
              "  "
            ]
          },
          "metadata": {},
          "execution_count": 15
        }
      ],
      "source": [
        "cross_cluster_job = bank_with_cluster.groupby(['cluster_number', 'job']).size().unstack().fillna(0)\n",
        "cross_cluster_job"
      ]
    },
    {
      "cell_type": "code",
      "execution_count": 16,
      "metadata": {
        "id": "rVKmjrgw1aF5",
        "colab": {
          "base_uri": "https://localhost:8080/",
          "height": 358
        },
        "outputId": "a72b4c36-3a4d-4a83-d39f-b328d5cc6dc2"
      },
      "outputs": [
        {
          "output_type": "execute_result",
          "data": {
            "text/plain": [
              "<matplotlib.axes._subplots.AxesSubplot at 0x7ff7a41b1790>"
            ]
          },
          "metadata": {},
          "execution_count": 16
        },
        {
          "output_type": "display_data",
          "data": {
            "text/plain": [
              "<Figure size 432x288 with 2 Axes>"
            ],
            "image/png": "[encoded data removed]"
          },
          "metadata": {
            "needs_background": "light"
          }
        }
      ],
      "source": [
        "sns.heatmap(cross_cluster_job.apply(lambda x : x/x.sum(), axis=1),cmap='Reds')"
      ]
    },
    {
      "cell_type": "code",
      "execution_count": 17,
      "metadata": {
        "scrolled": false,
        "id": "5qcZFZtf1aGR",
        "colab": {
          "base_uri": "https://localhost:8080/",
          "height": 301
        },
        "outputId": "fbe6d705-5a69-4788-b874-92bfbd24d216"
      },
      "outputs": [
        {
          "output_type": "stream",
          "name": "stdout",
          "text": [
            "相関係数0.889:\n"
          ]
        },
        {
          "output_type": "execute_result",
          "data": {
            "text/plain": [
              "<matplotlib.collections.PathCollection at 0x7ff7a404e7d0>"
            ]
          },
          "metadata": {},
          "execution_count": 17
        },
        {
          "output_type": "display_data",
          "data": {
            "text/plain": [
              "<Figure size 432x288 with 1 Axes>"
            ],
            "image/png": "[encoded data removed]"
          },
          "metadata": {
            "needs_background": "light"
          }
        }
      ],
      "source": [
        "from sklearn.preprocessing import StandardScaler\n",
        "\n",
        "# RandomStateオブジェクトを作成\n",
        "sample = np.random.RandomState(1)\n",
        "\n",
        "#２つの乱数を生成\n",
        "X = np.dot(sample.rand(2, 2), sample.randn(2, 200)).T\n",
        "\n",
        "# 標準化\n",
        "sc = StandardScaler()\n",
        "X_std = sc.fit_transform(X)\n",
        "\n",
        "# 相関係数の算出とグラフ化\n",
        "print('相関係数{:.3f}:'.format(sp.stats.pearsonr(X_std[:, 0], X_std[:, 1])[0]))\n",
        "plt.scatter(X_std[:, 0], X_std[:, 1])"
      ]
    },
    {
      "cell_type": "code",
      "execution_count": 18,
      "metadata": {
        "id": "Iwy1i6fZ1aGT",
        "colab": {
          "base_uri": "https://localhost:8080/"
        },
        "outputId": "9abd394a-4867-445b-d615-2024f8bc4e33"
      },
      "outputs": [
        {
          "output_type": "execute_result",
          "data": {
            "text/plain": [
              "PCA(n_components=2)"
            ]
          },
          "metadata": {},
          "execution_count": 18
        }
      ],
      "source": [
        "# インポート\n",
        "from sklearn.decomposition import PCA\n",
        "\n",
        "# 主成分分析\n",
        "pca = PCA(n_components=2)\n",
        "pca.fit(X_std)"
      ]
    },
    {
      "cell_type": "code",
      "execution_count": 19,
      "metadata": {
        "scrolled": true,
        "id": "YfW7In7c1aGZ",
        "colab": {
          "base_uri": "https://localhost:8080/"
        },
        "outputId": "6676818d-6ded-4183-82a2-40a23e65947b"
      },
      "outputs": [
        {
          "output_type": "stream",
          "name": "stdout",
          "text": [
            "[[-0.707 -0.707]\n",
            " [-0.707  0.707]]\n"
          ]
        }
      ],
      "source": [
        "print(pca.components_)"
      ]
    },
    {
      "cell_type": "code",
      "execution_count": 20,
      "metadata": {
        "id": "lAVOY90f1aGb",
        "colab": {
          "base_uri": "https://localhost:8080/"
        },
        "outputId": "5f7b543b-e08e-445b-9cf5-abcd1914b00c"
      },
      "outputs": [
        {
          "output_type": "stream",
          "name": "stdout",
          "text": [
            "各主成分の分散:[1.899 0.111]\n"
          ]
        }
      ],
      "source": [
        "print('各主成分の分散:{}'.format(pca.explained_variance_))"
      ]
    },
    {
      "cell_type": "code",
      "execution_count": 21,
      "metadata": {
        "scrolled": true,
        "id": "72CLGEhF1aGc",
        "colab": {
          "base_uri": "https://localhost:8080/"
        },
        "outputId": "adcfb045-94de-4e72-d278-4340ed4f131f"
      },
      "outputs": [
        {
          "output_type": "stream",
          "name": "stdout",
          "text": [
            "各主成分の分散割合:[0.945 0.055]\n"
          ]
        }
      ],
      "source": [
        "print('各主成分の分散割合:{}'.format(pca.explained_variance_ratio_))"
      ]
    },
    {
      "cell_type": "code",
      "execution_count": 22,
      "metadata": {
        "scrolled": true,
        "id": "fgcVUVZA1aGe",
        "colab": {
          "base_uri": "https://localhost:8080/",
          "height": 265
        },
        "outputId": "92b43e04-64ae-47ca-e92f-aa4ab55d949f"
      },
      "outputs": [
        {
          "output_type": "display_data",
          "data": {
            "text/plain": [
              "<Figure size 432x288 with 1 Axes>"
            ],
            "image/png": "[encoded data removed]"
          },
          "metadata": {
            "needs_background": "light"
          }
        }
      ],
      "source": [
        "# パラメータ設定\n",
        "arrowprops=dict(arrowstyle='->',\n",
        "                linewidth=2,\n",
        "                shrinkA=0, shrinkB=0)\n",
        "\n",
        "# 矢印を描くための関数\n",
        "def draw_vector(v0, v1):\n",
        "    plt.gca().annotate('', v1, v0, arrowprops=arrowprops)\n",
        "\n",
        "# 元のデータをプロット\n",
        "plt.scatter(X_std[:, 0], X_std[:, 1], alpha=0.2)\n",
        "\n",
        "# 主成分分析の2軸を矢印で表示する\n",
        "for length, vector in zip(pca.explained_variance_, pca.components_):\n",
        "    v = vector * 3 * np.sqrt(length)\n",
        "    draw_vector(pca.mean_, pca.mean_ + v)\n",
        "\n",
        "plt.axis('equal');"
      ]
    },
    {
      "cell_type": "code",
      "execution_count": 23,
      "metadata": {
        "id": "720O2BxH1aGm",
        "colab": {
          "base_uri": "https://localhost:8080/",
          "height": 1000
        },
        "outputId": "b488f8b8-ec28-4a02-94c1-307b70bf7a20"
      },
      "outputs": [
        {
          "output_type": "display_data",
          "data": {
            "text/plain": [
              "<Figure size 1440x1440 with 30 Axes>"
            ],
            "image/png": "[encoded data removed]"
          },
          "metadata": {
            "needs_background": "light"
          }
        }
      ],
      "source": [
        "# 乳がんデータを読み込むためのインポート\n",
        "from sklearn.datasets import load_breast_cancer\n",
        "\n",
        "# 乳がんデータの取得\n",
        "cancer = load_breast_cancer()\n",
        "\n",
        "# データをmalignant（悪性）かbenign（良性）に分けるためのフィルター処理\n",
        "# malignant（悪性）はcancer.targetが0\n",
        "malignant = cancer.data[cancer.target==0]\n",
        "\n",
        "# benign（良性）はcancer.targetが0\n",
        "benign = cancer.data[cancer.target==1]\n",
        "\n",
        "#　malignant（悪性）がブルー、benign（良性）がオレンジのヒストグラム\n",
        "# 各図は、各々の説明変数（mean radiusなど）と目的変数との関係を示したヒストグラム\n",
        "fig, axes = plt.subplots(6,5,figsize=(20,20))\n",
        "ax = axes.ravel()\n",
        "for i in range(30):\n",
        "    _,bins = np.histogram(cancer.data[:,i], bins=50)\n",
        "    ax[i].hist(malignant[:,i], bins, alpha=.5)\n",
        "    ax[i].hist(benign[:,i], bins, alpha=.5)\n",
        "    ax[i].set_title(cancer.feature_names[i])\n",
        "    ax[i].set_yticks(())\n",
        "    \n",
        "# ラベルの設定\n",
        "ax[0].set_ylabel('Count')\n",
        "ax[0].legend(['malignant','benign'],loc='best')\n",
        "fig.tight_layout()"
      ]
    },
    {
      "cell_type": "code",
      "execution_count": 24,
      "metadata": {
        "id": "DsCIZzYr1aGq",
        "colab": {
          "base_uri": "https://localhost:8080/"
        },
        "outputId": "5f7b07c3-be54-40a6-cf2c-e387a724af7b"
      },
      "outputs": [
        {
          "output_type": "stream",
          "name": "stdout",
          "text": [
            "X_pca shape:(569, 2)\n",
            "Explained variance ratio:[0.443 0.19 ]\n"
          ]
        }
      ],
      "source": [
        "# 標準化\n",
        "sc = StandardScaler()\n",
        "X_std = sc.fit_transform(cancer.data)\n",
        "\n",
        "# 主成分分析\n",
        "pca = PCA(n_components=2)\n",
        "pca.fit(X_std)\n",
        "X_pca = pca.transform(X_std)\n",
        "\n",
        "# 表示\n",
        "print('X_pca shape:{}'.format(X_pca.shape))\n",
        "print('Explained variance ratio:{}'.format(pca.explained_variance_ratio_))"
      ]
    },
    {
      "cell_type": "code",
      "execution_count": 25,
      "metadata": {
        "id": "h57OrjUC1aGs"
      },
      "outputs": [],
      "source": [
        "# 列にラベルをつける、1つ目が第1主成分、2つ目が第2主成分\n",
        "X_pca = pd.DataFrame(X_pca, columns=['pc1','pc2'])\n",
        "\n",
        "# 上のデータに、目的変数（cancer.target）を紐づける、横に結合\n",
        "X_pca = pd.concat([X_pca, pd.DataFrame(cancer.target, columns=['target'])], axis=1)\n",
        "\n",
        "# 悪性、良性を分ける\n",
        "pca_malignant = X_pca[X_pca['target']==0]\n",
        "pca_benign = X_pca[X_pca['target']==1]"
      ]
    },
    {
      "cell_type": "code",
      "execution_count": 26,
      "metadata": {
        "scrolled": true,
        "id": "X9Y3I3Je1aGt",
        "colab": {
          "base_uri": "https://localhost:8080/",
          "height": 279
        },
        "outputId": "c8dfacf3-6b1c-48cb-959f-45c320c3a184"
      },
      "outputs": [
        {
          "output_type": "display_data",
          "data": {
            "text/plain": [
              "<Figure size 432x288 with 1 Axes>"
            ],
            "image/png": "[encoded data removed]"
          },
          "metadata": {
            "needs_background": "light"
          }
        }
      ],
      "source": [
        "# 悪性をプロット\n",
        "ax = pca_malignant.plot.scatter(x='pc1', y='pc2', color='red', label='malignant');\n",
        "\n",
        "# 良性をプロット\n",
        "pca_benign.plot.scatter(x='pc1', y='pc2', color='blue', label='benign', ax=ax);"
      ]
    },
    {
      "cell_type": "code",
      "source": [
        "ls"
      ],
      "metadata": {
        "colab": {
          "base_uri": "https://localhost:8080/"
        },
        "id": "2DD5POdU8br_",
        "outputId": "a4ecc50b-a3df-49e8-b7bf-04ca8e79b5a6"
      },
      "execution_count": 61,
      "outputs": [
        {
          "output_type": "stream",
          "name": "stdout",
          "text": [
            " bank.csv   bank-full.csv   bank-names.txt  'Online Retail.xlsx'   \u001b[0m\u001b[01;34msample_data\u001b[0m/\n"
          ]
        }
      ]
    },
    {
      "cell_type": "code",
      "execution_count": 72,
      "metadata": {
        "id": "L9dB58cQ1aGv",
        "colab": {
          "base_uri": "https://localhost:8080/",
          "height": 206
        },
        "outputId": "7c8a0fdd-bbf1-4a1c-9b4c-21ad644ff45a"
      },
      "outputs": [
        {
          "output_type": "execute_result",
          "data": {
            "text/plain": [
              "  InvoiceNo StockCode                          Description  Quantity  \\\n",
              "0    536365    85123A   WHITE HANGING HEART T-LIGHT HOLDER         6   \n",
              "1    536365     71053                  WHITE METAL LANTERN         6   \n",
              "2    536365    84406B       CREAM CUPID HEARTS COAT HANGER         8   \n",
              "3    536365    84029G  KNITTED UNION FLAG HOT WATER BOTTLE         6   \n",
              "4    536365    84029E       RED WOOLLY HOTTIE WHITE HEART.         6   \n",
              "\n",
              "          InvoiceDate  UnitPrice  CustomerID         Country  \n",
              "0 2010-12-01 08:26:00       2.55     17850.0  United Kingdom  \n",
              "1 2010-12-01 08:26:00       3.39     17850.0  United Kingdom  \n",
              "2 2010-12-01 08:26:00       2.75     17850.0  United Kingdom  \n",
              "3 2010-12-01 08:26:00       3.39     17850.0  United Kingdom  \n",
              "4 2010-12-01 08:26:00       3.39     17850.0  United Kingdom  "
            ],
            "text/html": [
              "\n",
              "  <div id=\"df-a3589a55-35c6-40cc-8e1f-c7e6525cde43\">\n",
              "    <div class=\"colab-df-container\">\n",
              "      <div>\n",
              "<style scoped>\n",
              "    .dataframe tbody tr th:only-of-type {\n",
              "        vertical-align: middle;\n",
              "    }\n",
              "\n",
              "    .dataframe tbody tr th {\n",
              "        vertical-align: top;\n",
              "    }\n",
              "\n",
              "    .dataframe thead th {\n",
              "        text-align: right;\n",
              "    }\n",
              "</style>\n",
              "<table border=\"1\" class=\"dataframe\">\n",
              "  <thead>\n",
              "    <tr style=\"text-align: right;\">\n",
              "      <th></th>\n",
              "      <th>InvoiceNo</th>\n",
              "      <th>StockCode</th>\n",
              "      <th>Description</th>\n",
              "      <th>Quantity</th>\n",
              "      <th>InvoiceDate</th>\n",
              "      <th>UnitPrice</th>\n",
              "      <th>CustomerID</th>\n",
              "      <th>Country</th>\n",
              "    </tr>\n",
              "  </thead>\n",
              "  <tbody>\n",
              "    <tr>\n",
              "      <th>0</th>\n",
              "      <td>536365</td>\n",
              "      <td>85123A</td>\n",
              "      <td>WHITE HANGING HEART T-LIGHT HOLDER</td>\n",
              "      <td>6</td>\n",
              "      <td>2010-12-01 08:26:00</td>\n",
              "      <td>2.55</td>\n",
              "      <td>17850.0</td>\n",
              "      <td>United Kingdom</td>\n",
              "    </tr>\n",
              "    <tr>\n",
              "      <th>1</th>\n",
              "      <td>536365</td>\n",
              "      <td>71053</td>\n",
              "      <td>WHITE METAL LANTERN</td>\n",
              "      <td>6</td>\n",
              "      <td>2010-12-01 08:26:00</td>\n",
              "      <td>3.39</td>\n",
              "      <td>17850.0</td>\n",
              "      <td>United Kingdom</td>\n",
              "    </tr>\n",
              "    <tr>\n",
              "      <th>2</th>\n",
              "      <td>536365</td>\n",
              "      <td>84406B</td>\n",
              "      <td>CREAM CUPID HEARTS COAT HANGER</td>\n",
              "      <td>8</td>\n",
              "      <td>2010-12-01 08:26:00</td>\n",
              "      <td>2.75</td>\n",
              "      <td>17850.0</td>\n",
              "      <td>United Kingdom</td>\n",
              "    </tr>\n",
              "    <tr>\n",
              "      <th>3</th>\n",
              "      <td>536365</td>\n",
              "      <td>84029G</td>\n",
              "      <td>KNITTED UNION FLAG HOT WATER BOTTLE</td>\n",
              "      <td>6</td>\n",
              "      <td>2010-12-01 08:26:00</td>\n",
              "      <td>3.39</td>\n",
              "      <td>17850.0</td>\n",
              "      <td>United Kingdom</td>\n",
              "    </tr>\n",
              "    <tr>\n",
              "      <th>4</th>\n",
              "      <td>536365</td>\n",
              "      <td>84029E</td>\n",
              "      <td>RED WOOLLY HOTTIE WHITE HEART.</td>\n",
              "      <td>6</td>\n",
              "      <td>2010-12-01 08:26:00</td>\n",
              "      <td>3.39</td>\n",
              "      <td>17850.0</td>\n",
              "      <td>United Kingdom</td>\n",
              "    </tr>\n",
              "  </tbody>\n",
              "</table>\n",
              "</div>\n",
              "      <button class=\"colab-df-convert\" onclick=\"convertToInteractive('df-a3589a55-35c6-40cc-8e1f-c7e6525cde43')\"\n",
              "              title=\"Convert this dataframe to an interactive table.\"\n",
              "              style=\"display:none;\">\n",
              "        \n",
              "  <svg xmlns=\"http://www.w3.org/2000/svg\" height=\"24px\"viewBox=\"0 0 24 24\"\n",
              "       width=\"24px\">\n",
              "    <path d=\"M0 0h24v24H0V0z\" fill=\"none\"/>\n",
              "    <path d=\"M18.56 5.44l.94 2.06.94-2.06 2.06-.94-2.06-.94-.94-2.06-.94 2.06-2.06.94zm-11 1L8.5 8.5l.94-2.06 2.06-.94-2.06-.94L8.5 2.5l-.94 2.06-2.06.94zm10 10l.94 2.06.94-2.06 2.06-.94-2.06-.94-.94-2.06-.94 2.06-2.06.94z\"/><path d=\"M17.41 7.96l-1.37-1.37c-.4-.4-.92-.59-1.43-.59-.52 0-1.04.2-1.43.59L10.3 9.45l-7.72 7.72c-.78.78-.78 2.05 0 2.83L4 21.41c.39.39.9.59 1.41.59.51 0 1.02-.2 1.41-.59l7.78-7.78 2.81-2.81c.8-.78.8-2.07 0-2.86zM5.41 20L4 18.59l7.72-7.72 1.47 1.35L5.41 20z\"/>\n",
              "  </svg>\n",
              "      </button>\n",
              "      \n",
              "  <style>\n",
              "    .colab-df-container {\n",
              "      display:flex;\n",
              "      flex-wrap:wrap;\n",
              "      gap: 12px;\n",
              "    }\n",
              "\n",
              "    .colab-df-convert {\n",
              "      background-color: #E8F0FE;\n",
              "      border: none;\n",
              "      border-radius: 50%;\n",
              "      cursor: pointer;\n",
              "      display: none;\n",
              "      fill: #1967D2;\n",
              "      height: 32px;\n",
              "      padding: 0 0 0 0;\n",
              "      width: 32px;\n",
              "    }\n",
              "\n",
              "    .colab-df-convert:hover {\n",
              "      background-color: #E2EBFA;\n",
              "      box-shadow: 0px 1px 2px rgba(60, 64, 67, 0.3), 0px 1px 3px 1px rgba(60, 64, 67, 0.15);\n",
              "      fill: #174EA6;\n",
              "    }\n",
              "\n",
              "    [theme=dark] .colab-df-convert {\n",
              "      background-color: #3B4455;\n",
              "      fill: #D2E3FC;\n",
              "    }\n",
              "\n",
              "    [theme=dark] .colab-df-convert:hover {\n",
              "      background-color: #434B5C;\n",
              "      box-shadow: 0px 1px 3px 1px rgba(0, 0, 0, 0.15);\n",
              "      filter: drop-shadow(0px 1px 2px rgba(0, 0, 0, 0.3));\n",
              "      fill: #FFFFFF;\n",
              "    }\n",
              "  </style>\n",
              "\n",
              "      <script>\n",
              "        const buttonEl =\n",
              "          document.querySelector('#df-a3589a55-35c6-40cc-8e1f-c7e6525cde43 button.colab-df-convert');\n",
              "        buttonEl.style.display =\n",
              "          google.colab.kernel.accessAllowed ? 'block' : 'none';\n",
              "\n",
              "        async function convertToInteractive(key) {\n",
              "          const element = document.querySelector('#df-a3589a55-35c6-40cc-8e1f-c7e6525cde43');\n",
              "          const dataTable =\n",
              "            await google.colab.kernel.invokeFunction('convertToInteractive',\n",
              "                                                     [key], {});\n",
              "          if (!dataTable) return;\n",
              "\n",
              "          const docLinkHtml = 'Like what you see? Visit the ' +\n",
              "            '<a target=\"_blank\" href=https://colab.research.google.com/notebooks/data_table.ipynb>data table notebook</a>'\n",
              "            + ' to learn more about interactive tables.';\n",
              "          element.innerHTML = '';\n",
              "          dataTable['output_type'] = 'display_data';\n",
              "          await google.colab.output.renderOutput(dataTable, element);\n",
              "          const docLink = document.createElement('div');\n",
              "          docLink.innerHTML = docLinkHtml;\n",
              "          element.appendChild(docLink);\n",
              "        }\n",
              "      </script>\n",
              "    </div>\n",
              "  </div>\n",
              "  "
            ]
          },
          "metadata": {},
          "execution_count": 72
        }
      ],
      "source": [
        "trans = pd.read_excel('Online Retail.xlsx', sheet_name='Online Retail')\n",
        "trans.head()"
      ]
    },
    {
      "cell_type": "code",
      "execution_count": 73,
      "metadata": {
        "id": "vktmN4u0AYyG",
        "colab": {
          "base_uri": "https://localhost:8080/"
        },
        "outputId": "7af8e1b5-d232-4770-90cf-7b6fbc143fbb"
      },
      "outputs": [
        {
          "output_type": "execute_result",
          "data": {
            "text/plain": [
              "cancel_flg\n",
              "5    532618\n",
              "A         3\n",
              "C      9288\n",
              "dtype: int64"
            ]
          },
          "metadata": {},
          "execution_count": 73
        }
      ],
      "source": [
        "# InoivceNoの先頭1文字をcancel_flgとして追加\n",
        "trans['cancel_flg'] = trans.InvoiceNo.map(lambda x:str(x)[0])\n",
        "\n",
        "# cancel_flgでグルーピングして集計\n",
        "trans.groupby('cancel_flg').size()"
      ]
    },
    {
      "cell_type": "code",
      "execution_count": 74,
      "metadata": {
        "id": "eZA8_0OYAYyJ"
      },
      "outputs": [],
      "source": [
        "trans = trans[(trans.cancel_flg == '5') & (trans.CustomerID.notnull())]"
      ]
    },
    {
      "cell_type": "code",
      "execution_count": 75,
      "metadata": {
        "id": "Endyen47AYyM",
        "colab": {
          "base_uri": "https://localhost:8080/"
        },
        "outputId": "961747b8-eb0f-4530-8cfe-fb7ec5bbedb2"
      },
      "outputs": [
        {
          "output_type": "execute_result",
          "data": {
            "text/plain": [
              "85123A    2035\n",
              "22423     1724\n",
              "85099B    1618\n",
              "84879     1408\n",
              "47566     1397\n",
              "Name: StockCode, dtype: int64"
            ]
          },
          "metadata": {},
          "execution_count": 75
        }
      ],
      "source": [
        "# StockCodeごとに件数を数え、上位5件を表示\n",
        "trans['StockCode'].value_counts().head(5)"
      ]
    },
    {
      "cell_type": "code",
      "execution_count": 76,
      "metadata": {
        "id": "VHqD8oerAYyR",
        "colab": {
          "base_uri": "https://localhost:8080/"
        },
        "outputId": "c87c1637-e56d-4e48-e185-246b112c5baa"
      },
      "outputs": [
        {
          "output_type": "stream",
          "name": "stdout",
          "text": [
            "1978\n",
            "1600\n",
            "252\n"
          ]
        }
      ],
      "source": [
        "# すべてのInvoiceNoをtrans_allとして抽出\n",
        "trans_all = set(trans.InvoiceNo) \n",
        "\n",
        "# 商品85123Aを購入したデータをtrans_aとする\n",
        "trans_a = set(trans[trans['StockCode']=='85123A'].InvoiceNo)\n",
        "print(len(trans_a))\n",
        "\n",
        "# 商品85099Bを購入したデータをtrans_bとする\n",
        "trans_b = set(trans[trans['StockCode']=='85099B'].InvoiceNo)\n",
        "print(len(trans_b))\n",
        "\n",
        "# 商品85123Aおよび85099Bを購入したデータをtrans_abとする\n",
        "trans_ab = trans_a&trans_b\n",
        "print(len(trans_ab))"
      ]
    },
    {
      "cell_type": "code",
      "execution_count": 77,
      "metadata": {
        "id": "-l6sJLKLAYyS",
        "colab": {
          "base_uri": "https://localhost:8080/"
        },
        "outputId": "cba6e09c-2d09-4b5b-fe59-6fd46cafa424"
      },
      "outputs": [
        {
          "output_type": "stream",
          "name": "stdout",
          "text": [
            "両商品を含むバスケットの数:252\n",
            "両商品を含むバスケットの全体に占める割合:0.014\n"
          ]
        }
      ],
      "source": [
        "# trans_ab の、両商品を含むバスケットの数を表示\n",
        "print('両商品を含むバスケットの数:{}'.format(len(trans_ab)))\n",
        "print('両商品を含むバスケットの全体に占める割合:{:.3f}'.format(len(trans_ab)/len(trans_all)))"
      ]
    },
    {
      "cell_type": "code",
      "execution_count": 78,
      "metadata": {
        "id": "LUpO4Wz6AYyT",
        "colab": {
          "base_uri": "https://localhost:8080/"
        },
        "outputId": "c26943ec-86b4-4e74-80ad-ad7dc9e7ff7c"
      },
      "outputs": [
        {
          "output_type": "stream",
          "name": "stdout",
          "text": [
            "商品85123Aのバスケットの数:1978\n",
            "商品85123Aを含むバスケットの全体に占める割合:0.107\n"
          ]
        }
      ],
      "source": [
        "print('商品85123Aのバスケットの数:{}'.format(len(trans_a)))\n",
        "print('商品85123Aを含むバスケットの全体に占める割合:{:.3f}'.format(len(trans_a)/len(trans_all)))"
      ]
    },
    {
      "cell_type": "code",
      "execution_count": 79,
      "metadata": {
        "id": "zcRsCdZMAYyV",
        "colab": {
          "base_uri": "https://localhost:8080/"
        },
        "outputId": "e2a4c64f-474b-4c65-83b0-3ea807eee4ab"
      },
      "outputs": [
        {
          "output_type": "stream",
          "name": "stdout",
          "text": [
            "確信度:0.127\n"
          ]
        }
      ],
      "source": [
        "print('確信度:{:.3f}'.format(len(trans_ab)/len(trans_a)))"
      ]
    },
    {
      "cell_type": "code",
      "execution_count": 80,
      "metadata": {
        "id": "nu_5hMA0AYyW",
        "colab": {
          "base_uri": "https://localhost:8080/"
        },
        "outputId": "fc7f46dc-43f4-4111-e75f-d281a2451689"
      },
      "outputs": [
        {
          "output_type": "stream",
          "name": "stdout",
          "text": [
            "確信度:0.158\n"
          ]
        }
      ],
      "source": [
        "print('確信度:{:.3f}'.format(len(trans_ab)/len(trans_b)))"
      ]
    },
    {
      "cell_type": "code",
      "execution_count": 81,
      "metadata": {
        "id": "oC_A0x8WAYya",
        "colab": {
          "base_uri": "https://localhost:8080/"
        },
        "outputId": "edf33243-42fe-4f38-d4d0-f1ea7c15b664"
      },
      "outputs": [
        {
          "output_type": "stream",
          "name": "stdout",
          "text": [
            "lift:1.476\n"
          ]
        }
      ],
      "source": [
        "# 全体のバスケットに占める商品Bの購買率を計算\n",
        "support_b = len(trans_b) / len(trans_all)\n",
        "\n",
        "# 商品Aを購買したときの商品Bの購買率を計算\n",
        "confidence = len(trans_ab) / len(trans_a)\n",
        "\n",
        "# リスト値を計算\n",
        "lift = confidence / support_b\n",
        "print('lift:{:.3f}'.format(lift))"
      ]
    },
    {
      "cell_type": "code",
      "execution_count": 63,
      "metadata": {
        "id": "JqxAhPTc_OrG",
        "colab": {
          "base_uri": "https://localhost:8080/",
          "height": 36
        },
        "outputId": "6dac1a2a-b377-4a5b-9923-ffa93e26ac5c"
      },
      "outputs": [
        {
          "output_type": "execute_result",
          "data": {
            "text/plain": [
              "'%.3f'"
            ],
            "application/vnd.google.colaboratory.intrinsic+json": {
              "type": "string"
            }
          },
          "metadata": {},
          "execution_count": 63
        }
      ],
      "source": [
        "# 途中で使用するため、あらかじめ読み込んでおいてください。\n",
        "# データ加工・処理・分析ライブラリ\n",
        "import numpy as np\n",
        "import numpy.random as random\n",
        "import scipy as sp\n",
        "from pandas import Series,DataFrame\n",
        "import pandas as pd\n",
        "\n",
        "# 可視化ライブラリ\n",
        "import matplotlib.pyplot as plt\n",
        "import matplotlib as mpl\n",
        "import seaborn as sns\n",
        "%matplotlib inline\n",
        "\n",
        "# 機械学習ライブラリ\n",
        "import sklearn\n",
        "\n",
        "# 小数第３位まで表示\n",
        "%precision 3"
      ]
    },
    {
      "cell_type": "code",
      "execution_count": 64,
      "metadata": {
        "id": "LVrx2i8g_OrR",
        "colab": {
          "base_uri": "https://localhost:8080/",
          "height": 283
        },
        "outputId": "5614f48e-19d3-4562-bd18-3940d58cc1cb"
      },
      "outputs": [
        {
          "output_type": "execute_result",
          "data": {
            "text/plain": [
              "<matplotlib.collections.PathCollection at 0x7ff7a31e4f50>"
            ]
          },
          "metadata": {},
          "execution_count": 64
        },
        {
          "output_type": "display_data",
          "data": {
            "text/plain": [
              "<Figure size 432x288 with 1 Axes>"
            ],
            "image/png": "[encoded data removed]"
          },
          "metadata": {
            "needs_background": "light"
          }
        }
      ],
      "source": [
        "# 解答（1）　グラフ化\n",
        "from sklearn.datasets import make_blobs\n",
        "from sklearn.cluster import KMeans\n",
        "\n",
        "X, y = make_blobs(random_state=52)\n",
        "plt.scatter(X[:,0], X[:,1], color='black')"
      ]
    },
    {
      "cell_type": "code",
      "execution_count": 65,
      "metadata": {
        "id": "0vvtro8f_OrY",
        "colab": {
          "base_uri": "https://localhost:8080/",
          "height": 279
        },
        "outputId": "e09a0b84-3327-4710-a08d-8109f91f9a4b"
      },
      "outputs": [
        {
          "output_type": "display_data",
          "data": {
            "text/plain": [
              "<Figure size 432x288 with 1 Axes>"
            ],
            "image/png": "[encoded data removed]"
          },
          "metadata": {
            "needs_background": "light"
          }
        }
      ],
      "source": [
        "# 解答（2）　クラスター分析\n",
        "kmeans = KMeans(init='random', n_clusters=2)\n",
        "kmeans.fit(X)\n",
        "y_pred = kmeans.predict(X)\n",
        "\n",
        "# 順にx座標、y座標、cluster番号のデータを横に結合するためconcatでaxis=1を指定しています。\n",
        "merge_data = pd.concat([pd.DataFrame(X[:,0]), pd.DataFrame(X[:,1]), pd.DataFrame(y_pred)], axis=1)\n",
        "merge_data.columns = ['feature1','feature2','cluster']\n",
        "\n",
        "# クラスタリング結果のグラフ化\n",
        "ax = None\n",
        "colors = ['blue', 'red']\n",
        "for i, data in merge_data.groupby('cluster'):\n",
        "    ax = data.plot.scatter(\n",
        "        x='feature1', y='feature2', \n",
        "        color=colors[i], label=f'cluster{i}', ax=ax\n",
        "    )"
      ]
    },
    {
      "cell_type": "code",
      "execution_count": 66,
      "metadata": {
        "id": "zx5M4rn7_Orm",
        "colab": {
          "base_uri": "https://localhost:8080/"
        },
        "outputId": "d09c3067-0e8d-4a20-ef3a-68a42c2147c2"
      },
      "outputs": [
        {
          "output_type": "stream",
          "name": "stdout",
          "text": [
            "主成分分析前のデータ次元：(150, 4)\n",
            "主成分分析後のデータ次元：(150, 2)\n"
          ]
        }
      ],
      "source": [
        "# 解答 （1）　主成分分析\n",
        "from sklearn.datasets import load_iris\n",
        "from sklearn.preprocessing import StandardScaler\n",
        "from sklearn.decomposition import PCA\n",
        "\n",
        "iris = load_iris()\n",
        "\n",
        "sc = StandardScaler()\n",
        "sc.fit(iris.data)\n",
        "X_std = sc.transform(iris.data)\n",
        "\n",
        "# 主成分分析の実行\n",
        "pca = PCA(n_components=2)\n",
        "pca.fit(X_std)\n",
        "X_pca = pca.transform(X_std)\n",
        "\n",
        "print('主成分分析前のデータ次元：{}'.format(iris.data.shape))\n",
        "print('主成分分析後のデータ次元：{}'.format(X_pca.shape))"
      ]
    },
    {
      "cell_type": "code",
      "execution_count": 67,
      "metadata": {
        "id": "xwbwVhoz_Oru",
        "colab": {
          "base_uri": "https://localhost:8080/",
          "height": 279
        },
        "outputId": "6503f104-4013-4620-8f12-4ce4817b9fd5"
      },
      "outputs": [
        {
          "output_type": "display_data",
          "data": {
            "text/plain": [
              "<Figure size 432x288 with 1 Axes>"
            ],
            "image/png": "[encoded data removed]"
          },
          "metadata": {
            "needs_background": "light"
          }
        }
      ],
      "source": [
        "# 解答（2）　グラフ化\n",
        "merge_data = pd.concat([pd.DataFrame(X_pca[:,0]), pd.DataFrame(X_pca[:,1]), pd.DataFrame(iris.target)], axis=1)\n",
        "merge_data.columns = ['pc1','pc2', 'target']\n",
        "\n",
        "# クラスタリング結果のグラフ化\n",
        "ax = None\n",
        "colors = ['blue', 'red', 'green']\n",
        "for i, data in merge_data.groupby('target'):\n",
        "    ax = data.plot.scatter(\n",
        "        x='pc1', y='pc2',\n",
        "        color=colors[i], label=f'target-{i}', ax=ax\n",
        "    )"
      ]
    },
    {
      "cell_type": "code",
      "execution_count": 68,
      "metadata": {
        "id": "ebFqJVhX_Or1",
        "colab": {
          "base_uri": "https://localhost:8080/",
          "height": 418
        },
        "outputId": "674e666c-17bd-4cd4-e99b-3fa2468e479d"
      },
      "outputs": [
        {
          "output_type": "display_data",
          "data": {
            "text/plain": [
              "<Figure size 1440x504 with 4 Axes>"
            ],
            "image/png": "[encoded data removed]"
          },
          "metadata": {
            "needs_background": "light"
          }
        }
      ],
      "source": [
        "# 参考　目的変数とそれぞれの4つの説明変数との関係を示す\n",
        "fig, axes = plt.subplots(2,2,figsize=(20,7))\n",
        "\n",
        "iris_0 = iris.data[iris.target==0]\n",
        "iris_1 = iris.data[iris.target==1]\n",
        "iris_2 = iris.data[iris.target==2]\n",
        "\n",
        "ax = axes.ravel()\n",
        "for i in range(4):\n",
        "    _,bins = np.histogram(iris.data[:,i],bins=50)\n",
        "    ax[i].hist(iris_0[:,i],bins=bins,alpha=.5)\n",
        "    ax[i].hist(iris_1[:,i],bins=bins,alpha=.5)\n",
        "    ax[i].hist(iris_2[:,i],bins=bins,alpha=.5)\n",
        "    ax[i].set_title(iris.feature_names[i])\n",
        "    ax[i].set_yticks(())\n",
        "ax[0].set_ylabel('Count')\n",
        "ax[0].legend(['setosa','versicolor','virginica'], loc='best')\n",
        "fig.tight_layout()"
      ]
    },
    {
      "cell_type": "code",
      "execution_count": 69,
      "metadata": {
        "id": "fEGboitR_Or-",
        "colab": {
          "base_uri": "https://localhost:8080/",
          "height": 206
        },
        "outputId": "618a5261-38fe-446f-ab40-e36f76e1d750"
      },
      "outputs": [
        {
          "output_type": "execute_result",
          "data": {
            "text/plain": [
              "  InvoiceNo StockCode                          Description  Quantity  \\\n",
              "0    536365    85123A   WHITE HANGING HEART T-LIGHT HOLDER         6   \n",
              "1    536365     71053                  WHITE METAL LANTERN         6   \n",
              "2    536365    84406B       CREAM CUPID HEARTS COAT HANGER         8   \n",
              "3    536365    84029G  KNITTED UNION FLAG HOT WATER BOTTLE         6   \n",
              "4    536365    84029E       RED WOOLLY HOTTIE WHITE HEART.         6   \n",
              "\n",
              "          InvoiceDate  UnitPrice  CustomerID         Country  \n",
              "0 2010-12-01 08:26:00       2.55     17850.0  United Kingdom  \n",
              "1 2010-12-01 08:26:00       3.39     17850.0  United Kingdom  \n",
              "2 2010-12-01 08:26:00       2.75     17850.0  United Kingdom  \n",
              "3 2010-12-01 08:26:00       3.39     17850.0  United Kingdom  \n",
              "4 2010-12-01 08:26:00       3.39     17850.0  United Kingdom  "
            ],
            "text/html": [
              "\n",
              "  <div id=\"df-041939d6-1c33-41a4-9682-5c36a678e73e\">\n",
              "    <div class=\"colab-df-container\">\n",
              "      <div>\n",
              "<style scoped>\n",
              "    .dataframe tbody tr th:only-of-type {\n",
              "        vertical-align: middle;\n",
              "    }\n",
              "\n",
              "    .dataframe tbody tr th {\n",
              "        vertical-align: top;\n",
              "    }\n",
              "\n",
              "    .dataframe thead th {\n",
              "        text-align: right;\n",
              "    }\n",
              "</style>\n",
              "<table border=\"1\" class=\"dataframe\">\n",
              "  <thead>\n",
              "    <tr style=\"text-align: right;\">\n",
              "      <th></th>\n",
              "      <th>InvoiceNo</th>\n",
              "      <th>StockCode</th>\n",
              "      <th>Description</th>\n",
              "      <th>Quantity</th>\n",
              "      <th>InvoiceDate</th>\n",
              "      <th>UnitPrice</th>\n",
              "      <th>CustomerID</th>\n",
              "      <th>Country</th>\n",
              "    </tr>\n",
              "  </thead>\n",
              "  <tbody>\n",
              "    <tr>\n",
              "      <th>0</th>\n",
              "      <td>536365</td>\n",
              "      <td>85123A</td>\n",
              "      <td>WHITE HANGING HEART T-LIGHT HOLDER</td>\n",
              "      <td>6</td>\n",
              "      <td>2010-12-01 08:26:00</td>\n",
              "      <td>2.55</td>\n",
              "      <td>17850.0</td>\n",
              "      <td>United Kingdom</td>\n",
              "    </tr>\n",
              "    <tr>\n",
              "      <th>1</th>\n",
              "      <td>536365</td>\n",
              "      <td>71053</td>\n",
              "      <td>WHITE METAL LANTERN</td>\n",
              "      <td>6</td>\n",
              "      <td>2010-12-01 08:26:00</td>\n",
              "      <td>3.39</td>\n",
              "      <td>17850.0</td>\n",
              "      <td>United Kingdom</td>\n",
              "    </tr>\n",
              "    <tr>\n",
              "      <th>2</th>\n",
              "      <td>536365</td>\n",
              "      <td>84406B</td>\n",
              "      <td>CREAM CUPID HEARTS COAT HANGER</td>\n",
              "      <td>8</td>\n",
              "      <td>2010-12-01 08:26:00</td>\n",
              "      <td>2.75</td>\n",
              "      <td>17850.0</td>\n",
              "      <td>United Kingdom</td>\n",
              "    </tr>\n",
              "    <tr>\n",
              "      <th>3</th>\n",
              "      <td>536365</td>\n",
              "      <td>84029G</td>\n",
              "      <td>KNITTED UNION FLAG HOT WATER BOTTLE</td>\n",
              "      <td>6</td>\n",
              "      <td>2010-12-01 08:26:00</td>\n",
              "      <td>3.39</td>\n",
              "      <td>17850.0</td>\n",
              "      <td>United Kingdom</td>\n",
              "    </tr>\n",
              "    <tr>\n",
              "      <th>4</th>\n",
              "      <td>536365</td>\n",
              "      <td>84029E</td>\n",
              "      <td>RED WOOLLY HOTTIE WHITE HEART.</td>\n",
              "      <td>6</td>\n",
              "      <td>2010-12-01 08:26:00</td>\n",
              "      <td>3.39</td>\n",
              "      <td>17850.0</td>\n",
              "      <td>United Kingdom</td>\n",
              "    </tr>\n",
              "  </tbody>\n",
              "</table>\n",
              "</div>\n",
              "      <button class=\"colab-df-convert\" onclick=\"convertToInteractive('df-041939d6-1c33-41a4-9682-5c36a678e73e')\"\n",
              "              title=\"Convert this dataframe to an interactive table.\"\n",
              "              style=\"display:none;\">\n",
              "        \n",
              "  <svg xmlns=\"http://www.w3.org/2000/svg\" height=\"24px\"viewBox=\"0 0 24 24\"\n",
              "       width=\"24px\">\n",
              "    <path d=\"M0 0h24v24H0V0z\" fill=\"none\"/>\n",
              "    <path d=\"M18.56 5.44l.94 2.06.94-2.06 2.06-.94-2.06-.94-.94-2.06-.94 2.06-2.06.94zm-11 1L8.5 8.5l.94-2.06 2.06-.94-2.06-.94L8.5 2.5l-.94 2.06-2.06.94zm10 10l.94 2.06.94-2.06 2.06-.94-2.06-.94-.94-2.06-.94 2.06-2.06.94z\"/><path d=\"M17.41 7.96l-1.37-1.37c-.4-.4-.92-.59-1.43-.59-.52 0-1.04.2-1.43.59L10.3 9.45l-7.72 7.72c-.78.78-.78 2.05 0 2.83L4 21.41c.39.39.9.59 1.41.59.51 0 1.02-.2 1.41-.59l7.78-7.78 2.81-2.81c.8-.78.8-2.07 0-2.86zM5.41 20L4 18.59l7.72-7.72 1.47 1.35L5.41 20z\"/>\n",
              "  </svg>\n",
              "      </button>\n",
              "      \n",
              "  <style>\n",
              "    .colab-df-container {\n",
              "      display:flex;\n",
              "      flex-wrap:wrap;\n",
              "      gap: 12px;\n",
              "    }\n",
              "\n",
              "    .colab-df-convert {\n",
              "      background-color: #E8F0FE;\n",
              "      border: none;\n",
              "      border-radius: 50%;\n",
              "      cursor: pointer;\n",
              "      display: none;\n",
              "      fill: #1967D2;\n",
              "      height: 32px;\n",
              "      padding: 0 0 0 0;\n",
              "      width: 32px;\n",
              "    }\n",
              "\n",
              "    .colab-df-convert:hover {\n",
              "      background-color: #E2EBFA;\n",
              "      box-shadow: 0px 1px 2px rgba(60, 64, 67, 0.3), 0px 1px 3px 1px rgba(60, 64, 67, 0.15);\n",
              "      fill: #174EA6;\n",
              "    }\n",
              "\n",
              "    [theme=dark] .colab-df-convert {\n",
              "      background-color: #3B4455;\n",
              "      fill: #D2E3FC;\n",
              "    }\n",
              "\n",
              "    [theme=dark] .colab-df-convert:hover {\n",
              "      background-color: #434B5C;\n",
              "      box-shadow: 0px 1px 3px 1px rgba(0, 0, 0, 0.15);\n",
              "      filter: drop-shadow(0px 1px 2px rgba(0, 0, 0, 0.3));\n",
              "      fill: #FFFFFF;\n",
              "    }\n",
              "  </style>\n",
              "\n",
              "      <script>\n",
              "        const buttonEl =\n",
              "          document.querySelector('#df-041939d6-1c33-41a4-9682-5c36a678e73e button.colab-df-convert');\n",
              "        buttonEl.style.display =\n",
              "          google.colab.kernel.accessAllowed ? 'block' : 'none';\n",
              "\n",
              "        async function convertToInteractive(key) {\n",
              "          const element = document.querySelector('#df-041939d6-1c33-41a4-9682-5c36a678e73e');\n",
              "          const dataTable =\n",
              "            await google.colab.kernel.invokeFunction('convertToInteractive',\n",
              "                                                     [key], {});\n",
              "          if (!dataTable) return;\n",
              "\n",
              "          const docLinkHtml = 'Like what you see? Visit the ' +\n",
              "            '<a target=\"_blank\" href=https://colab.research.google.com/notebooks/data_table.ipynb>data table notebook</a>'\n",
              "            + ' to learn more about interactive tables.';\n",
              "          element.innerHTML = '';\n",
              "          dataTable['output_type'] = 'display_data';\n",
              "          await google.colab.output.renderOutput(dataTable, element);\n",
              "          const docLink = document.createElement('div');\n",
              "          docLink.innerHTML = docLinkHtml;\n",
              "          element.appendChild(docLink);\n",
              "        }\n",
              "      </script>\n",
              "    </div>\n",
              "  </div>\n",
              "  "
            ]
          },
          "metadata": {},
          "execution_count": 69
        }
      ],
      "source": [
        "# 購買履歴の元データ（同じディレクトリにいるとします）\n",
        "trans = pd.read_excel('Online Retail.xlsx', sheet_name='Online Retail')\n",
        "trans.head()"
      ]
    },
    {
      "cell_type": "code",
      "execution_count": 70,
      "metadata": {
        "id": "ejv22q9e_OsA"
      },
      "outputs": [],
      "source": [
        "# 集計対象とするものだけに絞り込む\n",
        "trans['cancel_flg'] = trans.InvoiceNo.map(lambda x:str(x)[0])\n",
        "trans = trans[(trans.cancel_flg == '5') & (trans.CustomerID.notnull())]"
      ]
    },
    {
      "cell_type": "code",
      "execution_count": 71,
      "metadata": {
        "id": "Getm8MYF_OsE",
        "colab": {
          "base_uri": "https://localhost:8080/"
        },
        "outputId": "edb94292-7509-4e6d-fa93-463254f90c4d"
      },
      "outputs": [
        {
          "output_type": "stream",
          "name": "stdout",
          "text": [
            "支持度最大のStockCodeの組み合わせ：(20725, 22383)\n",
            "支持度の最大値：0.0280\n"
          ]
        }
      ],
      "source": [
        "# 解答\n",
        "import itertools\n",
        "\n",
        "# レコードが1000より大きいStockCodeの抽出\n",
        "indexer = trans.StockCode.value_counts() > 1000\n",
        "Items = trans.StockCode.value_counts()[indexer.index[indexer]].index\n",
        "\n",
        "# 集計対象レコードに含まれるInvoiceNoの数を取得（支持度の分母）\n",
        "trans_all = set(trans.InvoiceNo)\n",
        "\n",
        "# 対象Itemsに含まれるStockCodeの2つの任意の組み合わせごとに支持度を計算\n",
        "results={}\n",
        "for element in itertools.combinations(Items, 2):\n",
        "    trans_0 = set(trans[trans['StockCode']==element[0]].InvoiceNo)\n",
        "    trans_1 = set(trans[trans['StockCode']==element[1]].InvoiceNo)\n",
        "    trans_both = trans_0&trans_1\n",
        "    \n",
        "    support = len(trans_both) / len(trans_all)\n",
        "    results[element] = support\n",
        "\n",
        "maxKey =  max([(v,k) for k,v in results.items()])[1]\n",
        "print('支持度最大のStockCodeの組み合わせ：{}'.format(maxKey))\n",
        "print('支持度の最大値：{:.4f}'.format(results[maxKey]))"
      ]
    }
  ]
}