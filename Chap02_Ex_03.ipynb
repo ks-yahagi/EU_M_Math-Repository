{
  "nbformat": 4,
  "nbformat_minor": 0,
  "metadata": {
    "colab": {
      "name": "Chap02_Ex_03.ipynb",
      "provenance": [],
      "authorship_tag": "ABX9TyNQ5b9h3quQgGHAwJeZsWL7",
      "include_colab_link": true
    },
    "kernelspec": {
      "name": "python3",
      "display_name": "Python 3"
    },
    "language_info": {
      "name": "python"
    }
  },
  "cells": [
    {
      "cell_type": "markdown",
      "metadata": {
        "id": "view-in-github",
        "colab_type": "text"
      },
      "source": [
        "<a href=\"https://colab.research.google.com/github/ks-yahagi/EU_M_Math-Repository/blob/main/Chap02_Ex_03.ipynb\" target=\"_parent\"><img src=\"https://colab.research.google.com/assets/colab-badge.svg\" alt=\"Open In Colab\"/></a>"
      ]
    },
    {
      "cell_type": "code",
      "execution_count": 9,
      "metadata": {
        "colab": {
          "base_uri": "https://localhost:8080/"
        },
        "id": "ePsoEoMsLZf_",
        "outputId": "52d35b82-9174-4f74-9755-08cf0f0963dd"
      },
      "outputs": [
        {
          "output_type": "stream",
          "name": "stdout",
          "text": [
            "[[45 45 45 45 45]\n",
            " [45 45 45 45 45]\n",
            " [45 45 45 45 45]\n",
            " [45 45 45 45 45]\n",
            " [45 45 45 45 45]]\n"
          ]
        }
      ],
      "source": [
        "import numpy as np\n",
        "\n",
        "data = np.ones((5,5),dtype=\"i\")*3\n",
        "print(data.dot(data))"
      ]
    }
  ]
}