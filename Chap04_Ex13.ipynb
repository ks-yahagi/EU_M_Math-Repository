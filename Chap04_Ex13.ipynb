{
  "nbformat": 4,
  "nbformat_minor": 0,
  "metadata": {
    "colab": {
      "name": "Chap04_Ex13.ipynb",
      "provenance": [],
      "authorship_tag": "ABX9TyMAOSkQlCY25R4HUsHFi70l",
      "include_colab_link": true
    },
    "kernelspec": {
      "name": "python3",
      "display_name": "Python 3"
    },
    "language_info": {
      "name": "python"
    }
  },
  "cells": [
    {
      "cell_type": "markdown",
      "metadata": {
        "id": "view-in-github",
        "colab_type": "text"
      },
      "source": [
        "<a href=\"https://colab.research.google.com/github/ks-yahagi/EU_M_Math-Repository/blob/main/Chap04_Ex13.ipynb\" target=\"_parent\"><img src=\"https://colab.research.google.com/assets/colab-badge.svg\" alt=\"Open In Colab\"/></a>"
      ]
    },
    {
      "cell_type": "code",
      "execution_count": 1,
      "metadata": {
        "id": "gzAKziITXkH1"
      },
      "outputs": [],
      "source": [
        "#以下のライブラリを使うので、あらかじめ読み込んでおいてください\n",
        "import numpy as np\n",
        "import numpy.random as random\n",
        "import scipy as sp\n",
        "import pandas as pd\n",
        "from pandas import Series, DataFrame\n",
        "\n",
        "#可視化ライブラリ\n",
        "import matplotlib.pyplot as plt \n",
        "import matplotlib as mp1\n",
        "import seaborn as sns\n",
        "%matplotlib inline\n",
        "\n",
        "#小数第三位まで表示\n",
        "%precision 3\n",
        "\n",
        "#ランダムシードの固定\n",
        "np.random.seed(0)"
      ]
    },
    {
      "cell_type": "code",
      "source": [
        "import requests, zipfile\n",
        "from io import StringIO\n",
        "import io\n",
        "\n",
        "url = 'https://archive.ics.uci.edu/ml/machine-learning-databases/00356/student.zip'\n",
        "r = requests.get(url,stream=True)\n",
        "\n",
        "z = zipfile.ZipFile(io.BytesIO(r.content))\n",
        "z.extractall()"
      ],
      "metadata": {
        "id": "BjCO7nMIvJMb"
      },
      "execution_count": 2,
      "outputs": []
    },
    {
      "cell_type": "code",
      "source": [
        "#わからなかったので回答を見た\n",
        "                      #↓csvファイルの読み込み\n",
        "student_data_math = pd.read_csv('student-mat.csv',sep=';')\n",
        "student_data_por = pd.read_csv('student-por.csv',sep=';')\n",
        "#マージ:複数のデータを、決まった手順や規則に従って一つにまとめること。\n",
        "student_data_merge = pd.merge(student_data_math\n",
        "                              ,student_data_por\n",
        "                              ,on=['school','sex','age','address','famsize','Pstatus','Medu'\n",
        "                              ,'Fedu','Mjob','Fjob','reason','nursery','internet']\n",
        "                              ,how='inner'\n",
        "                              ,suffixes=('_math','_por'))\n",
        "\n",
        "from scipy import stats\n",
        "print('G2数学の成績平均:',student_data_merge.G2_math.mean())\n",
        "print('G2ポルトガル語の成績平均:',student_data_merge.G2_por.mean())\n",
        "\n",
        "t,p = stats.ttest_rel(student_data_merge.G2_math,student_data_merge.G2_por)\n",
        "print('p値=',p)"
      ],
      "metadata": {
        "colab": {
          "base_uri": "https://localhost:8080/"
        },
        "id": "bshdZ_INs9RS",
        "outputId": "f22d0870-c8fe-4df5-e719-07ba8404cae3"
      },
      "execution_count": 6,
      "outputs": [
        {
          "output_type": "stream",
          "name": "stdout",
          "text": [
            "G2数学の成績平均: 10.712041884816754\n",
            "G2ポルトガル語の成績平均: 12.238219895287958\n",
            "p値= 4.0622824801348043e-19\n"
          ]
        }
      ]
    },
    {
      "cell_type": "code",
      "source": [
        "print('G3数学の成績平均:',student_data_merge.G3_math.mean())\n",
        "print('G3ポルトガル語の成績平均:',student_data_merge.G3_por.mean())\n",
        "\n",
        "t,p=stats.ttest_rel(student_data_merge.G3_math,student_data_merge.G3_por)\n",
        "print('p値=',p)"
      ],
      "metadata": {
        "colab": {
          "base_uri": "https://localhost:8080/"
        },
        "id": "m8NG4jk0v2dn",
        "outputId": "09bd0d38-3f8e-447f-e331-eb73667bd540"
      },
      "execution_count": 7,
      "outputs": [
        {
          "output_type": "stream",
          "name": "stdout",
          "text": [
            "G3数学の成績平均: 10.387434554973822\n",
            "G3ポルトガル語の成績平均: 12.515706806282722\n",
            "p値= 5.561492113688385e-21\n"
          ]
        }
      ]
    }
  ]
}