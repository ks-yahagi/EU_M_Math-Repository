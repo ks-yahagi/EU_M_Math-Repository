import numpy.random as random
random.seed(0)

data = random.randn(10)
print("data最小値:",data.min())
print("data最大値:",data.max())
print("data合計:",data.sum())
