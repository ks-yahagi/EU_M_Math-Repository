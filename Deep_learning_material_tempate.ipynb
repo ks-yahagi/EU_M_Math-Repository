{
  "cells": [
    {
      "cell_type": "markdown",
      "metadata": {
        "id": "view-in-github",
        "colab_type": "text"
      },
      "source": [
        "<a href=\"https://colab.research.google.com/github/ks-yahagi/EU_M_Math-Repository/blob/main/Deep_learning_material_tempate.ipynb\" target=\"_parent\"><img src=\"https://colab.research.google.com/assets/colab-badge.svg\" alt=\"Open In Colab\"/></a>"
      ]
    },
    {
      "cell_type": "markdown",
      "source": [
        "# DNN 教材"
      ],
      "metadata": {
        "id": "xaHVTzJ4G9Qb"
      }
    },
    {
      "cell_type": "markdown",
      "metadata": {
        "id": "JDFBVx0PvTy2"
      },
      "source": [
        "### Perceptron"
      ]
    },
    {
      "cell_type": "markdown",
      "metadata": {
        "id": "W6OWATZWvTy3"
      },
      "source": [
        "実際にPerceptronを使って、Irisの花の種類がIris Setosaかそれ以外かを判別するモデルを作る。\n",
        "\n",
        "__Dataset__ \n",
        "\n",
        "50個のIrisの花に関するレコードがある。がく片の幅、がく片の長さ、花弁の長さ、花弁の幅、Irisの花の種類が一つのレコードに含まれている。花の種類は、Iris Setosa、Iris VersicolourとIris Virginicaのどれか。\n",
        "\n",
        "__Goal__\n",
        "\n",
        "Irisのがく片と花弁の特徴を基に、IrisがIris Setosaかそれ以外かを判別するモデルを作る"
      ]
    },
    {
      "cell_type": "code",
      "execution_count": 1,
      "metadata": {
        "id": "OVZXi93mvTy3",
        "colab": {
          "base_uri": "https://localhost:8080/"
        },
        "outputId": "caf246dd-4fb1-44ed-a368-eea94c183d5b"
      },
      "outputs": [
        {
          "output_type": "stream",
          "name": "stdout",
          "text": [
            "Accuracy:1.0\n"
          ]
        }
      ],
      "source": [
        "import numpy as np \n",
        "from sklearn.datasets import load_iris \n",
        "from sklearn.linear_model import Perceptron\n",
        "from sklearn.model_selection import train_test_split\n",
        "from sklearn.metrics import accuracy_score\n",
        "\n",
        "#データセットをロード\n",
        "iris = load_iris()\n",
        "#predictor と　target に分ける\n",
        "X = iris.data   \n",
        "#Iris Setosaが１の値をとり、それ以外は０\n",
        "Y = (iris.target==0).astype(int)\n",
        "\n",
        "#データセットのシャッフルをして、トレーニング用とテスト用のデータに分ける\n",
        "#モデルの評価をしっかりやりたい時は、cross validationを実行、さらにハイパーパラメータの最適化を行う\n",
        "train_X, test_X, train_Y, test_Y = train_test_split(X,Y,test_size=0.3, random_state=42, shuffle=True)\n",
        "\n",
        "#トレーニング\n",
        "perc_clf = Perceptron()\n",
        "perc_clf.fit(train_X,train_Y)\n",
        "\n",
        "#テスト\n",
        "predictions = perc_clf.predict(test_X)\n",
        "\n",
        "#Accuracyを計算\n",
        "print(\"Accuracy:\"+str(accuracy_score(test_Y,predictions)))\n"
      ]
    },
    {
      "cell_type": "markdown",
      "metadata": {
        "id": "NUDPWu9CvTy5"
      },
      "source": [
        "### Multi Layer Perceptron using Scikit learn"
      ]
    },
    {
      "cell_type": "markdown",
      "metadata": {
        "id": "F6A-qF2rvTy5"
      },
      "source": [
        "Multi Layer Perceptronを使って、3つのIrisの種類を判別するモデルを作る\n",
        "\n",
        "__Dataset__\n",
        "\n",
        "前回と同じ\n",
        "\n",
        "__Goal__\n",
        "\n",
        "Irisのがく片と花弁の特徴を基に、Irisの花がIris Setosa、Iris Versicolour、それともIris Virginicaかを判別する。\n",
        "\n",
        "__Note__\n",
        "\n",
        "\n",
        "*   一つのクラスの判別に一つのoutput nodeが必要なので、3つのoutput nodeが必要。ただコードを書く際にこの指定は不要。\n",
        "\n",
        "*   一つ一つのアウトプットノードはそのクラスに当てはまる確率を計算して、出力。\n",
        "\n",
        "\n",
        "\n",
        "*   一つのレコードに対して一つのクラスが割り当てられているので、その三つのoutput node から出てくる確率の合計は１になる必要がある。\n",
        "\n"
      ]
    },
    {
      "cell_type": "code",
      "execution_count": 12,
      "metadata": {
        "id": "fqXSwyakvTy5",
        "colab": {
          "base_uri": "https://localhost:8080/"
        },
        "outputId": "6944d008-b54c-4c01-8ff9-5b33301e1240"
      },
      "outputs": [
        {
          "output_type": "stream",
          "name": "stdout",
          "text": [
            "Accuracy:0.9777777777777777\n"
          ]
        }
      ],
      "source": [
        "from sklearn.datasets import load_iris\n",
        "from sklearn.neural_network import MLPClassifier\n",
        "from sklearn.model_selection import train_test_split\n",
        "from sklearn.metrics import accuracy_score\n",
        "#データセットをロード\n",
        "iris = load_iris()\n",
        "#predictor と　target に分ける\n",
        "X = iris.data\n",
        "Y = iris.target\n",
        "\n",
        "#データセットのシャッフルをして、トレーニング用とテスト用のデータに分ける\n",
        "#モデルの評価をしっかりやりたい時は、validationのデータセットを作るのが良い。\n",
        "train_X, test_X, train_Y, test_Y = train_test_split(X,Y,test_size = 0.3, random_state=42,shuffle=True)\n",
        "\n",
        "#二つのHidden Layer を追加、それぞれ10個のニューロンを持つ\n",
        "mlp_clsf = MLPClassifier((10,10),activation = 'relu',learning_rate='constant',learning_rate_init=0.001,max_iter=1000,random_state=42)\n",
        "mlp_clsf.fit(train_X,train_Y)\n",
        "predictions = mlp_clsf.predict(test_X)\n",
        "print(\"Accuracy:\"+str(accuracy_score(test_Y,predictions)))\n"
      ]
    },
    {
      "cell_type": "code",
      "execution_count": 13,
      "metadata": {
        "id": "XfyE9k6SvTy6",
        "colab": {
          "base_uri": "https://localhost:8080/"
        },
        "outputId": "199a0334-7ade-4f5a-989b-7a970b1213b7"
      },
      "outputs": [
        {
          "output_type": "execute_result",
          "data": {
            "text/plain": [
              "1.0"
            ]
          },
          "metadata": {},
          "execution_count": 13
        }
      ],
      "source": [
        "#確率の合計が１かを確認\n",
        "mlp_clsf.predict_proba(test_X[0].reshape(1,-1)).sum()\n"
      ]
    },
    {
      "cell_type": "markdown",
      "metadata": {
        "id": "AQI7-M9KvTy6"
      },
      "source": [
        "### Activation Function "
      ]
    },
    {
      "cell_type": "markdown",
      "source": [
        "このMLPにSoftmaxがactivation functionとして使われている"
      ],
      "metadata": {
        "id": "k7_W11IYID2p"
      }
    },
    {
      "cell_type": "code",
      "execution_count": 8,
      "metadata": {
        "id": "ffl1_qbxvTy7",
        "colab": {
          "base_uri": "https://localhost:8080/",
          "height": 36
        },
        "outputId": "79b0368d-f4e9-41c0-fd62-ebdd85890813"
      },
      "outputs": [
        {
          "output_type": "execute_result",
          "data": {
            "text/plain": [
              "'softmax'"
            ],
            "application/vnd.google.colaboratory.intrinsic+json": {
              "type": "string"
            }
          },
          "metadata": {},
          "execution_count": 8
        }
      ],
      "source": [
        "mlp_clsf.out_activation_"
      ]
    },
    {
      "cell_type": "markdown",
      "metadata": {
        "id": "xEC5-Px4vTy7"
      },
      "source": [
        "## MLP Regression "
      ]
    },
    {
      "cell_type": "markdown",
      "metadata": {
        "id": "ENGVw0vUvTy7"
      },
      "source": [
        "MLP Regressorを用いて、ボストンの住宅価格(単位は1000$)を予測するモデルを作る\n",
        "\n",
        "__Dataset__ \n",
        "\n",
        "1970年代のボストン郊外の住宅地に関するデータセット。ボストン郊外の異なるロケーションで13個の住宅に関する変数と住宅の価格の中央値が記録されている。506個のレコードが記録されている。\n",
        "\n",
        "__Goal__\n",
        "\n",
        "その中央値を13個の変数を基に予測する。\n",
        "\n",
        "\n",
        "　"
      ]
    },
    {
      "cell_type": "code",
      "execution_count": 14,
      "metadata": {
        "scrolled": true,
        "id": "fC6bRC1PvTy7",
        "colab": {
          "base_uri": "https://localhost:8080/"
        },
        "outputId": "62c37f18-6ad5-4731-8af1-734b2f64f873"
      },
      "outputs": [
        {
          "output_type": "stream",
          "name": "stderr",
          "text": [
            "/usr/local/lib/python3.7/dist-packages/sklearn/utils/deprecation.py:87: FutureWarning: Function load_boston is deprecated; `load_boston` is deprecated in 1.0 and will be removed in 1.2.\n",
            "\n",
            "    The Boston housing prices dataset has an ethical problem. You can refer to\n",
            "    the documentation of this function for further details.\n",
            "\n",
            "    The scikit-learn maintainers therefore strongly discourage the use of this\n",
            "    dataset unless the purpose of the code is to study and educate about\n",
            "    ethical issues in data science and machine learning.\n",
            "\n",
            "    In this special case, you can fetch the dataset from the original\n",
            "    source::\n",
            "\n",
            "        import pandas as pd\n",
            "        import numpy as np\n",
            "\n",
            "\n",
            "        data_url = \"http://lib.stat.cmu.edu/datasets/boston\"\n",
            "        raw_df = pd.read_csv(data_url, sep=\"\\s+\", skiprows=22, header=None)\n",
            "        data = np.hstack([raw_df.values[::2, :], raw_df.values[1::2, :2]])\n",
            "        target = raw_df.values[1::2, 2]\n",
            "\n",
            "    Alternative datasets include the California housing dataset (i.e.\n",
            "    :func:`~sklearn.datasets.fetch_california_housing`) and the Ames housing\n",
            "    dataset. You can load the datasets as follows::\n",
            "\n",
            "        from sklearn.datasets import fetch_california_housing\n",
            "        housing = fetch_california_housing()\n",
            "\n",
            "    for the California housing dataset and::\n",
            "\n",
            "        from sklearn.datasets import fetch_openml\n",
            "        housing = fetch_openml(name=\"house_prices\", as_frame=True)\n",
            "\n",
            "    for the Ames housing dataset.\n",
            "    \n",
            "  warnings.warn(msg, category=FutureWarning)\n"
          ]
        },
        {
          "output_type": "stream",
          "name": "stdout",
          "text": [
            "RSME:4.699377521565086\n"
          ]
        }
      ],
      "source": [
        "from sklearn.datasets import load_boston\n",
        "from sklearn.neural_network import MLPRegressor\n",
        "from sklearn.model_selection import train_test_split\n",
        "from sklearn.metrics import mean_squared_error\n",
        "\n",
        "#データセットをロード\n",
        "dataset = load_boston()\n",
        "X = dataset['data']\n",
        "Y = dataset['target']\n",
        "\n",
        "#テストとトレーニングのデータセットに分ける\n",
        "#モデルの評価をしっかりやりたい時は、validationのデータセットを作るのが良い。\n",
        "train_X, test_X, train_Y, test_Y = train_test_split(X,Y,test_size = 0.3, random_state=42,shuffle=True)\n",
        "\n",
        "#２個のhidden layerを追加　activation function は relu.\n",
        "mlp_reg = MLPRegressor((10,10),activation = 'relu',learning_rate='constant',learning_rate_init=0.001,max_iter=3000,random_state=42)\n",
        "mlp_reg.fit(train_X,train_Y)\n",
        "predictions = mlp_reg.predict(test_X)\n",
        "\n",
        "#RSMEを計算\n",
        "error = mean_squared_error(test_Y,predictions)**(1/2)\n",
        "print(\"RSME:\"+str(error))\n"
      ]
    },
    {
      "cell_type": "markdown",
      "metadata": {
        "id": "VfeMh6E7vTy8"
      },
      "source": [
        "::アウトプットノードのActivation functionはIdentity。（Activation function は使われていないということ。）"
      ]
    },
    {
      "cell_type": "code",
      "execution_count": null,
      "metadata": {
        "scrolled": true,
        "id": "yLfuWPKWvTy8"
      },
      "outputs": [],
      "source": [
        "mlp_reg.out_activation_"
      ]
    },
    {
      "cell_type": "markdown",
      "metadata": {
        "id": "KFaUB_E7vTy8"
      },
      "source": [
        "## Regression using Keras  "
      ]
    },
    {
      "cell_type": "code",
      "execution_count": 18,
      "metadata": {
        "scrolled": true,
        "id": "36cxPugbvTy8",
        "colab": {
          "base_uri": "https://localhost:8080/"
        },
        "outputId": "b62359de-3544-46a8-e0b0-e204048b7229"
      },
      "outputs": [
        {
          "output_type": "stream",
          "name": "stdout",
          "text": [
            "Model: \"sequential_2\"\n",
            "_________________________________________________________________\n",
            " Layer (type)                Output Shape              Param #   \n",
            "=================================================================\n",
            " dense_4 (Dense)             (None, 30)                420       \n",
            "                                                                 \n",
            " dense_5 (Dense)             (None, 1)                 31        \n",
            "                                                                 \n",
            "=================================================================\n",
            "Total params: 451\n",
            "Trainable params: 451\n",
            "Non-trainable params: 0\n",
            "_________________________________________________________________\n",
            "Epoch 1/70\n",
            "10/10 [==============================] - 1s 42ms/step - loss: 201.5920 - root_mean_squared_error: 14.1983 - val_loss: 68.0666 - val_root_mean_squared_error: 8.2502\n",
            "Epoch 2/70\n",
            "10/10 [==============================] - 0s 9ms/step - loss: 30.2048 - root_mean_squared_error: 5.4959 - val_loss: 37.7308 - val_root_mean_squared_error: 6.1425\n",
            "Epoch 3/70\n",
            "10/10 [==============================] - 0s 9ms/step - loss: 20.9601 - root_mean_squared_error: 4.5782 - val_loss: 27.1553 - val_root_mean_squared_error: 5.2111\n",
            "Epoch 4/70\n",
            "10/10 [==============================] - 0s 8ms/step - loss: 16.3921 - root_mean_squared_error: 4.0487 - val_loss: 31.5427 - val_root_mean_squared_error: 5.6163\n",
            "Epoch 5/70\n",
            "10/10 [==============================] - 0s 8ms/step - loss: 14.6546 - root_mean_squared_error: 3.8281 - val_loss: 21.8732 - val_root_mean_squared_error: 4.6769\n",
            "Epoch 6/70\n",
            "10/10 [==============================] - 0s 8ms/step - loss: 13.4186 - root_mean_squared_error: 3.6631 - val_loss: 27.7615 - val_root_mean_squared_error: 5.2689\n",
            "Epoch 7/70\n",
            "10/10 [==============================] - 0s 11ms/step - loss: 11.6966 - root_mean_squared_error: 3.4200 - val_loss: 24.0970 - val_root_mean_squared_error: 4.9089\n",
            "Epoch 8/70\n",
            "10/10 [==============================] - 0s 8ms/step - loss: 10.1625 - root_mean_squared_error: 3.1879 - val_loss: 32.9276 - val_root_mean_squared_error: 5.7383\n",
            "Epoch 9/70\n",
            "10/10 [==============================] - 0s 9ms/step - loss: 12.7597 - root_mean_squared_error: 3.5721 - val_loss: 23.1218 - val_root_mean_squared_error: 4.8085\n",
            "Epoch 10/70\n",
            "10/10 [==============================] - 0s 14ms/step - loss: 10.4352 - root_mean_squared_error: 3.2304 - val_loss: 20.0981 - val_root_mean_squared_error: 4.4831\n",
            "Epoch 11/70\n",
            "10/10 [==============================] - 0s 8ms/step - loss: 9.7148 - root_mean_squared_error: 3.1169 - val_loss: 20.3317 - val_root_mean_squared_error: 4.5091\n",
            "Epoch 12/70\n",
            "10/10 [==============================] - 0s 8ms/step - loss: 9.1552 - root_mean_squared_error: 3.0257 - val_loss: 21.3223 - val_root_mean_squared_error: 4.6176\n",
            "Epoch 13/70\n",
            "10/10 [==============================] - 0s 9ms/step - loss: 9.8240 - root_mean_squared_error: 3.1343 - val_loss: 22.1652 - val_root_mean_squared_error: 4.7080\n",
            "Epoch 14/70\n",
            "10/10 [==============================] - 0s 8ms/step - loss: 10.2739 - root_mean_squared_error: 3.2053 - val_loss: 17.0485 - val_root_mean_squared_error: 4.1290\n",
            "Epoch 15/70\n",
            "10/10 [==============================] - 0s 8ms/step - loss: 9.7031 - root_mean_squared_error: 3.1150 - val_loss: 25.5679 - val_root_mean_squared_error: 5.0565\n",
            "Epoch 16/70\n",
            "10/10 [==============================] - 0s 8ms/step - loss: 8.7116 - root_mean_squared_error: 2.9515 - val_loss: 19.1977 - val_root_mean_squared_error: 4.3815\n",
            "Epoch 17/70\n",
            "10/10 [==============================] - 0s 11ms/step - loss: 9.3568 - root_mean_squared_error: 3.0589 - val_loss: 22.2822 - val_root_mean_squared_error: 4.7204\n",
            "Epoch 18/70\n",
            "10/10 [==============================] - 0s 22ms/step - loss: 8.8735 - root_mean_squared_error: 2.9788 - val_loss: 20.0727 - val_root_mean_squared_error: 4.4803\n",
            "Epoch 19/70\n",
            "10/10 [==============================] - 0s 15ms/step - loss: 9.3304 - root_mean_squared_error: 3.0546 - val_loss: 15.9476 - val_root_mean_squared_error: 3.9934\n",
            "Epoch 20/70\n",
            "10/10 [==============================] - 0s 13ms/step - loss: 8.9259 - root_mean_squared_error: 2.9876 - val_loss: 22.7098 - val_root_mean_squared_error: 4.7655\n",
            "Epoch 21/70\n",
            "10/10 [==============================] - 0s 13ms/step - loss: 7.7448 - root_mean_squared_error: 2.7830 - val_loss: 16.2632 - val_root_mean_squared_error: 4.0328\n",
            "Epoch 22/70\n",
            "10/10 [==============================] - 0s 15ms/step - loss: 8.7897 - root_mean_squared_error: 2.9647 - val_loss: 24.1217 - val_root_mean_squared_error: 4.9114\n",
            "Epoch 23/70\n",
            "10/10 [==============================] - 0s 14ms/step - loss: 8.7574 - root_mean_squared_error: 2.9593 - val_loss: 19.4141 - val_root_mean_squared_error: 4.4061\n",
            "Epoch 24/70\n",
            "10/10 [==============================] - 0s 12ms/step - loss: 7.7130 - root_mean_squared_error: 2.7772 - val_loss: 18.5590 - val_root_mean_squared_error: 4.3080\n",
            "Epoch 25/70\n",
            "10/10 [==============================] - 0s 32ms/step - loss: 7.8769 - root_mean_squared_error: 2.8066 - val_loss: 18.0682 - val_root_mean_squared_error: 4.2507\n",
            "Epoch 26/70\n",
            "10/10 [==============================] - 0s 28ms/step - loss: 7.7126 - root_mean_squared_error: 2.7772 - val_loss: 19.2052 - val_root_mean_squared_error: 4.3824\n",
            "Epoch 27/70\n",
            "10/10 [==============================] - 0s 37ms/step - loss: 8.0833 - root_mean_squared_error: 2.8431 - val_loss: 20.4643 - val_root_mean_squared_error: 4.5237\n",
            "Epoch 28/70\n",
            "10/10 [==============================] - 0s 20ms/step - loss: 8.5969 - root_mean_squared_error: 2.9320 - val_loss: 18.1466 - val_root_mean_squared_error: 4.2599\n",
            "Epoch 29/70\n",
            "10/10 [==============================] - 0s 28ms/step - loss: 7.9013 - root_mean_squared_error: 2.8109 - val_loss: 17.4161 - val_root_mean_squared_error: 4.1733\n",
            "Epoch 30/70\n",
            "10/10 [==============================] - 0s 6ms/step - loss: 7.6455 - root_mean_squared_error: 2.7650 - val_loss: 21.4962 - val_root_mean_squared_error: 4.6364\n",
            "Epoch 31/70\n",
            "10/10 [==============================] - 0s 7ms/step - loss: 7.9041 - root_mean_squared_error: 2.8114 - val_loss: 17.6105 - val_root_mean_squared_error: 4.1965\n",
            "Epoch 32/70\n",
            "10/10 [==============================] - 0s 4ms/step - loss: 7.8828 - root_mean_squared_error: 2.8076 - val_loss: 20.4859 - val_root_mean_squared_error: 4.5261\n",
            "Epoch 33/70\n",
            "10/10 [==============================] - 0s 7ms/step - loss: 8.3771 - root_mean_squared_error: 2.8943 - val_loss: 17.6253 - val_root_mean_squared_error: 4.1982\n",
            "Epoch 34/70\n",
            "10/10 [==============================] - 0s 5ms/step - loss: 7.5057 - root_mean_squared_error: 2.7397 - val_loss: 18.2517 - val_root_mean_squared_error: 4.2722\n",
            "Epoch 35/70\n",
            "10/10 [==============================] - 0s 6ms/step - loss: 7.4856 - root_mean_squared_error: 2.7360 - val_loss: 17.4517 - val_root_mean_squared_error: 4.1775\n",
            "Epoch 36/70\n",
            "10/10 [==============================] - 0s 6ms/step - loss: 8.3053 - root_mean_squared_error: 2.8819 - val_loss: 22.1550 - val_root_mean_squared_error: 4.7069\n",
            "Epoch 37/70\n",
            "10/10 [==============================] - 0s 6ms/step - loss: 7.5197 - root_mean_squared_error: 2.7422 - val_loss: 24.8411 - val_root_mean_squared_error: 4.9841\n",
            "Epoch 38/70\n",
            "10/10 [==============================] - 0s 6ms/step - loss: 8.0273 - root_mean_squared_error: 2.8333 - val_loss: 20.5299 - val_root_mean_squared_error: 4.5310\n",
            "Epoch 39/70\n",
            "10/10 [==============================] - 0s 4ms/step - loss: 7.0511 - root_mean_squared_error: 2.6554 - val_loss: 25.8469 - val_root_mean_squared_error: 5.0840\n",
            "Epoch 40/70\n",
            "10/10 [==============================] - 0s 5ms/step - loss: 8.4934 - root_mean_squared_error: 2.9143 - val_loss: 21.2314 - val_root_mean_squared_error: 4.6078\n",
            "Epoch 41/70\n",
            "10/10 [==============================] - 0s 5ms/step - loss: 7.8391 - root_mean_squared_error: 2.7998 - val_loss: 22.0065 - val_root_mean_squared_error: 4.6911\n",
            "Epoch 42/70\n",
            "10/10 [==============================] - 0s 6ms/step - loss: 8.4627 - root_mean_squared_error: 2.9091 - val_loss: 18.4873 - val_root_mean_squared_error: 4.2997\n",
            "Epoch 43/70\n",
            "10/10 [==============================] - 0s 6ms/step - loss: 7.7380 - root_mean_squared_error: 2.7817 - val_loss: 16.9618 - val_root_mean_squared_error: 4.1185\n",
            "Epoch 44/70\n",
            "10/10 [==============================] - 0s 5ms/step - loss: 7.1953 - root_mean_squared_error: 2.6824 - val_loss: 17.6114 - val_root_mean_squared_error: 4.1966\n",
            "Epoch 45/70\n",
            "10/10 [==============================] - 0s 4ms/step - loss: 6.9594 - root_mean_squared_error: 2.6381 - val_loss: 21.0469 - val_root_mean_squared_error: 4.5877\n",
            "Epoch 46/70\n",
            "10/10 [==============================] - 0s 6ms/step - loss: 7.0001 - root_mean_squared_error: 2.6458 - val_loss: 17.5662 - val_root_mean_squared_error: 4.1912\n",
            "Epoch 47/70\n",
            "10/10 [==============================] - 0s 5ms/step - loss: 7.0292 - root_mean_squared_error: 2.6513 - val_loss: 20.8842 - val_root_mean_squared_error: 4.5699\n",
            "Epoch 48/70\n",
            "10/10 [==============================] - 0s 4ms/step - loss: 7.3212 - root_mean_squared_error: 2.7058 - val_loss: 19.8297 - val_root_mean_squared_error: 4.4531\n",
            "Epoch 49/70\n",
            "10/10 [==============================] - 0s 7ms/step - loss: 6.9457 - root_mean_squared_error: 2.6355 - val_loss: 28.2960 - val_root_mean_squared_error: 5.3194\n",
            "Epoch 50/70\n",
            "10/10 [==============================] - 0s 6ms/step - loss: 7.4920 - root_mean_squared_error: 2.7372 - val_loss: 17.7326 - val_root_mean_squared_error: 4.2110\n",
            "Epoch 51/70\n",
            "10/10 [==============================] - 0s 7ms/step - loss: 7.0017 - root_mean_squared_error: 2.6461 - val_loss: 19.8615 - val_root_mean_squared_error: 4.4566\n",
            "Epoch 52/70\n",
            "10/10 [==============================] - 0s 7ms/step - loss: 6.8022 - root_mean_squared_error: 2.6081 - val_loss: 23.5298 - val_root_mean_squared_error: 4.8508\n",
            "Epoch 53/70\n",
            "10/10 [==============================] - 0s 6ms/step - loss: 6.7825 - root_mean_squared_error: 2.6043 - val_loss: 14.5029 - val_root_mean_squared_error: 3.8083\n",
            "Epoch 54/70\n",
            "10/10 [==============================] - 0s 6ms/step - loss: 6.6413 - root_mean_squared_error: 2.5771 - val_loss: 16.8217 - val_root_mean_squared_error: 4.1014\n",
            "Epoch 55/70\n",
            "10/10 [==============================] - 0s 4ms/step - loss: 6.6112 - root_mean_squared_error: 2.5712 - val_loss: 18.1508 - val_root_mean_squared_error: 4.2604\n",
            "Epoch 56/70\n",
            "10/10 [==============================] - 0s 4ms/step - loss: 7.7562 - root_mean_squared_error: 2.7850 - val_loss: 16.4291 - val_root_mean_squared_error: 4.0533\n",
            "Epoch 57/70\n",
            "10/10 [==============================] - 0s 4ms/step - loss: 8.2845 - root_mean_squared_error: 2.8783 - val_loss: 16.7209 - val_root_mean_squared_error: 4.0891\n",
            "Epoch 58/70\n",
            "10/10 [==============================] - 0s 4ms/step - loss: 6.5533 - root_mean_squared_error: 2.5599 - val_loss: 19.0885 - val_root_mean_squared_error: 4.3690\n",
            "Epoch 59/70\n",
            "10/10 [==============================] - 0s 4ms/step - loss: 8.3372 - root_mean_squared_error: 2.8874 - val_loss: 21.2575 - val_root_mean_squared_error: 4.6106\n",
            "Epoch 60/70\n",
            "10/10 [==============================] - 0s 6ms/step - loss: 8.0774 - root_mean_squared_error: 2.8421 - val_loss: 23.5779 - val_root_mean_squared_error: 4.8557\n",
            "Epoch 61/70\n",
            "10/10 [==============================] - 0s 6ms/step - loss: 7.0787 - root_mean_squared_error: 2.6606 - val_loss: 18.4915 - val_root_mean_squared_error: 4.3002\n",
            "Epoch 62/70\n",
            "10/10 [==============================] - 0s 6ms/step - loss: 6.2054 - root_mean_squared_error: 2.4911 - val_loss: 20.1626 - val_root_mean_squared_error: 4.4903\n",
            "Epoch 63/70\n",
            "10/10 [==============================] - 0s 4ms/step - loss: 7.5269 - root_mean_squared_error: 2.7435 - val_loss: 20.7325 - val_root_mean_squared_error: 4.5533\n",
            "Epoch 64/70\n",
            "10/10 [==============================] - 0s 6ms/step - loss: 7.4248 - root_mean_squared_error: 2.7248 - val_loss: 15.3698 - val_root_mean_squared_error: 3.9204\n",
            "Epoch 65/70\n",
            "10/10 [==============================] - 0s 4ms/step - loss: 7.3551 - root_mean_squared_error: 2.7120 - val_loss: 14.5624 - val_root_mean_squared_error: 3.8161\n",
            "Epoch 66/70\n",
            "10/10 [==============================] - 0s 6ms/step - loss: 6.6228 - root_mean_squared_error: 2.5735 - val_loss: 21.0231 - val_root_mean_squared_error: 4.5851\n",
            "Epoch 67/70\n",
            "10/10 [==============================] - 0s 6ms/step - loss: 6.5784 - root_mean_squared_error: 2.5648 - val_loss: 16.0992 - val_root_mean_squared_error: 4.0124\n",
            "Epoch 68/70\n",
            "10/10 [==============================] - 0s 7ms/step - loss: 6.1977 - root_mean_squared_error: 2.4895 - val_loss: 23.1307 - val_root_mean_squared_error: 4.8094\n",
            "Epoch 69/70\n",
            "10/10 [==============================] - 0s 5ms/step - loss: 7.8940 - root_mean_squared_error: 2.8096 - val_loss: 16.4961 - val_root_mean_squared_error: 4.0615\n",
            "Epoch 70/70\n",
            "10/10 [==============================] - 0s 4ms/step - loss: 7.7516 - root_mean_squared_error: 2.7842 - val_loss: 19.5076 - val_root_mean_squared_error: 4.4167\n"
          ]
        }
      ],
      "source": [
        "import tensorflow as tf \n",
        "from tensorflow import keras\n",
        "from sklearn.preprocessing import StandardScaler\n",
        "\n",
        "#データセットをダウンロード\n",
        "house_price = keras.datasets.boston_housing\n",
        "\n",
        "#データをtraining, validation, test に分ける\n",
        "(train_X, train_Y), (test_X, test_Y) = house_price.load_data()\n",
        "train_X, valid_X, train_Y, valid_Y = train_test_split(train_X, train_Y)\n",
        "\n",
        "#変数をスケーリング　最適化を早くするため\n",
        "scaler = StandardScaler()\n",
        "train_X = scaler.fit_transform(train_X)\n",
        "valid_X = scaler.fit_transform(valid_X)\n",
        "test_X = scaler.fit_transform(test_X)\n",
        "\n",
        "#KerasのSequential model を使う\n",
        "keras_model = keras.models.Sequential()\n",
        "\n",
        "#インプットレイヤーを追加\n",
        "keras_model.add(tf.keras.Input(shape=train_X.shape[1:],))\n",
        "\n",
        "#Hidden layer を追加\n",
        "keras_model.add(tf.keras.layers.Dense(30,activation=\"relu\"))\n",
        "\n",
        "#Output layer を追加\n",
        "keras_model.add(tf.keras.layers.Dense(1))\n",
        "\n",
        "keras_model.summary()\n",
        "\n",
        "#モデルをコンパイル\n",
        "keras_model.compile(loss=\"mean_squared_error\", optimizer=\"sgd\",metrics=[tf.keras.metrics.RootMeanSquaredError(\n",
        "    name=\"root_mean_squared_error\",dtype=None)])\n",
        "\n",
        "#モデルをトレーニング\n",
        "#validationのデータセットがあれば、それを渡すことで、validationに関してのlossやRMSEの計算なども簡単にできる。\n",
        "history = keras_model.fit(train_X, train_Y, epochs=70, validation_data=(valid_X, valid_Y))\n"
      ]
    },
    {
      "cell_type": "markdown",
      "source": [
        "損失関数とRMSEの値をエポックごとにプロットする。ValidationとTraningのデータセットのそれぞれに、その二つの値が計算されている。　エポックはトレーニングのデータセットを何回学習したかを表します。ニューラルネットでは一つのトレーニングのデータセットを何回も学習させます。"
      ],
      "metadata": {
        "id": "nudpvV9FNTI8"
      }
    },
    {
      "cell_type": "code",
      "execution_count": 19,
      "metadata": {
        "id": "QeqAypyevTy9",
        "colab": {
          "base_uri": "https://localhost:8080/",
          "height": 501
        },
        "outputId": "90b76aa8-92a2-4d85-e9e4-2b5d988916b9"
      },
      "outputs": [
        {
          "output_type": "display_data",
          "data": {
            "text/plain": [
              "<Figure size 720x576 with 1 Axes>"
            ],
            "image/png": "[encoded data removed]"
          },
          "metadata": {
            "needs_background": "light"
          }
        }
      ],
      "source": [
        "import pandas as pd \n",
        "import matplotlib.pyplot as plt\n",
        "\n",
        "pd.DataFrame(history.history).plot(figsize=(10,8))\n",
        "plt.grid(True)\n",
        "plt.gca().set_ylim(0,60)\n",
        "plt.xlabel(\"# of Epocs\")\n",
        "plt.show()"
      ]
    },
    {
      "cell_type": "markdown",
      "source": [
        "Test Datasetにモデルを適応して、RMSEを計算"
      ],
      "metadata": {
        "id": "3xW99aZMN49B"
      }
    },
    {
      "cell_type": "code",
      "execution_count": 20,
      "metadata": {
        "id": "AA35BTjJvTy9",
        "colab": {
          "base_uri": "https://localhost:8080/"
        },
        "outputId": "fe57c461-ee41-457c-e5c4-824cc8692763"
      },
      "outputs": [
        {
          "output_type": "execute_result",
          "data": {
            "text/plain": [
              "4.307006550929212"
            ]
          },
          "metadata": {},
          "execution_count": 20
        }
      ],
      "source": [
        "mean_squared_error(test_Y,keras_model.predict(test_X)) ** (1/2)"
      ]
    },
    {
      "cell_type": "markdown",
      "metadata": {
        "id": "7hXlz7iBvTy9"
      },
      "source": [
        "## Classificaiton using Keras "
      ]
    },
    {
      "cell_type": "markdown",
      "source": [
        "Dataset\n",
        "\n",
        "手書きの数字を表したイメージが含まれている。イメージは28*28で全７８４ピクセル。\n",
        "\n",
        "Goal \n",
        "\n",
        "イメージが０から９のどの数字なのかを判別する。"
      ],
      "metadata": {
        "id": "7H6eGUDslmQR"
      }
    },
    {
      "cell_type": "code",
      "execution_count": 21,
      "metadata": {
        "id": "f-R9_s0IvTy9",
        "colab": {
          "base_uri": "https://localhost:8080/"
        },
        "outputId": "863fc9f6-cfab-4440-dfb7-9bcbfa90cf90"
      },
      "outputs": [
        {
          "output_type": "stream",
          "name": "stdout",
          "text": [
            "Downloading data from https://storage.googleapis.com/tensorflow/tf-keras-datasets/mnist.npz\n",
            "11493376/11490434 [==============================] - 0s 0us/step\n",
            "11501568/11490434 [==============================] - 0s 0us/step\n"
          ]
        }
      ],
      "source": [
        "#データをダウンロードして、トレーニングとテストに分ける\n",
        "(train_X,train_Y),(test_X, test_Y) = tf.keras.datasets.mnist.load_data(path=\"mnist.npz\")\n"
      ]
    },
    {
      "cell_type": "code",
      "execution_count": 22,
      "metadata": {
        "scrolled": true,
        "id": "caiVoYtgvTy9",
        "colab": {
          "base_uri": "https://localhost:8080/",
          "height": 265
        },
        "outputId": "2d72d450-c404-4e81-ff87-fbf58eceb108"
      },
      "outputs": [
        {
          "output_type": "display_data",
          "data": {
            "text/plain": [
              "<Figure size 432x288 with 1 Axes>"
            ],
            "image/png": "[encoded data removed]"
          },
          "metadata": {
            "needs_background": "light"
          }
        }
      ],
      "source": [
        "#イメージを実際に視覚化してみる\n",
        "from matplotlib import pyplot as plt\n",
        "plt.imshow(train_X[0],cmap='Greys')\n",
        "plt.show()"
      ]
    },
    {
      "cell_type": "code",
      "execution_count": 23,
      "metadata": {
        "scrolled": true,
        "id": "enlaIOA1vTy9",
        "colab": {
          "base_uri": "https://localhost:8080/"
        },
        "outputId": "8b090392-ea2f-49e7-d318-bacbd4cc6e9f"
      },
      "outputs": [
        {
          "output_type": "stream",
          "name": "stdout",
          "text": [
            "Model: \"sequential_3\"\n",
            "_________________________________________________________________\n",
            " Layer (type)                Output Shape              Param #   \n",
            "=================================================================\n",
            " flatten (Flatten)           (None, 784)               0         \n",
            "                                                                 \n",
            " dense_6 (Dense)             (None, 10)                7850      \n",
            "                                                                 \n",
            "=================================================================\n",
            "Total params: 7,850\n",
            "Trainable params: 7,850\n",
            "Non-trainable params: 0\n",
            "_________________________________________________________________\n",
            "Epoch 1/20\n",
            "1407/1407 [==============================] - 5s 3ms/step - loss: 0.8653 - accuracy: 0.7937 - val_loss: 0.5489 - val_accuracy: 0.8663\n",
            "Epoch 2/20\n",
            "1407/1407 [==============================] - 4s 3ms/step - loss: 0.4936 - accuracy: 0.8744 - val_loss: 0.4499 - val_accuracy: 0.8829\n",
            "Epoch 3/20\n",
            "1407/1407 [==============================] - 4s 3ms/step - loss: 0.4299 - accuracy: 0.8865 - val_loss: 0.4096 - val_accuracy: 0.8896\n",
            "Epoch 4/20\n",
            "1407/1407 [==============================] - 4s 3ms/step - loss: 0.3984 - accuracy: 0.8930 - val_loss: 0.3865 - val_accuracy: 0.8954\n",
            "Epoch 5/20\n",
            "1407/1407 [==============================] - 4s 3ms/step - loss: 0.3785 - accuracy: 0.8970 - val_loss: 0.3717 - val_accuracy: 0.8983\n",
            "Epoch 6/20\n",
            "1407/1407 [==============================] - 5s 3ms/step - loss: 0.3646 - accuracy: 0.8997 - val_loss: 0.3599 - val_accuracy: 0.9015\n",
            "Epoch 7/20\n",
            "1407/1407 [==============================] - 4s 3ms/step - loss: 0.3540 - accuracy: 0.9024 - val_loss: 0.3520 - val_accuracy: 0.9030\n",
            "Epoch 8/20\n",
            "1407/1407 [==============================] - 4s 3ms/step - loss: 0.3455 - accuracy: 0.9046 - val_loss: 0.3449 - val_accuracy: 0.9047\n",
            "Epoch 9/20\n",
            "1407/1407 [==============================] - 4s 3ms/step - loss: 0.3387 - accuracy: 0.9060 - val_loss: 0.3399 - val_accuracy: 0.9065\n",
            "Epoch 10/20\n",
            "1407/1407 [==============================] - 5s 4ms/step - loss: 0.3330 - accuracy: 0.9079 - val_loss: 0.3357 - val_accuracy: 0.9071\n",
            "Epoch 11/20\n",
            "1407/1407 [==============================] - 4s 3ms/step - loss: 0.3281 - accuracy: 0.9088 - val_loss: 0.3306 - val_accuracy: 0.9092\n",
            "Epoch 12/20\n",
            "1407/1407 [==============================] - 4s 3ms/step - loss: 0.3238 - accuracy: 0.9098 - val_loss: 0.3275 - val_accuracy: 0.9099\n",
            "Epoch 13/20\n",
            "1407/1407 [==============================] - 4s 3ms/step - loss: 0.3200 - accuracy: 0.9108 - val_loss: 0.3251 - val_accuracy: 0.9101\n",
            "Epoch 14/20\n",
            "1407/1407 [==============================] - 4s 3ms/step - loss: 0.3166 - accuracy: 0.9116 - val_loss: 0.3216 - val_accuracy: 0.9114\n",
            "Epoch 15/20\n",
            "1407/1407 [==============================] - 4s 3ms/step - loss: 0.3136 - accuracy: 0.9128 - val_loss: 0.3193 - val_accuracy: 0.9135\n",
            "Epoch 16/20\n",
            "1407/1407 [==============================] - 4s 3ms/step - loss: 0.3109 - accuracy: 0.9132 - val_loss: 0.3176 - val_accuracy: 0.9137\n",
            "Epoch 17/20\n",
            "1407/1407 [==============================] - 4s 3ms/step - loss: 0.3085 - accuracy: 0.9135 - val_loss: 0.3159 - val_accuracy: 0.9143\n",
            "Epoch 18/20\n",
            "1407/1407 [==============================] - 4s 3ms/step - loss: 0.3062 - accuracy: 0.9145 - val_loss: 0.3137 - val_accuracy: 0.9145\n",
            "Epoch 19/20\n",
            "1407/1407 [==============================] - 5s 3ms/step - loss: 0.3040 - accuracy: 0.9148 - val_loss: 0.3132 - val_accuracy: 0.9147\n",
            "Epoch 20/20\n",
            "1407/1407 [==============================] - 4s 3ms/step - loss: 0.3021 - accuracy: 0.9156 - val_loss: 0.3108 - val_accuracy: 0.9159\n"
          ]
        }
      ],
      "source": [
        "import tensorflow as tf \n",
        "from tensorflow import keras\n",
        "from sklearn.preprocessing import StandardScaler\n",
        "\n",
        "#training と　validationに分ける\n",
        "train_X, valid_X, train_Y, valid_Y = train_test_split(train_X, train_Y)\n",
        "\n",
        "#最適化のアルゴリズムを早くするために、変数をスケーリングします。\n",
        "train_X = train_X / 255.0\n",
        "valid_X = valid_X / 255.0\n",
        "test_X = test_X / 255.0\n",
        "\n",
        "keras_clf = keras.models.Sequential()\n",
        "#input layerを作る。もともとのinputのデータが2-Dなので、1Dにします。\n",
        "keras_clf.add(keras.layers.Flatten(input_shape=[28,28]))\n",
        "\n",
        "#output layer を作る.10個のクラスがあるので、10個のニューロンが必要。\n",
        "keras_clf.add(keras.layers.Dense(10,activation = 'softmax'))\n",
        "\n",
        "keras_clf.summary()\n",
        "keras_clf.compile(loss=\"sparse_categorical_crossentropy\",optimizer=\"sgd\",metrics=[\"accuracy\"])\n",
        "history = keras_clf.fit(train_X, train_Y, epochs=20, validation_data=(valid_X,valid_Y))"
      ]
    },
    {
      "cell_type": "markdown",
      "source": [
        " 損失関数とaccuracyの値をエポックごとにプロットする。ValidationとTraningのデータセットのそれぞれに、その二つの値が計算されている。"
      ],
      "metadata": {
        "id": "OFAHqKmTnFlp"
      }
    },
    {
      "cell_type": "code",
      "execution_count": 24,
      "metadata": {
        "id": "bPTb-xO0vTy-",
        "colab": {
          "base_uri": "https://localhost:8080/",
          "height": 334
        },
        "outputId": "0b434310-5258-4d98-e2f3-a077cbf492da"
      },
      "outputs": [
        {
          "output_type": "display_data",
          "data": {
            "text/plain": [
              "<Figure size 576x360 with 1 Axes>"
            ],
            "image/png": "[encoded data removed]"
          },
          "metadata": {
            "needs_background": "light"
          }
        }
      ],
      "source": [
        "pd.DataFrame(history.history).plot(figsize=(8,5))\n",
        "plt.grid(True)\n",
        "plt.gca()\n",
        "plt.xlabel(\"# of Epocs\")\n",
        "plt.show()"
      ]
    },
    {
      "cell_type": "markdown",
      "metadata": {
        "id": "7AMbWYBavTy-"
      },
      "source": [
        "### Test データを使って予測してみる"
      ]
    },
    {
      "cell_type": "code",
      "execution_count": 25,
      "metadata": {
        "id": "sRT4lmozvTy-",
        "colab": {
          "base_uri": "https://localhost:8080/"
        },
        "outputId": "1b0515e3-877a-4dda-9d0d-02a71ccf88ae"
      },
      "outputs": [
        {
          "output_type": "stream",
          "name": "stdout",
          "text": [
            "Accuracy: 0.9178\n"
          ]
        }
      ],
      "source": [
        "#accuracyを計算\n",
        "from sklearn.metrics import accuracy_score\n",
        "print(\"Accuracy: \" +str(accuracy_score(test_Y,keras_clf.predict(test_X).argmax(axis=-1))))"
      ]
    },
    {
      "cell_type": "markdown",
      "source": [
        "ニューラルネットの学習の視覚化"
      ],
      "metadata": {
        "id": "tQD_UdQ02IB-"
      }
    },
    {
      "cell_type": "markdown",
      "source": [
        "この数字判別の問題だと、アウトプットノードが１０個あります。それぞれのノードが７８４個のインプットノードとエッジで結ばれていて、そのエッジに重みがつけられています。つまり、一つのクラスに７８４個の重みがあります。\n",
        "\n",
        "それでは、ここでいう重みの最適化は何を指すのでしょうか？簡単にいうと、あるラベルがついたインプットが来た時、そのラベルを判別するアウトプットノードが他のノードに比べて大きな値を出力できるような重みを計算するのが最適化にあたります。\n",
        "\n",
        "この数字判別の例だと、仮に１を表すインプットが与えられた時、１を判別するアウトプットノードが一番大きい値を出力するような重みを計算しなければなりません。もう少し詳しくいうと、１という数字のイメージに相関があるピクセルに高い重みを与えればいいのです。そうすれば、インプットと重みのドット積も大きな値を出します。\n",
        "\n",
        "従って、重みを視覚化すると数字がぼんやりと見えます。下の図は数字の３を判別するアウトプットノードと全てのインプットのエッジの間の重みを視覚化したものです。 赤いとこほど、大きな重みを持っています。\n",
        "\n",
        "ニューラルネットワークでの学習は重みを最適化することです。あるインプットに紐づいている重みが少ないということは、それほど重要ではないということです。下の図は、そういった意味ではニューラルネットワークが重要だと学習したピクセルの位置を示していると言えます。\n",
        "\n"
      ],
      "metadata": {
        "id": "Q_XyJliK3ss1"
      }
    },
    {
      "cell_type": "code",
      "execution_count": 26,
      "metadata": {
        "id": "RvhoDv9dvTy-",
        "colab": {
          "base_uri": "https://localhost:8080/",
          "height": 283
        },
        "outputId": "e53acde4-dce5-4041-9e20-e6d5047a7670"
      },
      "outputs": [
        {
          "output_type": "execute_result",
          "data": {
            "text/plain": [
              "<matplotlib.image.AxesImage at 0x7fe3531f3990>"
            ]
          },
          "metadata": {},
          "execution_count": 26
        },
        {
          "output_type": "display_data",
          "data": {
            "text/plain": [
              "<Figure size 432x288 with 1 Axes>"
            ],
            "image/png": "[encoded data removed]"
          },
          "metadata": {
            "needs_background": "light"
          }
        }
      ],
      "source": [
        "#３のアウトプットノードに関連する重みを全部について、２８＊２８の2-Dに変換\n",
        "plt.imshow(np.reshape(keras_clf.get_weights()[0][:,3],(28,28)),cmap=\"seismic\")"
      ]
    }
  ],
  "metadata": {
    "kernelspec": {
      "display_name": "Python 3",
      "language": "python",
      "name": "python3"
    },
    "language_info": {
      "codemirror_mode": {
        "name": "ipython",
        "version": 3
      },
      "file_extension": ".py",
      "mimetype": "text/x-python",
      "name": "python",
      "nbconvert_exporter": "python",
      "pygments_lexer": "ipython3",
      "version": "3.8.5"
    },
    "colab": {
      "name": "Deep_learning_material_tempate.ipynb",
      "provenance": [],
      "collapsed_sections": [],
      "include_colab_link": true
    }
  },
  "nbformat": 4,
  "nbformat_minor": 0
}