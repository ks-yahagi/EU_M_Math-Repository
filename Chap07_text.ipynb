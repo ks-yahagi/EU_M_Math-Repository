{
  "nbformat": 4,
  "nbformat_minor": 0,
  "metadata": {
    "colab": {
      "name": "Chap07_text.ipynb",
      "provenance": [],
      "authorship_tag": "ABX9TyONkr6XaWeR2yEv9JCi0ExM",
      "include_colab_link": true
    },
    "kernelspec": {
      "name": "python3",
      "display_name": "Python 3"
    },
    "language_info": {
      "name": "python"
    }
  },
  "cells": [
    {
      "cell_type": "markdown",
      "metadata": {
        "id": "view-in-github",
        "colab_type": "text"
      },
      "source": [
        "<a href=\"https://colab.research.google.com/github/ks-yahagi/EU_M_Math-Repository/blob/main/Chap07_text.ipynb\" target=\"_parent\"><img src=\"https://colab.research.google.com/assets/colab-badge.svg\" alt=\"Open In Colab\"/></a>"
      ]
    },
    {
      "cell_type": "code",
      "execution_count": 1,
      "metadata": {
        "colab": {
          "base_uri": "https://localhost:8080/",
          "height": 36
        },
        "id": "_SYnPx1y1cH4",
        "outputId": "fcb28c1f-b50d-4319-dcdf-1f440fc1e812"
      },
      "outputs": [
        {
          "output_type": "execute_result",
          "data": {
            "text/plain": [
              "'%.3f'"
            ],
            "application/vnd.google.colaboratory.intrinsic+json": {
              "type": "string"
            }
          },
          "metadata": {},
          "execution_count": 1
        }
      ],
      "source": [
        "import numpy as np\n",
        "import numpy.random as random\n",
        "import scipy as sp\n",
        "import pandas as pd\n",
        "from pandas import Series, DataFrame\n",
        "\n",
        "import matplotlib.pyplot as plt\n",
        "import matplotlib as mp1\n",
        "import seaborn as sns\n",
        "sns.set()\n",
        "%matplotlib inline\n",
        "\n",
        "%precision 3"
      ]
    },
    {
      "cell_type": "code",
      "source": [
        "#表示するデータ\n",
        "x = [1,2,3]\n",
        "y = [10,1,4]\n",
        "\n",
        "#グラフの大きさを指定\n",
        "plt.figure(figsize=(10,6))\n",
        "\n",
        "plt.bar(x,y,align='center',width=0.5)\n",
        "\n",
        "#棒グラフそれぞれのラベル\n",
        "plt.xticks(x,['A Class','B Class','C Class'])\n",
        "\n",
        "#xとyのラベルを設定\n",
        "plt.xlabel('Class')\n",
        "plt.ylabel('Score')\n",
        "\n",
        "#グリッドを表示\n",
        "plt.grid(True)"
      ],
      "metadata": {
        "colab": {
          "base_uri": "https://localhost:8080/",
          "height": 394
        },
        "id": "I3jntjjm2Z1f",
        "outputId": "33e6f5c7-a12a-428f-bd8c-5ebee6d5df97"
      },
      "execution_count": 2,
      "outputs": [
        {
          "output_type": "display_data",
          "data": {
            "text/plain": [
              "<Figure size 720x432 with 1 Axes>"
            ],
            "image/png": "[encoded data removed]"
          },
          "metadata": {
            "needs_background": "light"
          }
        }
      ]
    },
    {
      "cell_type": "code",
      "source": [
        "#表示するデータ\n",
        "x=[1,2,3]\n",
        "y=[10,1,4]\n",
        "\n",
        "#グラフの大きさを指定\n",
        "plt.figure(figsize=(10,6))\n",
        "\n",
        "plt.barh(x,y,align='center')\n",
        "plt.yticks(x,['A Class','B Class','C Class'])\n",
        "plt.ylabel('Class')\n",
        "plt.xlabel('Score')\n",
        "plt.grid(True)"
      ],
      "metadata": {
        "colab": {
          "base_uri": "https://localhost:8080/",
          "height": 394
        },
        "id": "A0_uAIM23c1c",
        "outputId": "814d23e6-4b4f-4f62-cabb-49a12483cb43"
      },
      "execution_count": 3,
      "outputs": [
        {
          "output_type": "display_data",
          "data": {
            "text/plain": [
              "<Figure size 720x432 with 1 Axes>"
            ],
            "image/png": "[encoded data removed]"
          },
          "metadata": {
            "needs_background": "light"
          }
        }
      ]
    },
    {
      "cell_type": "code",
      "source": [
        "#データの準備\n",
        "y1=np.array([30,])"
      ],
      "metadata": {
        "id": "8twhfrj74IzB"
      },
      "execution_count": null,
      "outputs": []
    }
  ]
}