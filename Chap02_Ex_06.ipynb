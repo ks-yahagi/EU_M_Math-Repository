{
  "nbformat": 4,
  "nbformat_minor": 0,
  "metadata": {
    "colab": {
      "name": "Chap02_Ex_06.ipynb",
      "provenance": [],
      "authorship_tag": "ABX9TyNF6zdMSO6eq5R9ryBou8t9",
      "include_colab_link": true
    },
    "kernelspec": {
      "name": "python3",
      "display_name": "Python 3"
    },
    "language_info": {
      "name": "python"
    }
  },
  "cells": [
    {
      "cell_type": "markdown",
      "metadata": {
        "id": "view-in-github",
        "colab_type": "text"
      },
      "source": [
        "<a href=\"https://colab.research.google.com/github/ks-yahagi/EU_M_Math-Repository/blob/main/Chap02_Ex_06.ipynb\" target=\"_parent\"><img src=\"https://colab.research.google.com/assets/colab-badge.svg\" alt=\"Open In Colab\"/></a>"
      ]
    },
    {
      "cell_type": "code",
      "execution_count": 9,
      "metadata": {
        "colab": {
          "base_uri": "https://localhost:8080/"
        },
        "id": "x9ACInu7RJ90",
        "outputId": "6b6ba54e-7fb2-4d6f-bde3-d8ecf3eb2403"
      },
      "outputs": [
        {
          "output_type": "stream",
          "name": "stdout",
          "text": [
            "-0.45339765151640365\n",
            "確認: 3.3306690738754696e-16\n",
            "教科書確認 3.3306690738754696e-16\n"
          ]
        }
      ],
      "source": [
        "import numpy as np\n",
        "import scipy.linalg as linalg\n",
        "from scipy.optimize import newton\n",
        "\n",
        "def my_function(x):\n",
        "  return (x**3+2*x+1)\n",
        "\n",
        "answer = newton(my_function,0)\n",
        "print(answer)\n",
        "\n",
        "check=my_function(answer)\n",
        "print(\"確認:\",check)\n",
        "print(\"教科書確認\",my_function(newton(my_function,0)))"
      ]
    }
  ]
}