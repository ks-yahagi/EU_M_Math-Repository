{
  "nbformat": 4,
  "nbformat_minor": 0,
  "metadata": {
    "colab": {
      "name": "Chap02_Ex-02.ipynb",
      "provenance": [],
      "authorship_tag": "ABX9TyNZaX2gxGv6e7abbtD+olu1",
      "include_colab_link": true
    },
    "kernelspec": {
      "name": "python3",
      "display_name": "Python 3"
    },
    "language_info": {
      "name": "python"
    }
  },
  "cells": [
    {
      "cell_type": "markdown",
      "metadata": {
        "id": "view-in-github",
        "colab_type": "text"
      },
      "source": [
        "<a href=\"https://colab.research.google.com/github/ks-yahagi/EU_M_Math-Repository/blob/main/Chap02_Ex_02.ipynb\" target=\"_parent\"><img src=\"https://colab.research.google.com/assets/colab-badge.svg\" alt=\"Open In Colab\"/></a>"
      ]
    },
    {
      "cell_type": "code",
      "execution_count": 6,
      "metadata": {
        "colab": {
          "base_uri": "https://localhost:8080/"
        },
        "id": "piwYoOnlG4yI",
        "outputId": "15e3a792-c71f-4832-a862-6ba0a517d0ee"
      },
      "outputs": [
        {
          "output_type": "stream",
          "name": "stdout",
          "text": [
            "data最小値: -0.977277879876411\n",
            "data最大値: 2.240893199201458\n",
            "data合計: 7.380231707288347\n"
          ]
        }
      ],
      "source": [
        "import numpy.random as random\n",
        "random.seed(0)\n",
        "\n",
        "data = random.randn(10)\n",
        "print(\"data最小値:\",data.min())\n",
        "print(\"data最大値:\",data.max())\n",
        "print(\"data合計:\",data.sum())"
      ]
    }
  ]
}