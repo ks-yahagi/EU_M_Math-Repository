{
  "nbformat": 4,
  "nbformat_minor": 0,
  "metadata": {
    "colab": {
      "name": "Chap02_Cm_01.ipynb",
      "provenance": [],
      "authorship_tag": "ABX9TyNX5QUwL+qlGlN5sTwdf2Bj",
      "include_colab_link": true
    },
    "kernelspec": {
      "name": "python3",
      "display_name": "Python 3"
    },
    "language_info": {
      "name": "python"
    }
  },
  "cells": [
    {
      "cell_type": "markdown",
      "metadata": {
        "id": "view-in-github",
        "colab_type": "text"
      },
      "source": [
        "<a href=\"https://colab.research.google.com/github/ks-yahagi/EU_M_Math-Repository/blob/main/Chap02_Cm_01.ipynb\" target=\"_parent\"><img src=\"https://colab.research.google.com/assets/colab-badge.svg\" alt=\"Open In Colab\"/></a>"
      ]
    },
    {
      "cell_type": "code",
      "execution_count": 2,
      "metadata": {
        "colab": {
          "base_uri": "https://localhost:8080/",
          "height": 370
        },
        "id": "utRVsA503jc7",
        "outputId": "4c9bee68-d201-4054-a7a6-6b46fdc4b542"
      },
      "outputs": [
        {
          "output_type": "stream",
          "name": "stdout",
          "text": [
            "円の内部に入った数: 7855361\n",
            "円周率の近似値: 3.1421444\n"
          ]
        },
        {
          "output_type": "display_data",
          "data": {
            "text/plain": [
              "<Figure size 360x360 with 1 Axes>"
            ],
            "image/png": "[encoded data removed]"
          },
          "metadata": {
            "needs_background": "light"
          }
        }
      ],
      "source": [
        "#解答を見ました\n",
        "import numpy as np\n",
        "import math\n",
        "import matplotlib.pyplot as plt\n",
        "\n",
        "N=10000000\n",
        "\n",
        "#一様乱数の発生\n",
        "x = np.random.uniform(0.0,1.0,N)\n",
        "y = np.random.uniform(0.0,1.0,N)\n",
        "\n",
        "#円の中に入ったxとy\n",
        "inside_x = []\n",
        "inside_y = []\n",
        "\n",
        "#円の外に出たxとy\n",
        "outside_x = []\n",
        "outside_y = []\n",
        "\n",
        "count_inside = 0\n",
        "for count in range(0,N):\n",
        "  d = math.hypot(x[count],y[count])\n",
        "  if d < 1:\n",
        "    count_inside +=1\n",
        "    #円の内部に入った時のxとyの組み合わせ\n",
        "    #appendはリストに要素を追加するメソッド\n",
        "    inside_x.append(x[count])\n",
        "    inside_y.append(y[count])\n",
        "  else:\n",
        "    #円の外に出た時のxとyの組み合わせ\n",
        "    outside_x.append(x[count])\n",
        "    outside_y.append(y[count])\n",
        "\n",
        "print(\"円の内部に入った数:\",count_inside)\n",
        "\n",
        "#図のサイズ\n",
        "plt.figure(figsize=(5,5))\n",
        "\n",
        "#円を書くためのデータ\n",
        "circle_x = np.arange(0,1,0.001)\n",
        "circle_y = np.sqrt(1-circle_x*circle_x)\n",
        "\n",
        "#円を描く\n",
        "plt.plot(circle_x,circle_y)\n",
        "\n",
        "#円の中に入っているのが, red\n",
        "plt.scatter(inside_x,inside_y,color=\"r\")\n",
        "#円の外に出たのが, blue\n",
        "plt.scatter(outside_x,outside_y,color='b')\n",
        "\n",
        "plt.xlabel('x')\n",
        "plt.ylabel('y')\n",
        "plt.grid(True)\n",
        "\n",
        "print(\"円周率の近似値:\",4.0*count_inside/N)\n"
      ]
    },
    {
      "cell_type": "markdown",
      "source": [
        ""
      ],
      "metadata": {
        "id": "2cwEbuMIBpw-"
      }
    }
  ]
}