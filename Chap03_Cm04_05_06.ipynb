{
  "nbformat": 4,
  "nbformat_minor": 0,
  "metadata": {
    "colab": {
      "name": "Chap03_Cm04-05-06.ipynb",
      "provenance": [],
      "authorship_tag": "ABX9TyMEGRBsofdreLBRNAcJLr4d",
      "include_colab_link": true
    },
    "kernelspec": {
      "name": "python3",
      "display_name": "Python 3"
    },
    "language_info": {
      "name": "python"
    }
  },
  "cells": [
    {
      "cell_type": "markdown",
      "metadata": {
        "id": "view-in-github",
        "colab_type": "text"
      },
      "source": [
        "<a href=\"https://colab.research.google.com/github/ks-yahagi/EU_M_Math-Repository/blob/main/Chap03_Cm04_05_06.ipynb\" target=\"_parent\"><img src=\"https://colab.research.google.com/assets/colab-badge.svg\" alt=\"Open In Colab\"/></a>"
      ]
    },
    {
      "cell_type": "code",
      "execution_count": 1,
      "metadata": {
        "colab": {
          "base_uri": "https://localhost:8080/",
          "height": 36
        },
        "id": "g8lHujmJ9vWy",
        "outputId": "d2fb7c61-f428-4045-bae7-2ff6029c1f17"
      },
      "outputs": [
        {
          "output_type": "execute_result",
          "data": {
            "text/plain": [
              "'%.3f'"
            ],
            "application/vnd.google.colaboratory.intrinsic+json": {
              "type": "string"
            }
          },
          "metadata": {},
          "execution_count": 1
        }
      ],
      "source": [
        "import numpy as np\n",
        "import numpy.random as random\n",
        "import scipy as sp\n",
        "import pandas as pd\n",
        "from pandas import Series, DataFrame\n",
        "\n",
        "import matplotlib.pyplot as plt\n",
        "import matplotlib as mp1\n",
        "import seaborn as sns\n",
        "sns.set()\n",
        "%matplotlib inline\n",
        "\n",
        "%precision 3"
      ]
    },
    {
      "cell_type": "code",
      "source": [
        "import requests, zipfile\n",
        "from io import StringIO\n",
        "import io\n",
        "\n",
        "url = 'https://archive.ics.uci.edu/ml/machine-learning-databases/00356/student.zip'\n",
        "r = requests.get(url,stream=True)\n",
        "\n",
        "z = zipfile.ZipFile(io.BytesIO(r.content))\n",
        "z.extractall()"
      ],
      "metadata": {
        "id": "BjCO7nMIvJMb"
      },
      "execution_count": 2,
      "outputs": []
    },
    {
      "cell_type": "code",
      "source": [
        "from sklearn import linear_model"
      ],
      "metadata": {
        "id": "PFfeUQvpD5Wx"
      },
      "execution_count": 4,
      "outputs": []
    },
    {
      "cell_type": "code",
      "source": [
        "student_data_por = pd.read_csv('student-por.csv',sep=';')\n",
        "\n",
        "reg=linear_model.LinearRegression()\n",
        "\n",
        "X=student_data_por.loc[:,['G1']].values\n",
        "\n",
        "Y=student_data_por['G3'].values\n",
        "\n",
        "reg.fit(X,Y)\n",
        "\n",
        "print('回帰係数:',reg.coef_)\n",
        "\n",
        "print('切片:',reg.intercept_)\n",
        "\n",
        "print('決定係数:',reg.score(X,Y))"
      ],
      "metadata": {
        "colab": {
          "base_uri": "https://localhost:8080/"
        },
        "id": "AikNfzLGA_o8",
        "outputId": "4f976bcf-40d4-4943-e923-5163eeabb304"
      },
      "execution_count": 6,
      "outputs": [
        {
          "output_type": "stream",
          "name": "stdout",
          "text": [
            "回帰係数: [0.973]\n",
            "切片: 0.8203984121064583\n",
            "決定係数: 0.6829156800171083\n"
          ]
        }
      ]
    },
    {
      "cell_type": "code",
      "source": [
        "plt.scatter(X,Y)\n",
        "plt.xlabel('G1 grade')\n",
        "plt.ylabel('G3 grade')\n",
        "\n",
        "plt.plot(X,reg.predict(X))\n",
        "plt.grid(True)"
      ],
      "metadata": {
        "colab": {
          "base_uri": "https://localhost:8080/",
          "height": 286
        },
        "id": "lxmFUuFdERED",
        "outputId": "c572f491-0a8f-487e-98d9-aa4d7bbe95e1"
      },
      "execution_count": 7,
      "outputs": [
        {
          "output_type": "display_data",
          "data": {
            "text/plain": [
              "<Figure size 432x288 with 1 Axes>"
            ],
            "image/png": "[encoded data removed]"
          },
          "metadata": {
            "needs_background": "light"
          }
        }
      ]
    },
    {
      "cell_type": "code",
      "source": [
        "from sklearn import linear_model\n",
        "\n",
        "req = linear_model.LinearRegression()\n",
        "\n",
        "X = student_data_por.loc[:,['absences']].values\n",
        "Y = student_data_por['G3'].values\n",
        "\n",
        "reg.fit(X,Y)\n",
        "\n",
        "print('皆生係数:',reg.coef_)\n",
        "print('切片:',reg.intercept_)\n",
        "\n",
        "print('決定係数:',reg.score(X,Y))\n"
      ],
      "metadata": {
        "colab": {
          "base_uri": "https://localhost:8080/"
        },
        "id": "mx8X3-z-EuiM",
        "outputId": "cfe4865e-d3e7-4160-8124-e08fc634b6ce"
      },
      "execution_count": 9,
      "outputs": [
        {
          "output_type": "stream",
          "name": "stdout",
          "text": [
            "皆生係数: [-0.064]\n",
            "切片: 12.138800862687443\n",
            "決定係数: 0.008350131955637385\n"
          ]
        }
      ]
    },
    {
      "cell_type": "code",
      "source": [
        "plt.scatter(X,Y)\n",
        "plt.xlabel('absences')\n",
        "plt.ylabel('G3 grade')\n",
        "plt.plot(X,reg.predict(X))\n",
        "plt.grid(True)"
      ],
      "metadata": {
        "colab": {
          "base_uri": "https://localhost:8080/",
          "height": 285
        },
        "id": "Ab6GQS-rgvvk",
        "outputId": "c821da58-34b7-4688-a917-f6d8bd0aefb9"
      },
      "execution_count": 11,
      "outputs": [
        {
          "output_type": "display_data",
          "data": {
            "text/plain": [
              "<Figure size 432x288 with 1 Axes>"
            ],
            "image/png": "[encoded data removed]"
          },
          "metadata": {
            "needs_background": "light"
          }
        }
      ]
    }
  ]
}