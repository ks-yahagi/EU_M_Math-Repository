{
  "nbformat": 4,
  "nbformat_minor": 0,
  "metadata": {
    "colab": {
      "name": "Untitled5.ipynb",
      "provenance": [],
      "authorship_tag": "ABX9TyPl4tSUD36df5thEdwH4nX6",
      "include_colab_link": true
    },
    "kernelspec": {
      "name": "python3",
      "display_name": "Python 3"
    },
    "language_info": {
      "name": "python"
    }
  },
  "cells": [
    {
      "cell_type": "markdown",
      "metadata": {
        "id": "view-in-github",
        "colab_type": "text"
      },
      "source": [
        "<a href=\"https://colab.research.google.com/github/ks-yahagi/EU_M_Math-Repository/blob/main/Untitled5.ipynb\" target=\"_parent\"><img src=\"https://colab.research.google.com/assets/colab-badge.svg\" alt=\"Open In Colab\"/></a>"
      ]
    },
    {
      "cell_type": "code",
      "execution_count": 1,
      "metadata": {
        "colab": {
          "base_uri": "https://localhost:8080/"
        },
        "id": "M8-nhbPxOXjj",
        "outputId": "cdfd6a8d-e4cf-4b42-9710-585ba8b29b55"
      },
      "outputs": [
        {
          "output_type": "stream",
          "name": "stderr",
          "text": [
            "/usr/local/lib/python3.7/dist-packages/ipykernel_launcher.py:17: FutureWarning: Dropping of nuisance columns in DataFrame reductions (with 'numeric_only=None') is deprecated; in a future version this will raise TypeError.  Select only valid columns before calling the reduction.\n"
          ]
        },
        {
          "output_type": "execute_result",
          "data": {
            "text/plain": [
              "ID          17.0\n",
              "Money      400.0\n",
              "Math        45.0\n",
              "English     50.0\n",
              "dtype: float64"
            ]
          },
          "metadata": {},
          "execution_count": 1
        }
      ],
      "source": [
        "from pandas import Series,DataFrame\n",
        "import pandas as pd\n",
        "\n",
        "attri_data1 = {'ID':['1','2','3','4','5'],\n",
        "               'Sex':['F','F','M','M','M'],\n",
        "               'Money':[1000,2000,500,300,700],\n",
        "               'Name':['Saito','Horie','Kondo','Kawada','Matsubara']}\n",
        "attri_data_frame1= DataFrame(attri_data1)\n",
        "\n",
        "attri_data2 = {'ID':['3','4','7'],\n",
        "               'Math':[60,30,40],\n",
        "               'English':[80,20,30]}\n",
        "attri_data_frame2 = DataFrame(attri_data2)\n",
        "\n",
        "#解答を確認\n",
        "merge_data = attri_data_frame1.merge(attri_data_frame2)\n",
        "merge_data.mean()"
      ]
    }
  ]
}