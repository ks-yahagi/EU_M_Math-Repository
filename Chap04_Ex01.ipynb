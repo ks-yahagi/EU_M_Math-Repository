{
  "nbformat": 4,
  "nbformat_minor": 0,
  "metadata": {
    "colab": {
      "name": "Chap04_Ex01.ipynb",
      "provenance": [],
      "authorship_tag": "ABX9TyM7o0Ng714lds3ckV0wGRSz",
      "include_colab_link": true
    },
    "kernelspec": {
      "name": "python3",
      "display_name": "Python 3"
    },
    "language_info": {
      "name": "python"
    }
  },
  "cells": [
    {
      "cell_type": "markdown",
      "metadata": {
        "id": "view-in-github",
        "colab_type": "text"
      },
      "source": [
        "<a href=\"https://colab.research.google.com/github/ks-yahagi/EU_M_Math-Repository/blob/main/Chap04_Ex01.ipynb\" target=\"_parent\"><img src=\"https://colab.research.google.com/assets/colab-badge.svg\" alt=\"Open In Colab\"/></a>"
      ]
    },
    {
      "cell_type": "code",
      "execution_count": 4,
      "metadata": {
        "id": "gzAKziITXkH1"
      },
      "outputs": [],
      "source": [
        "#以下のライブラリを使うので、あらかじめ読み込んでおいてください\n",
        "import numpy as np\n",
        "import numpy.random as random\n",
        "import scipy as sp\n",
        "import pandas as pd\n",
        "from pandas import Series, DataFrame\n",
        "\n",
        "#可視化ライブラリ\n",
        "import matplotlib.pyplot as plt \n",
        "import matplotlib as mp1\n",
        "import seaborn as sns\n",
        "%matplotlib inline\n",
        "\n",
        "#小数第三位まで表示\n",
        "%precision 3\n",
        "\n",
        "#ランダムシードの固定\n",
        "np.random.seed(0)"
      ]
    },
    {
      "cell_type": "code",
      "source": [
        "#4-1\n",
        "#コインとみなしたデータ\n",
        "#注意:配列は順番が考慮されているので、厳密には集合ではないが、集合とみなす\n",
        "#0:head, 1:tail\n",
        "coin_data = np.array([0,1])\n",
        "\n",
        "#コインを1000回投げる\n",
        "N = 10000\n",
        "\n",
        "#choiceを使う\n",
        "count_all_coin = random.choice(coin_data,N)\n",
        "\n",
        "#それぞれの数字がどれくらいの割合で抽出されたか計算\n",
        "for i in [0,1]:\n",
        "  print(i,'が出る確率',len(count_all_coin[count_all_coin==i])/N)"
      ],
      "metadata": {
        "colab": {
          "base_uri": "https://localhost:8080/"
        },
        "id": "0i-wGWu8pXM5",
        "outputId": "057e1039-35f3-4063-e901-1755f28caa30"
      },
      "execution_count": 6,
      "outputs": [
        {
          "output_type": "stream",
          "name": "stdout",
          "text": [
            "0 が出る確率 0.4909\n",
            "1 が出る確率 0.5091\n"
          ]
        }
      ]
    },
    {
      "cell_type": "code",
      "source": [
        ""
      ],
      "metadata": {
        "id": "sHwPG3nxsAAC"
      },
      "execution_count": null,
      "outputs": []
    }
  ]
}