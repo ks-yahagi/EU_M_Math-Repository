{
  "nbformat": 4,
  "nbformat_minor": 0,
  "metadata": {
    "colab": {
      "name": "Chap05_text.ipynb",
      "provenance": [],
      "authorship_tag": "ABX9TyM0ho5v1yw7knzWqhiJhBYK",
      "include_colab_link": true
    },
    "kernelspec": {
      "name": "python3",
      "display_name": "Python 3"
    },
    "language_info": {
      "name": "python"
    }
  },
  "cells": [
    {
      "cell_type": "markdown",
      "metadata": {
        "id": "view-in-github",
        "colab_type": "text"
      },
      "source": [
        "<a href=\"https://colab.research.google.com/github/ks-yahagi/EU_M_Math-Repository/blob/main/Chap05_text.ipynb\" target=\"_parent\"><img src=\"https://colab.research.google.com/assets/colab-badge.svg\" alt=\"Open In Colab\"/></a>"
      ]
    },
    {
      "cell_type": "code",
      "execution_count": 1,
      "metadata": {
        "colab": {
          "base_uri": "https://localhost:8080/",
          "height": 36
        },
        "id": "E--JgmOLH-_l",
        "outputId": "4e48e698-f61f-4e30-c5de-c1b2c08854c1"
      },
      "outputs": [
        {
          "output_type": "execute_result",
          "data": {
            "text/plain": [
              "'%.3f'"
            ],
            "application/vnd.google.colaboratory.intrinsic+json": {
              "type": "string"
            }
          },
          "metadata": {},
          "execution_count": 1
        }
      ],
      "source": [
        "#以下のライブラリを使うので、あらかじめ読み込んでおいてください\n",
        "import numpy as np\n",
        "import numpy.random as random\n",
        "import scipy as sp\n",
        "\n",
        "#可視化ライブラリ\n",
        "import matplotlib.pyplot as plt\n",
        "import matplotlib as mp1\n",
        "\n",
        "#Jupyter Notebook上でグラフを表示させるための必要なマジックコマンド\n",
        "%matplotlib inline\n",
        "\n",
        "#小数点第3位まで表示\n",
        "%precision 3"
      ]
    },
    {
      "cell_type": "code",
      "source": [
        "sample_array = np.arange(10)\n",
        "print('sample_array:',sample_array)"
      ],
      "metadata": {
        "colab": {
          "base_uri": "https://localhost:8080/"
        },
        "id": "tDui_PV8PMle",
        "outputId": "3780cb0a-03d6-4ce1-ee82-245ad8cdbc13"
      },
      "execution_count": 3,
      "outputs": [
        {
          "output_type": "stream",
          "name": "stdout",
          "text": [
            "sample_array: [0 1 2 3 4 5 6 7 8 9]\n"
          ]
        }
      ]
    },
    {
      "cell_type": "code",
      "source": [
        "#元のデータ\n",
        "print(sample_array)\n",
        "\n",
        "#前から数字を5つ取得して、sample_array_sliceに入れる(スライス)\n",
        "sample_array_slice = sample_array[0:5]\n",
        "print(sample_array_slice)"
      ],
      "metadata": {
        "colab": {
          "base_uri": "https://localhost:8080/"
        },
        "id": "LIL3JajZPurl",
        "outputId": "e6d24074-4a8c-400a-d9b0-b6819486a313"
      },
      "execution_count": 5,
      "outputs": [
        {
          "output_type": "stream",
          "name": "stdout",
          "text": [
            "[0 1 2 3 4 5 6 7 8 9]\n",
            "[0 1 2 3 4]\n"
          ]
        }
      ]
    },
    {
      "cell_type": "code",
      "source": [
        "#sample_array_sliceの3文字目までは、10で置換\n",
        "sample_array_slice[0:3] = 10\n",
        "print(sample_array_slice)\n",
        "\n",
        "#スライスの変更はオリジナルのリストの要素も変更されていることに注意\n",
        "print(sample_array)"
      ],
      "metadata": {
        "colab": {
          "base_uri": "https://localhost:8080/"
        },
        "id": "DForcsuGQO3V",
        "outputId": "d04e3a83-86c4-4e9e-842e-b360a5444a1e"
      },
      "execution_count": 6,
      "outputs": [
        {
          "output_type": "stream",
          "name": "stdout",
          "text": [
            "[10 10 10  3  4]\n",
            "[10 10 10  3  4  5  6  7  8  9]\n"
          ]
        }
      ]
    },
    {
      "cell_type": "code",
      "source": [
        "#copyして別のobjectを作成\n",
        "sample_array_copy = np.copy(sample_array)\n",
        "print(sample_array_copy)\n",
        "\n",
        "sample_array_copy[0:3] =20\n",
        "print(sample_array_copy)\n",
        "\n",
        "#元のリストの要素は変更されていない\n",
        "print(sample_array)"
      ],
      "metadata": {
        "colab": {
          "base_uri": "https://localhost:8080/"
        },
        "id": "MITZUZ_VQvl-",
        "outputId": "9e78f2bd-1f55-4064-f215-a1dc91a3e6b9"
      },
      "execution_count": 8,
      "outputs": [
        {
          "output_type": "stream",
          "name": "stdout",
          "text": [
            "[10 10 10  3  4  5  6  7  8  9]\n",
            "[20 20 20  3  4  5  6  7  8  9]\n",
            "[10 10 10  3  4  5  6  7  8  9]\n"
          ]
        }
      ]
    },
    {
      "cell_type": "code",
      "source": [
        "#データの準備\n",
        "sample_names = np.array(['a','b','c','d','a'])\n",
        "random.seed(0)\n",
        "data = random.randn(5,5)\n",
        "\n",
        "print(sample_names)\n",
        "print(data)"
      ],
      "metadata": {
        "colab": {
          "base_uri": "https://localhost:8080/"
        },
        "id": "wRl7STZOReVU",
        "outputId": "775c8f2b-8529-4e26-9de0-398f058c268d"
      },
      "execution_count": 9,
      "outputs": [
        {
          "output_type": "stream",
          "name": "stdout",
          "text": [
            "['a' 'b' 'c' 'd' 'a']\n",
            "[[ 1.764  0.4    0.979  2.241  1.868]\n",
            " [-0.977  0.95  -0.151 -0.103  0.411]\n",
            " [ 0.144  1.454  0.761  0.122  0.444]\n",
            " [ 0.334  1.494 -0.205  0.313 -0.854]\n",
            " [-2.553  0.654  0.864 -0.742  2.27 ]]\n"
          ]
        }
      ]
    },
    {
      "cell_type": "code",
      "source": [
        "sample_names == 'a'"
      ],
      "metadata": {
        "colab": {
          "base_uri": "https://localhost:8080/"
        },
        "id": "MTCmAj0pSRIH",
        "outputId": "a251fd65-d3c4-409a-c6f2-989a363f8212"
      },
      "execution_count": 10,
      "outputs": [
        {
          "output_type": "execute_result",
          "data": {
            "text/plain": [
              "array([ True, False, False, False,  True])"
            ]
          },
          "metadata": {},
          "execution_count": 10
        }
      ]
    },
    {
      "cell_type": "code",
      "source": [
        "data[sample_names == 'a']"
      ],
      "metadata": {
        "colab": {
          "base_uri": "https://localhost:8080/"
        },
        "id": "92WQfRPKSf1T",
        "outputId": "1b6d99a3-857c-43b5-e028-dc40dadc33fc"
      },
      "execution_count": 11,
      "outputs": [
        {
          "output_type": "execute_result",
          "data": {
            "text/plain": [
              "array([[ 1.764,  0.4  ,  0.979,  2.241,  1.868],\n",
              "       [-2.553,  0.654,  0.864, -0.742,  2.27 ]])"
            ]
          },
          "metadata": {},
          "execution_count": 11
        }
      ]
    },
    {
      "cell_type": "code",
      "source": [
        "#条件制御のためのプールの配列を作成\n",
        "cond_data = np.array([True,True,False,False,True])\n",
        "\n",
        "#配列x_arrayを作成\n",
        "x_array = np.array([1,2,3,4,5])\n",
        "\n",
        "#配列y_arrayを作成\n",
        "y_array=np.array([100,200,300,400,500])\n",
        "\n",
        "#条件制御実施\n",
        "print(np.where(cond_data,x_array,y_array))"
      ],
      "metadata": {
        "colab": {
          "base_uri": "https://localhost:8080/"
        },
        "id": "t3yg169hTa0c",
        "outputId": "ff273cc9-233e-4638-a3c4-9b88f7b9caf7"
      },
      "execution_count": 12,
      "outputs": [
        {
          "output_type": "stream",
          "name": "stdout",
          "text": [
            "[  1   2 300 400   5]\n"
          ]
        }
      ]
    },
    {
      "cell_type": "code",
      "source": [
        "cond_data = np.array([True,True,False,False,True])\n",
        "\n",
        "#cond_dataを表示\n",
        "print(cond_data)\n",
        "\n",
        "#重複削除\n",
        "print(np.unique(cond_data))"
      ],
      "metadata": {
        "colab": {
          "base_uri": "https://localhost:8080/"
        },
        "id": "PTT_DarGUlqY",
        "outputId": "13b9c97d-4de5-4fb3-84f7-d4ec76519b1a"
      },
      "execution_count": 13,
      "outputs": [
        {
          "output_type": "stream",
          "name": "stdout",
          "text": [
            "[ True  True False False  True]\n",
            "[False  True]\n"
          ]
        }
      ]
    },
    {
      "cell_type": "code",
      "source": [
        "#ユニバーサル関数\n",
        "sample_data = np.arange(10)\n",
        "print('元のデータ:',sample_data)\n",
        "print('すべての要素の平方根:',np.sqrt(sample_data))\n",
        "print('すべての要素のネイピア指数関数:',np.exp(sample_data))"
      ],
      "metadata": {
        "colab": {
          "base_uri": "https://localhost:8080/"
        },
        "id": "8Qt6isZ3U-S4",
        "outputId": "e2f77682-bcab-45b4-c52f-46639033e828"
      },
      "execution_count": 15,
      "outputs": [
        {
          "output_type": "stream",
          "name": "stdout",
          "text": [
            "元のデータ: [0 1 2 3 4 5 6 7 8 9]\n",
            "すべての要素の平方根: [0.    1.    1.414 1.732 2.    2.236 2.449 2.646 2.828 3.   ]\n",
            "すべての要素のネイピア指数関数: [1.000e+00 2.718e+00 7.389e+00 2.009e+01 5.460e+01 1.484e+02 4.034e+02\n",
            " 1.097e+03 2.981e+03 8.103e+03]\n"
          ]
        }
      ]
    },
    {
      "cell_type": "code",
      "source": [
        "#arangeで9つの要素を持つ配列を生成。reshapeで3行3列の行列に再形成\n",
        "sample_multi_array_data1 = np.arange(9).reshape(3,3)\n",
        "\n",
        "print(sample_multi_array_data1)\n",
        "\n",
        "print('最小値:',sample_multi_array_data1.min())\n",
        "print('最大値:',sample_multi_array_data1.max())\n",
        "print('平均:',sample_multi_array_data1.mean())\n",
        "print('合計:',sample_multi_array_data1.sum())\n",
        "\n",
        "#行列を指定して合計値を求める\n",
        "print('行の合計:',sample_multi_array_data1.sum(axis=1))\n",
        "print('列の合計:',sample_multi_array_data1.sum(axis=0))"
      ],
      "metadata": {
        "colab": {
          "base_uri": "https://localhost:8080/"
        },
        "id": "Pvh-gHpvVtF3",
        "outputId": "84a458e7-08ff-472e-dbd8-76258b836a6c"
      },
      "execution_count": 16,
      "outputs": [
        {
          "output_type": "stream",
          "name": "stdout",
          "text": [
            "[[0 1 2]\n",
            " [3 4 5]\n",
            " [6 7 8]]\n",
            "最小値: 0\n",
            "最大値: 8\n",
            "平均: 4.0\n",
            "合計: 36\n",
            "行の合計: [ 3 12 21]\n",
            "列の合計: [ 9 12 15]\n"
          ]
        }
      ]
    },
    {
      "cell_type": "code",
      "source": [
        "#真偽値の配列関数\n",
        "cond_data=np.array([True,True,False,False,True])\n",
        "\n",
        "print('Trueが少なくとも1つあるかどうか:',cond_data.any())\n",
        "print('すべてTrueかどうか:',cond_data.all())"
      ],
      "metadata": {
        "colab": {
          "base_uri": "https://localhost:8080/"
        },
        "id": "B0bdYBpiXJBP",
        "outputId": "f90d0f9c-9fea-43fd-bf8e-ec8a0b4461b2"
      },
      "execution_count": 17,
      "outputs": [
        {
          "output_type": "stream",
          "name": "stdout",
          "text": [
            "Trueが少なくとも1つあるかどうか: True\n",
            "すべてTrueかどうか: False\n"
          ]
        }
      ]
    },
    {
      "cell_type": "code",
      "source": [
        "sample_multi_array_data1 = np.arange(9).reshape(3,3)\n",
        "print(sample_multi_array_data1)\n",
        "print('5より大きな数字がいくつあるか:',(sample_multi_array_data1>5).sum())"
      ],
      "metadata": {
        "colab": {
          "base_uri": "https://localhost:8080/"
        },
        "id": "mFmlffYlXzVg",
        "outputId": "78608792-17df-4714-da02-92939ad3e7eb"
      },
      "execution_count": 18,
      "outputs": [
        {
          "output_type": "stream",
          "name": "stdout",
          "text": [
            "[[0 1 2]\n",
            " [3 4 5]\n",
            " [6 7 8]]\n",
            "5より大きな数字がいくつあるか: 3\n"
          ]
        }
      ]
    },
    {
      "cell_type": "code",
      "source": [
        "#行列計算\n",
        "sample_multi_array_data1 = np.arange(9).reshape(3,3)\n",
        "print(sample_multi_array_data1)\n",
        "\n",
        "print('対角成分:',np.diag(sample_multi_array_data1))\n",
        "print('対角成分の和:',np.trace(sample_multi_array_data1))"
      ],
      "metadata": {
        "colab": {
          "base_uri": "https://localhost:8080/"
        },
        "id": "Q8ohYmhnYeQP",
        "outputId": "cbd615af-dbe8-48a7-f137-916726767e1d"
      },
      "execution_count": 19,
      "outputs": [
        {
          "output_type": "stream",
          "name": "stdout",
          "text": [
            "[[0 1 2]\n",
            " [3 4 5]\n",
            " [6 7 8]]\n",
            "対角成分: [0 4 8]\n",
            "対角成分の和: 12\n"
          ]
        }
      ]
    },
    {
      "cell_type": "code",
      "source": [
        "#データの準備\n",
        "sample_array = np.arange(10)\n",
        "sample_array"
      ],
      "metadata": {
        "colab": {
          "base_uri": "https://localhost:8080/"
        },
        "id": "qkPqflCYZMAY",
        "outputId": "0a8cfd27-4c3f-42aa-bc82-6149b4bc60d6"
      },
      "execution_count": 20,
      "outputs": [
        {
          "output_type": "execute_result",
          "data": {
            "text/plain": [
              "array([0, 1, 2, 3, 4, 5, 6, 7, 8, 9])"
            ]
          },
          "metadata": {},
          "execution_count": 20
        }
      ]
    },
    {
      "cell_type": "code",
      "source": [
        "#再形成\n",
        "sample_array2 = sample_array.reshape(2,5)\n",
        "sample_array2"
      ],
      "metadata": {
        "colab": {
          "base_uri": "https://localhost:8080/"
        },
        "id": "vpWTHrWuZXIM",
        "outputId": "fe991395-f1ae-4db8-c7e4-75fbdf067bcb"
      },
      "execution_count": 24,
      "outputs": [
        {
          "output_type": "execute_result",
          "data": {
            "text/plain": [
              "array([[0, 1, 2, 3, 4],\n",
              "       [5, 6, 7, 8, 9]])"
            ]
          },
          "metadata": {},
          "execution_count": 24
        }
      ]
    },
    {
      "cell_type": "code",
      "source": [
        "sample_array2.reshape(5,2)"
      ],
      "metadata": {
        "colab": {
          "base_uri": "https://localhost:8080/"
        },
        "id": "7VAPHYX0Zx2x",
        "outputId": "f332d9a3-efd6-4bea-8c95-d30d0dd97701"
      },
      "execution_count": 25,
      "outputs": [
        {
          "output_type": "execute_result",
          "data": {
            "text/plain": [
              "array([[0, 1],\n",
              "       [2, 3],\n",
              "       [4, 5],\n",
              "       [6, 7],\n",
              "       [8, 9]])"
            ]
          },
          "metadata": {},
          "execution_count": 25
        }
      ]
    },
    {
      "cell_type": "code",
      "source": [
        "#データの準備\n",
        "sample_array3 = np.array([[1,2,3],[4,5,6]])\n",
        "sample_array4 = np.array([[7,8,9],[10,11,12]])\n",
        "print(sample_array3)\n",
        "print(sample_array4)\n",
        "\n",
        "#行方向に結合。パラメータのaxisに0を指定\n",
        "np.concatenate([sample_array3,sample_array4],axis=0)"
      ],
      "metadata": {
        "colab": {
          "base_uri": "https://localhost:8080/"
        },
        "id": "N3SvnsDiZ7FE",
        "outputId": "766ceadb-be81-40f5-deaa-30fd09d060c4"
      },
      "execution_count": 26,
      "outputs": [
        {
          "output_type": "stream",
          "name": "stdout",
          "text": [
            "[[1 2 3]\n",
            " [4 5 6]]\n",
            "[[ 7  8  9]\n",
            " [10 11 12]]\n"
          ]
        },
        {
          "output_type": "execute_result",
          "data": {
            "text/plain": [
              "array([[ 1,  2,  3],\n",
              "       [ 4,  5,  6],\n",
              "       [ 7,  8,  9],\n",
              "       [10, 11, 12]])"
            ]
          },
          "metadata": {},
          "execution_count": 26
        }
      ]
    },
    {
      "cell_type": "code",
      "source": [
        "#vstackを使った行方向結合の方法\n",
        "np.vstack((sample_array3,sample_array4))"
      ],
      "metadata": {
        "colab": {
          "base_uri": "https://localhost:8080/"
        },
        "id": "urvoV2sAauVZ",
        "outputId": "b51b0c9a-153e-4f5d-bfd5-6a1341c647af"
      },
      "execution_count": 27,
      "outputs": [
        {
          "output_type": "execute_result",
          "data": {
            "text/plain": [
              "array([[ 1,  2,  3],\n",
              "       [ 4,  5,  6],\n",
              "       [ 7,  8,  9],\n",
              "       [10, 11, 12]])"
            ]
          },
          "metadata": {},
          "execution_count": 27
        }
      ]
    },
    {
      "cell_type": "code",
      "source": [
        "#列方向に結合\n",
        "np.concatenate([sample_array3,sample_array4],axis=1)"
      ],
      "metadata": {
        "colab": {
          "base_uri": "https://localhost:8080/"
        },
        "id": "5xZ1rDaHbGko",
        "outputId": "85e087aa-82b0-454a-d7c1-075c63cae818"
      },
      "execution_count": 29,
      "outputs": [
        {
          "output_type": "execute_result",
          "data": {
            "text/plain": [
              "array([[ 1,  2,  3,  7,  8,  9],\n",
              "       [ 4,  5,  6, 10, 11, 12]])"
            ]
          },
          "metadata": {},
          "execution_count": 29
        }
      ]
    },
    {
      "cell_type": "code",
      "source": [
        "#列方向結合の他の方法\n",
        "np.hstack((sample_array3,sample_array4))"
      ],
      "metadata": {
        "colab": {
          "base_uri": "https://localhost:8080/"
        },
        "id": "eBsXgqxYbWVm",
        "outputId": "c5fdf5eb-9d75-4c77-cbde-e7a84d3d0f9d"
      },
      "execution_count": 30,
      "outputs": [
        {
          "output_type": "execute_result",
          "data": {
            "text/plain": [
              "array([[ 1,  2,  3,  7,  8,  9],\n",
              "       [ 4,  5,  6, 10, 11, 12]])"
            ]
          },
          "metadata": {},
          "execution_count": 30
        }
      ]
    }
  ]
}