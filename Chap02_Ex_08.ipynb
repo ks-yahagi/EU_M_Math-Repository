{
  "nbformat": 4,
  "nbformat_minor": 0,
  "metadata": {
    "colab": {
      "name": "Chap02_Ex_08.ipynb",
      "provenance": [],
      "authorship_tag": "ABX9TyMNGmzAo2rKm9CNHSojue3t",
      "include_colab_link": true
    },
    "kernelspec": {
      "name": "python3",
      "display_name": "Python 3"
    },
    "language_info": {
      "name": "python"
    }
  },
  "cells": [
    {
      "cell_type": "markdown",
      "metadata": {
        "id": "view-in-github",
        "colab_type": "text"
      },
      "source": [
        "<a href=\"https://colab.research.google.com/github/ks-yahagi/EU_M_Math-Repository/blob/main/Chap02_Ex_08.ipynb\" target=\"_parent\"><img src=\"https://colab.research.google.com/assets/colab-badge.svg\" alt=\"Open In Colab\"/></a>"
      ]
    },
    {
      "cell_type": "code",
      "execution_count": 3,
      "metadata": {
        "colab": {
          "base_uri": "https://localhost:8080/"
        },
        "id": "tthh3HrYHEma",
        "outputId": "b3b598a9-2cee-41b1-f55d-6d81d62ddd11"
      },
      "outputs": [
        {
          "output_type": "execute_result",
          "data": {
            "text/plain": [
              "Sex\n",
              "F    1233.333333\n",
              "M     400.000000\n",
              "Name: Money, dtype: float64"
            ]
          },
          "metadata": {},
          "execution_count": 3
        }
      ],
      "source": [
        "from pandas import Series,DataFrame\n",
        "import pandas as pd\n",
        "\n",
        "attri_data1 = {'ID':['1','2','3','4','5'],\n",
        "               'Sex':['F','F','M','M','F'],\n",
        "               'Money':[1000,2000,500,300,700],\n",
        "               'Name':['Saito','Horie','Kondo','Kawada','Matsubara']}\n",
        "attri_data_frame1=DataFrame(attri_data1)\n",
        "\n",
        "attri_data_frame1.groupby('Sex')['Money'].mean()"
      ]
    }
  ]
}