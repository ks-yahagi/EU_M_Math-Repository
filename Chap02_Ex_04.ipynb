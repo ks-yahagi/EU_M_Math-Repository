{
  "nbformat": 4,
  "nbformat_minor": 0,
  "metadata": {
    "colab": {
      "name": "Chap02_Ex_04.ipynb",
      "provenance": [],
      "authorship_tag": "ABX9TyOTurOI+oCRKk6Qx5LY7/6K",
      "include_colab_link": true
    },
    "kernelspec": {
      "name": "python3",
      "display_name": "Python 3"
    },
    "language_info": {
      "name": "python"
    }
  },
  "cells": [
    {
      "cell_type": "markdown",
      "metadata": {
        "id": "view-in-github",
        "colab_type": "text"
      },
      "source": [
        "<a href=\"https://colab.research.google.com/github/ks-yahagi/EU_M_Math-Repository/blob/main/Chap02_Ex_04.ipynb\" target=\"_parent\"><img src=\"https://colab.research.google.com/assets/colab-badge.svg\" alt=\"Open In Colab\"/></a>"
      ]
    },
    {
      "cell_type": "code",
      "execution_count": 3,
      "metadata": {
        "colab": {
          "base_uri": "https://localhost:8080/"
        },
        "id": "XyoLDj6XOPni",
        "outputId": "7c60ec6a-0bec-4e54-c604-0a57fe57e9b7"
      },
      "outputs": [
        {
          "output_type": "stream",
          "name": "stdout",
          "text": [
            "-12.0\n"
          ]
        }
      ],
      "source": [
        "import numpy as np\n",
        "import scipy.linalg as linalg\n",
        "\n",
        "data = np.array([[1,2,3],[1,3,2],[3,1,2]])\n",
        "print(linalg.det(data))"
      ]
    }
  ]
}