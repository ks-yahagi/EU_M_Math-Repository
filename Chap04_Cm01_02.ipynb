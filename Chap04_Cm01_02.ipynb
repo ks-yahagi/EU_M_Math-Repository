{
  "nbformat": 4,
  "nbformat_minor": 0,
  "metadata": {
    "colab": {
      "name": "Chap04_Cm01-02.ipynb",
      "provenance": [],
      "authorship_tag": "ABX9TyNfLxkUO3UTAExZCWEQnvNB",
      "include_colab_link": true
    },
    "kernelspec": {
      "name": "python3",
      "display_name": "Python 3"
    },
    "language_info": {
      "name": "python"
    }
  },
  "cells": [
    {
      "cell_type": "markdown",
      "metadata": {
        "id": "view-in-github",
        "colab_type": "text"
      },
      "source": [
        "<a href=\"https://colab.research.google.com/github/ks-yahagi/EU_M_Math-Repository/blob/main/Chap04_Cm01_02.ipynb\" target=\"_parent\"><img src=\"https://colab.research.google.com/assets/colab-badge.svg\" alt=\"Open In Colab\"/></a>"
      ]
    },
    {
      "cell_type": "code",
      "execution_count": 1,
      "metadata": {
        "id": "gzAKziITXkH1"
      },
      "outputs": [],
      "source": [
        "#以下のライブラリを使うので、あらかじめ読み込んでおいてください\n",
        "import numpy as np\n",
        "import numpy.random as random\n",
        "import scipy as sp\n",
        "import pandas as pd\n",
        "from pandas import Series, DataFrame\n",
        "\n",
        "#可視化ライブラリ\n",
        "import matplotlib.pyplot as plt \n",
        "import matplotlib as mp1\n",
        "import seaborn as sns\n",
        "%matplotlib inline\n",
        "\n",
        "#小数第三位まで表示\n",
        "%precision 3\n",
        "\n",
        "#ランダムシードの固定\n",
        "np.random.seed(0)"
      ]
    },
    {
      "cell_type": "code",
      "source": [
        "import requests, zipfile\n",
        "from io import StringIO\n",
        "import io\n",
        "\n",
        "url = 'https://archive.ics.uci.edu/ml/machine-learning-databases/00356/student.zip'\n",
        "r = requests.get(url,stream=True)\n",
        "\n",
        "z = zipfile.ZipFile(io.BytesIO(r.content))\n",
        "z.extractall()"
      ],
      "metadata": {
        "id": "BjCO7nMIvJMb"
      },
      "execution_count": 2,
      "outputs": []
    },
    {
      "cell_type": "code",
      "source": [
        "student_data_math = pd.read_csv('student-mat.csv',sep=';')\n",
        "student_data_por = pd.read_csv('student-por.csv',sep=';')\n",
        "#マージ:複数のデータを、決まった手順や規則に従って一つにまとめること。\n",
        "student_data_merge = pd.merge(student_data_math\n",
        "                              ,student_data_por\n",
        "                              ,on=['school','sex','age','address','famsize','Pstatus','Medu'\n",
        "                              ,'Fedu','Mjob','Fjob','reason','nursery','internet']\n",
        "                              ,how='inner'\n",
        "                              ,suffixes=('_math','_por'))"
      ],
      "metadata": {
        "id": "lgsP_LkY19CQ"
      },
      "execution_count": 5,
      "outputs": []
    },
    {
      "cell_type": "code",
      "source": [
        "print('数学の欠席数平均:',student_data_merge.absences_math.mean())\n",
        "print('ポルトガル語の欠席平均:',student_data_merge.absences_por.mean())\n",
        "\n",
        "from scipy import stats\n",
        "t,p=stats.ttest_rel(student_data_merge.absences_math,student_data_merge.absences_por)\n",
        "print('p値=',p)"
      ],
      "metadata": {
        "colab": {
          "base_uri": "https://localhost:8080/"
        },
        "id": "iFns9W352IJJ",
        "outputId": "529761e2-1726-48ac-bcef-252398748157"
      },
      "execution_count": 7,
      "outputs": [
        {
          "output_type": "stream",
          "name": "stdout",
          "text": [
            "数学の欠席数平均: 5.319371727748691\n",
            "ポルトガル語の欠席平均: 3.6727748691099475\n",
            "p値= 2.3441656888384195e-06\n"
          ]
        }
      ]
    },
    {
      "cell_type": "code",
      "source": [
        "print('数学の勉強時間平均:',student_data_merge.studytime_math.mean())\n",
        "print('ポルトガル語の勉強時間平均:',student_data_merge.studytime_por.mean())\n",
        "\n",
        "t,p=stats.ttest_rel(student_data_merge.studytime_math,student_data_merge.studytime_por)\n",
        "print('p値=',p)"
      ],
      "metadata": {
        "colab": {
          "base_uri": "https://localhost:8080/"
        },
        "id": "LvHtzIhE3g9O",
        "outputId": "c93f619f-9bd0-4728-c926-8ccb7ab0844d"
      },
      "execution_count": 8,
      "outputs": [
        {
          "output_type": "stream",
          "name": "stdout",
          "text": [
            "数学の勉強時間平均: 2.0340314136125652\n",
            "ポルトガル語の勉強時間平均: 2.0392670157068062\n",
            "p値= 0.5643842756976525\n"
          ]
        }
      ]
    }
  ]
}