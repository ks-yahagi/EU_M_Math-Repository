{
  "cells": [
    {
      "cell_type": "markdown",
      "metadata": {
        "id": "view-in-github",
        "colab_type": "text"
      },
      "source": [
        "<a href=\"https://colab.research.google.com/github/ks-yahagi/EU_M_Math-Repository/blob/main/shisyuu_.ipynb\" target=\"_parent\"><img src=\"https://colab.research.google.com/assets/colab-badge.svg\" alt=\"Open In Colab\"/></a>"
      ]
    },
    {
      "cell_type": "code",
      "execution_count": null,
      "metadata": {
        "colab": {
          "base_uri": "https://localhost:8080/",
          "height": 36
        },
        "id": "_SYnPx1y1cH4",
        "outputId": "e0ca6127-d0b3-45d8-e18c-7398eb0a9420"
      },
      "outputs": [
        {
          "output_type": "execute_result",
          "data": {
            "text/plain": [
              "'%.3f'"
            ],
            "application/vnd.google.colaboratory.intrinsic+json": {
              "type": "string"
            }
          },
          "metadata": {},
          "execution_count": 4
        }
      ],
      "source": [
        "import numpy as np\n",
        "import numpy.random as random\n",
        "import scipy as sp\n",
        "import pandas as pd\n",
        "from pandas import Series, DataFrame\n",
        "\n",
        "import matplotlib.pyplot as plt\n",
        "import matplotlib as mp1\n",
        "import seaborn as sns\n",
        "sns.set()\n",
        "%matplotlib inline\n",
        "\n",
        "%precision 3"
      ]
    },
    {
      "cell_type": "code",
      "execution_count": null,
      "metadata": {
        "colab": {
          "base_uri": "https://localhost:8080/"
        },
        "id": "SJ79GbkUTowT",
        "outputId": "9d590adc-afd1-4dd9-d838-019993e43f2d"
      },
      "outputs": [
        {
          "name": "stdout",
          "output_type": "stream",
          "text": [
            "[9.088e+19 8.863e+19 9.611e+19 9.617e+19 7.809e+19 9.655e+19 7.583e+19]\n",
            "[8.848e+19 8.725e+19 9.928e+19 8.729e+19 8.166e+19 8.828e+19 9.278e+19]\n",
            "[7.192e+19 6.816e+19 8.571e+19 8.056e+19 6.053e+19 7.517e+19 7.872e+19\n",
            " 7.667e+19]\n"
          ]
        }
      ],
      "source": [
        "#繊維方向の弾性係数(経路間隔を変えて)\n",
        "#経路間隔1mmの弾性係数[GPa]\n",
        "y1=np.array([90.8779822,88.6317374,96.1076933,96.1712144,78.0895476,96.5455007,75.8337357])\n",
        "#経路間隔1.4mmの弾性係数[GPa]\n",
        "y14=np.array([88.4797093,87.2542191,99.2836036,87.2921697,81.6554312,88.2776233,92.7803548])\n",
        "#経路間隔2mmの弾性係数[GPa]\n",
        "y2=np.array([71.9162997,68.1580654,85.7093929,80.5596253,60.5266254,75.1686785,78.7198771,76.6704911])\n",
        "\n",
        "#弾性係数の単位を[Pa]に変更\n",
        "def Pa(a):\n",
        "  return a*(10**9)\n",
        "\n",
        "y1=Pa(y1)\n",
        "y14=Pa(y14)\n",
        "y2=Pa(y2)\n",
        "\n",
        "print(Pa(y1))\n",
        "print(Pa(y14))\n",
        "print(Pa(y2))"
      ]
    },
    {
      "cell_type": "code",
      "execution_count": null,
      "metadata": {
        "colab": {
          "base_uri": "https://localhost:8080/"
        },
        "id": "Uu1cpJ6pZWmq",
        "outputId": "bf59cb97-6510-475d-ea01-f1f994f9612b"
      },
      "outputs": [
        {
          "output_type": "stream",
          "name": "stdout",
          "text": [
            "Drive already mounted at /content/drive; to attempt to forcibly remount, call drive.mount(\"/content/drive\", force_remount=True).\n"
          ]
        }
      ],
      "source": [
        "from google.colab import drive\n",
        "drive.mount('/content/drive')"
      ]
    },
    {
      "cell_type": "code",
      "execution_count": null,
      "metadata": {
        "colab": {
          "base_uri": "https://localhost:8080/",
          "height": 206
        },
        "id": "snQR497rcZ0q",
        "outputId": "a3338b74-f59d-4394-efa9-70374e7c3909"
      },
      "outputs": [
        {
          "output_type": "execute_result",
          "data": {
            "text/plain": [
              "  1 _ 1   Unnamed: 1    Unnamed: 2\n",
              "0    時間          試験力         ストローク\n",
              "1   sec            N            mm\n",
              "2     0  -0.08424123        0.0001\n",
              "3  0.01  -0.07947286  0.0006333333\n",
              "4  0.02   -0.0667572   0.001333333"
            ],
            "text/html": [
              "\n",
              "  <div id=\"df-d511ea63-301a-4332-8577-b15f136c08d3\">\n",
              "    <div class=\"colab-df-container\">\n",
              "      <div>\n",
              "<style scoped>\n",
              "    .dataframe tbody tr th:only-of-type {\n",
              "        vertical-align: middle;\n",
              "    }\n",
              "\n",
              "    .dataframe tbody tr th {\n",
              "        vertical-align: top;\n",
              "    }\n",
              "\n",
              "    .dataframe thead th {\n",
              "        text-align: right;\n",
              "    }\n",
              "</style>\n",
              "<table border=\"1\" class=\"dataframe\">\n",
              "  <thead>\n",
              "    <tr style=\"text-align: right;\">\n",
              "      <th></th>\n",
              "      <th>1 _ 1</th>\n",
              "      <th>Unnamed: 1</th>\n",
              "      <th>Unnamed: 2</th>\n",
              "    </tr>\n",
              "  </thead>\n",
              "  <tbody>\n",
              "    <tr>\n",
              "      <th>0</th>\n",
              "      <td>時間</td>\n",
              "      <td>試験力</td>\n",
              "      <td>ストローク</td>\n",
              "    </tr>\n",
              "    <tr>\n",
              "      <th>1</th>\n",
              "      <td>sec</td>\n",
              "      <td>N</td>\n",
              "      <td>mm</td>\n",
              "    </tr>\n",
              "    <tr>\n",
              "      <th>2</th>\n",
              "      <td>0</td>\n",
              "      <td>-0.08424123</td>\n",
              "      <td>0.0001</td>\n",
              "    </tr>\n",
              "    <tr>\n",
              "      <th>3</th>\n",
              "      <td>0.01</td>\n",
              "      <td>-0.07947286</td>\n",
              "      <td>0.0006333333</td>\n",
              "    </tr>\n",
              "    <tr>\n",
              "      <th>4</th>\n",
              "      <td>0.02</td>\n",
              "      <td>-0.0667572</td>\n",
              "      <td>0.001333333</td>\n",
              "    </tr>\n",
              "  </tbody>\n",
              "</table>\n",
              "</div>\n",
              "      <button class=\"colab-df-convert\" onclick=\"convertToInteractive('df-d511ea63-301a-4332-8577-b15f136c08d3')\"\n",
              "              title=\"Convert this dataframe to an interactive table.\"\n",
              "              style=\"display:none;\">\n",
              "        \n",
              "  <svg xmlns=\"http://www.w3.org/2000/svg\" height=\"24px\"viewBox=\"0 0 24 24\"\n",
              "       width=\"24px\">\n",
              "    <path d=\"M0 0h24v24H0V0z\" fill=\"none\"/>\n",
              "    <path d=\"M18.56 5.44l.94 2.06.94-2.06 2.06-.94-2.06-.94-.94-2.06-.94 2.06-2.06.94zm-11 1L8.5 8.5l.94-2.06 2.06-.94-2.06-.94L8.5 2.5l-.94 2.06-2.06.94zm10 10l.94 2.06.94-2.06 2.06-.94-2.06-.94-.94-2.06-.94 2.06-2.06.94z\"/><path d=\"M17.41 7.96l-1.37-1.37c-.4-.4-.92-.59-1.43-.59-.52 0-1.04.2-1.43.59L10.3 9.45l-7.72 7.72c-.78.78-.78 2.05 0 2.83L4 21.41c.39.39.9.59 1.41.59.51 0 1.02-.2 1.41-.59l7.78-7.78 2.81-2.81c.8-.78.8-2.07 0-2.86zM5.41 20L4 18.59l7.72-7.72 1.47 1.35L5.41 20z\"/>\n",
              "  </svg>\n",
              "      </button>\n",
              "      \n",
              "  <style>\n",
              "    .colab-df-container {\n",
              "      display:flex;\n",
              "      flex-wrap:wrap;\n",
              "      gap: 12px;\n",
              "    }\n",
              "\n",
              "    .colab-df-convert {\n",
              "      background-color: #E8F0FE;\n",
              "      border: none;\n",
              "      border-radius: 50%;\n",
              "      cursor: pointer;\n",
              "      display: none;\n",
              "      fill: #1967D2;\n",
              "      height: 32px;\n",
              "      padding: 0 0 0 0;\n",
              "      width: 32px;\n",
              "    }\n",
              "\n",
              "    .colab-df-convert:hover {\n",
              "      background-color: #E2EBFA;\n",
              "      box-shadow: 0px 1px 2px rgba(60, 64, 67, 0.3), 0px 1px 3px 1px rgba(60, 64, 67, 0.15);\n",
              "      fill: #174EA6;\n",
              "    }\n",
              "\n",
              "    [theme=dark] .colab-df-convert {\n",
              "      background-color: #3B4455;\n",
              "      fill: #D2E3FC;\n",
              "    }\n",
              "\n",
              "    [theme=dark] .colab-df-convert:hover {\n",
              "      background-color: #434B5C;\n",
              "      box-shadow: 0px 1px 3px 1px rgba(0, 0, 0, 0.15);\n",
              "      filter: drop-shadow(0px 1px 2px rgba(0, 0, 0, 0.3));\n",
              "      fill: #FFFFFF;\n",
              "    }\n",
              "  </style>\n",
              "\n",
              "      <script>\n",
              "        const buttonEl =\n",
              "          document.querySelector('#df-d511ea63-301a-4332-8577-b15f136c08d3 button.colab-df-convert');\n",
              "        buttonEl.style.display =\n",
              "          google.colab.kernel.accessAllowed ? 'block' : 'none';\n",
              "\n",
              "        async function convertToInteractive(key) {\n",
              "          const element = document.querySelector('#df-d511ea63-301a-4332-8577-b15f136c08d3');\n",
              "          const dataTable =\n",
              "            await google.colab.kernel.invokeFunction('convertToInteractive',\n",
              "                                                     [key], {});\n",
              "          if (!dataTable) return;\n",
              "\n",
              "          const docLinkHtml = 'Like what you see? Visit the ' +\n",
              "            '<a target=\"_blank\" href=https://colab.research.google.com/notebooks/data_table.ipynb>data table notebook</a>'\n",
              "            + ' to learn more about interactive tables.';\n",
              "          element.innerHTML = '';\n",
              "          dataTable['output_type'] = 'display_data';\n",
              "          await google.colab.output.renderOutput(dataTable, element);\n",
              "          const docLink = document.createElement('div');\n",
              "          docLink.innerHTML = docLinkHtml;\n",
              "          element.appendChild(docLink);\n",
              "        }\n",
              "      </script>\n",
              "    </div>\n",
              "  </div>\n",
              "  "
            ]
          },
          "metadata": {},
          "execution_count": 5
        }
      ],
      "source": [
        "data=pd.read_csv('drive/My Drive/リチ1.csv', encoding=\"shift-jis\")\n",
        "data.head()"
      ]
    },
    {
      "cell_type": "code",
      "execution_count": null,
      "metadata": {
        "colab": {
          "base_uri": "https://localhost:8080/",
          "height": 206
        },
        "id": "Bk28Z0gueokL",
        "outputId": "8862b24f-c74d-4669-d4c3-b2b84a55cb30"
      },
      "outputs": [
        {
          "output_type": "execute_result",
          "data": {
            "text/plain": [
              "  1 _ 1   Unnamed: 1    Unnamed: 2\n",
              "2     0  -0.08424123        0.0001\n",
              "3  0.01  -0.07947286  0.0006333333\n",
              "4  0.02   -0.0667572   0.001333333\n",
              "5  0.03  -0.05245209   0.002033333\n",
              "6  0.04  -0.04768372   0.002666667"
            ],
            "text/html": [
              "\n",
              "  <div id=\"df-e8f7f940-6ad5-4291-bc84-373642d4735b\">\n",
              "    <div class=\"colab-df-container\">\n",
              "      <div>\n",
              "<style scoped>\n",
              "    .dataframe tbody tr th:only-of-type {\n",
              "        vertical-align: middle;\n",
              "    }\n",
              "\n",
              "    .dataframe tbody tr th {\n",
              "        vertical-align: top;\n",
              "    }\n",
              "\n",
              "    .dataframe thead th {\n",
              "        text-align: right;\n",
              "    }\n",
              "</style>\n",
              "<table border=\"1\" class=\"dataframe\">\n",
              "  <thead>\n",
              "    <tr style=\"text-align: right;\">\n",
              "      <th></th>\n",
              "      <th>1 _ 1</th>\n",
              "      <th>Unnamed: 1</th>\n",
              "      <th>Unnamed: 2</th>\n",
              "    </tr>\n",
              "  </thead>\n",
              "  <tbody>\n",
              "    <tr>\n",
              "      <th>2</th>\n",
              "      <td>0</td>\n",
              "      <td>-0.08424123</td>\n",
              "      <td>0.0001</td>\n",
              "    </tr>\n",
              "    <tr>\n",
              "      <th>3</th>\n",
              "      <td>0.01</td>\n",
              "      <td>-0.07947286</td>\n",
              "      <td>0.0006333333</td>\n",
              "    </tr>\n",
              "    <tr>\n",
              "      <th>4</th>\n",
              "      <td>0.02</td>\n",
              "      <td>-0.0667572</td>\n",
              "      <td>0.001333333</td>\n",
              "    </tr>\n",
              "    <tr>\n",
              "      <th>5</th>\n",
              "      <td>0.03</td>\n",
              "      <td>-0.05245209</td>\n",
              "      <td>0.002033333</td>\n",
              "    </tr>\n",
              "    <tr>\n",
              "      <th>6</th>\n",
              "      <td>0.04</td>\n",
              "      <td>-0.04768372</td>\n",
              "      <td>0.002666667</td>\n",
              "    </tr>\n",
              "  </tbody>\n",
              "</table>\n",
              "</div>\n",
              "      <button class=\"colab-df-convert\" onclick=\"convertToInteractive('df-e8f7f940-6ad5-4291-bc84-373642d4735b')\"\n",
              "              title=\"Convert this dataframe to an interactive table.\"\n",
              "              style=\"display:none;\">\n",
              "        \n",
              "  <svg xmlns=\"http://www.w3.org/2000/svg\" height=\"24px\"viewBox=\"0 0 24 24\"\n",
              "       width=\"24px\">\n",
              "    <path d=\"M0 0h24v24H0V0z\" fill=\"none\"/>\n",
              "    <path d=\"M18.56 5.44l.94 2.06.94-2.06 2.06-.94-2.06-.94-.94-2.06-.94 2.06-2.06.94zm-11 1L8.5 8.5l.94-2.06 2.06-.94-2.06-.94L8.5 2.5l-.94 2.06-2.06.94zm10 10l.94 2.06.94-2.06 2.06-.94-2.06-.94-.94-2.06-.94 2.06-2.06.94z\"/><path d=\"M17.41 7.96l-1.37-1.37c-.4-.4-.92-.59-1.43-.59-.52 0-1.04.2-1.43.59L10.3 9.45l-7.72 7.72c-.78.78-.78 2.05 0 2.83L4 21.41c.39.39.9.59 1.41.59.51 0 1.02-.2 1.41-.59l7.78-7.78 2.81-2.81c.8-.78.8-2.07 0-2.86zM5.41 20L4 18.59l7.72-7.72 1.47 1.35L5.41 20z\"/>\n",
              "  </svg>\n",
              "      </button>\n",
              "      \n",
              "  <style>\n",
              "    .colab-df-container {\n",
              "      display:flex;\n",
              "      flex-wrap:wrap;\n",
              "      gap: 12px;\n",
              "    }\n",
              "\n",
              "    .colab-df-convert {\n",
              "      background-color: #E8F0FE;\n",
              "      border: none;\n",
              "      border-radius: 50%;\n",
              "      cursor: pointer;\n",
              "      display: none;\n",
              "      fill: #1967D2;\n",
              "      height: 32px;\n",
              "      padding: 0 0 0 0;\n",
              "      width: 32px;\n",
              "    }\n",
              "\n",
              "    .colab-df-convert:hover {\n",
              "      background-color: #E2EBFA;\n",
              "      box-shadow: 0px 1px 2px rgba(60, 64, 67, 0.3), 0px 1px 3px 1px rgba(60, 64, 67, 0.15);\n",
              "      fill: #174EA6;\n",
              "    }\n",
              "\n",
              "    [theme=dark] .colab-df-convert {\n",
              "      background-color: #3B4455;\n",
              "      fill: #D2E3FC;\n",
              "    }\n",
              "\n",
              "    [theme=dark] .colab-df-convert:hover {\n",
              "      background-color: #434B5C;\n",
              "      box-shadow: 0px 1px 3px 1px rgba(0, 0, 0, 0.15);\n",
              "      filter: drop-shadow(0px 1px 2px rgba(0, 0, 0, 0.3));\n",
              "      fill: #FFFFFF;\n",
              "    }\n",
              "  </style>\n",
              "\n",
              "      <script>\n",
              "        const buttonEl =\n",
              "          document.querySelector('#df-e8f7f940-6ad5-4291-bc84-373642d4735b button.colab-df-convert');\n",
              "        buttonEl.style.display =\n",
              "          google.colab.kernel.accessAllowed ? 'block' : 'none';\n",
              "\n",
              "        async function convertToInteractive(key) {\n",
              "          const element = document.querySelector('#df-e8f7f940-6ad5-4291-bc84-373642d4735b');\n",
              "          const dataTable =\n",
              "            await google.colab.kernel.invokeFunction('convertToInteractive',\n",
              "                                                     [key], {});\n",
              "          if (!dataTable) return;\n",
              "\n",
              "          const docLinkHtml = 'Like what you see? Visit the ' +\n",
              "            '<a target=\"_blank\" href=https://colab.research.google.com/notebooks/data_table.ipynb>data table notebook</a>'\n",
              "            + ' to learn more about interactive tables.';\n",
              "          element.innerHTML = '';\n",
              "          dataTable['output_type'] = 'display_data';\n",
              "          await google.colab.output.renderOutput(dataTable, element);\n",
              "          const docLink = document.createElement('div');\n",
              "          docLink.innerHTML = docLinkHtml;\n",
              "          element.appendChild(docLink);\n",
              "        }\n",
              "      </script>\n",
              "    </div>\n",
              "  </div>\n",
              "  "
            ]
          },
          "metadata": {},
          "execution_count": 6
        }
      ],
      "source": [
        "data=data.drop(range(2))\n",
        "data.head()"
      ]
    },
    {
      "cell_type": "code",
      "execution_count": null,
      "metadata": {
        "colab": {
          "base_uri": "https://localhost:8080/"
        },
        "id": "VC4GmzgkTaOI",
        "outputId": "f0c2da5f-a0c4-4840-c059-c50e09340ad1"
      },
      "outputs": [
        {
          "output_type": "stream",
          "name": "stdout",
          "text": [
            "        1 _ 1   Unnamed: 1    Unnamed: 2\n",
            "2           0  -0.08424123        0.0001\n",
            "3        0.01  -0.07947286  0.0006333333\n",
            "4        0.02   -0.0667572   0.001333333\n",
            "5        0.03  -0.05245209   0.002033333\n",
            "6        0.04  -0.04768372   0.002666667\n",
            "...       ...          ...           ...\n",
            "18824  188.22     42.42261       11.7639\n",
            "18825  188.23     10.38074      11.76453\n",
            "18826  188.24    0.9155273      11.76517\n",
            "18827  188.25   -0.1700719      11.76543\n",
            "18828  188.26   -0.2082189      11.76547\n",
            "\n",
            "[18827 rows x 3 columns]\n"
          ]
        }
      ],
      "source": [
        "print(data)"
      ]
    },
    {
      "cell_type": "code",
      "execution_count": null,
      "metadata": {
        "colab": {
          "base_uri": "https://localhost:8080/",
          "height": 248
        },
        "id": "GJVmiW5ShHYQ",
        "outputId": "7fcdc5de-2108-43bd-8ab9-a262724f7fc8"
      },
      "outputs": [
        {
          "output_type": "display_data",
          "data": {
            "text/plain": [
              "<Figure size 432x288 with 1 Axes>"
            ],
            "image/png": "[encoded data removed]"
          },
          "metadata": {}
        }
      ],
      "source": [
        "x = data['Unnamed: 2']\n",
        "y = data['Unnamed: 1']\n",
        "\n",
        "plt.plot(x,y)\n",
        "plt.xticks([])#?\n",
        "plt.yticks([])#?\n",
        "plt.grid(True)\n",
        "plt.show()"
      ]
    },
    {
      "cell_type": "code",
      "source": [
        "import plotly.graph_objects as go\n",
        "from plotly.subplots import make_subplots\n",
        "\n",
        "import numpy as np\n",
        "\n",
        "# Initialize figure with 4 3D subplots\n",
        "fig = make_subplots(\n",
        "    rows=2, cols=2,\n",
        "    specs=[[{'type': 'surface'}, {'type': 'surface'}],\n",
        "           [{'type': 'surface'}, {'type': 'surface'}]])\n",
        "\n",
        "# Generate data\n",
        "x = np.linspace(-0.08, 0.08, 16)\n",
        "y = np.linspace(-0.08, 0.08, 16)\n",
        "z = np.linspace(-1,1,20)\n",
        "xGrid, yGrid = np.meshgrid(y, x)\n",
        "z = (1/2)*(0.6498*xGrid ** 2 - 0.6498*yGrid ** 2)\n",
        "z2=(1/2)*(2.1952*xGrid ** 2 - 0.0792*yGrid ** 2)\n",
        "z3=(1/2)*(0.0792*xGrid ** 2 - 2.1952*yGrid ** 2)\n",
        "\n",
        "# adding surfaces to subplots.\n",
        "fig.add_trace(\n",
        "    go.Surface(x=x, y=y, z=z, colorscale='Viridis', showscale=False),\n",
        "    row=1, col=1)\n",
        "\n",
        "fig.add_trace(\n",
        "    go.Surface(x=x, y=y, z=z2, colorscale='RdBu', showscale=False),\n",
        "    row=1, col=2)\n",
        "\n",
        "fig.add_trace(\n",
        "    go.Surface(x=x, y=y, z=z3, colorscale='YlOrRd', showscale=False),\n",
        "    row=2, col=1)\n",
        "\n",
        "fig.update_layout(\n",
        "    title_text='3D subplots with different colorscales',\n",
        "    height=1000,\n",
        "    width=1000\n",
        ")\n",
        "\n",
        "fig.show()"
      ],
      "metadata": {
        "colab": {
          "base_uri": "https://localhost:8080/",
          "height": 1000
        },
        "id": "F3Ms5ZcptRIh",
        "outputId": "530eeff2-8718-426f-f547-5c5e3d8f9bf7"
      },
      "execution_count": null,
      "outputs": [
        {
          "output_type": "display_data",
          "data": {
            "text/html": [
              "<html>\n",
              "<head><meta charset=\"utf-8\" /></head>\n",
              "<body>\n",
              "    <div>            <script src=\"https://cdnjs.cloudflare.com/ajax/libs/mathjax/2.7.5/MathJax.js?config=TeX-AMS-MML_SVG\"></script><script type=\"text/javascript\">if (window.MathJax) {MathJax.Hub.Config({SVG: {font: \"STIX-Web\"}});}</script>                <script type=\"text/javascript\">window.PlotlyConfig = {MathJaxConfig: 'local'};</script>\n",
              "        <script src=\"https://cdn.plot.ly/plotly-2.8.3.min.js\"></script>                <div id=\"7e7cbc5f-dd6a-45db-9aaa-23da7fa71970\" class=\"plotly-graph-div\" style=\"height:1000px; width:1000px;\"></div>            <script type=\"text/javascript\">                                    window.PLOTLYENV=window.PLOTLYENV || {};                                    if (document.getElementById(\"7e7cbc5f-dd6a-45db-9aaa-23da7fa71970\")) {                    Plotly.newPlot(                        \"7e7cbc5f-dd6a-45db-9aaa-23da7fa71970\",                        [{\"colorscale\":[[0.0,\"#440154\"],[0.1111111111111111,\"#482878\"],[0.2222222222222222,\"#3e4989\"],[0.3333333333333333,\"#31688e\"],[0.4444444444444444,\"#26828e\"],[0.5555555555555556,\"#1f9e89\"],[0.6666666666666666,\"#35b779\"],[0.7777777777777778,\"#6ece58\"],[0.8888888888888888,\"#b5de2b\"],[1.0,\"#fde725\"]],\"showscale\":false,\"x\":[-0.08,-0.06933333333333333,-0.05866666666666667,-0.048,-0.037333333333333336,-0.026666666666666672,-0.016,-0.005333333333333343,0.005333333333333329,0.016,0.026666666666666658,0.03733333333333333,0.048,0.05866666666666666,0.06933333333333332,0.08],\"y\":[-0.08,-0.06933333333333333,-0.05866666666666667,-0.048,-0.037333333333333336,-0.026666666666666672,-0.016,-0.005333333333333343,0.005333333333333329,0.016,0.026666666666666658,0.03733333333333333,0.048,0.05866666666666666,0.06933333333333332,0.08],\"z\":[[0.0,-0.0005175296000000001,-0.0009611263999999998,-0.0013307904000000002,-0.0016265216,-0.00184832,-0.0019961856000000004,-0.0020701184000000003,-0.0020701184000000003,-0.0019961856000000004,-0.0018483200000000003,-0.0016265216000000003,-0.0013307904000000002,-0.0009611264000000004,-0.0005175296000000009,0.0],[0.0005175296000000001,0.0,-0.0004435967999999997,-0.0008132608000000001,-0.001108992,-0.0013307904,-0.001478656,-0.0015525888,-0.0015525888000000002,-0.001478656,-0.0013307904000000002,-0.001108992,-0.0008132608000000001,-0.00044359680000000037,-8.673617379884035e-19,0.0005175296000000001],[0.0009611263999999998,0.0004435967999999997,0.0,-0.00036966400000000034,-0.0006653952000000002,-0.0008871936000000003,-0.0010350592000000004,-0.0011089920000000003,-0.0011089920000000005,-0.0010350592000000004,-0.0008871936000000005,-0.0006653952000000004,-0.00036966400000000034,-6.505213034913027e-19,0.00044359679999999885,0.0009611263999999998],[0.0013307904000000002,0.0008132608000000001,0.00036966400000000034,0.0,-0.0002957311999999999,-0.0005175296,-0.0006653952,-0.000739328,-0.000739328,-0.0006653952,-0.0005175296000000002,-0.0002957312000000001,0.0,0.0003696639999999997,0.0008132607999999992,0.0013307904000000002],[0.0016265216,0.001108992,0.0006653952000000002,0.0002957311999999999,0.0,-0.00022179840000000005,-0.0003696640000000001,-0.0004435968000000001,-0.00044359680000000015,-0.0003696640000000001,-0.0002217984000000003,-2.168404344971009e-19,0.0002957311999999999,0.0006653951999999996,0.0011089919999999992,0.0016265216],[0.00184832,0.0013307904,0.0008871936000000003,0.0005175296,0.00022179840000000005,0.0,-0.0001478656000000001,-0.00022179840000000005,-0.0002217984000000001,-0.0001478656000000001,-2.439454888092385e-19,0.00022179839999999983,0.0005175296,0.0008871935999999997,0.0013307903999999992,0.00184832],[0.0019961856000000004,0.001478656,0.0010350592000000004,0.0006653952,0.0003696640000000001,0.0001478656000000001,0.0,-7.393279999999997e-05,-7.393280000000001e-05,0.0,0.00014786559999999983,0.0003696639999999999,0.0006653952,0.0010350591999999997,0.0014786559999999992,0.0019961856000000004],[0.0020701184000000003,0.0015525888,0.0011089920000000003,0.000739328,0.0004435968000000001,0.00022179840000000005,7.393279999999997e-05,0.0,-4.912791094074942e-20,7.393279999999997e-05,0.0002217983999999998,0.0004435967999999999,0.000739328,0.0011089919999999996,0.0015525887999999991,0.0020701184000000003],[0.0020701184000000003,0.0015525888000000002,0.0011089920000000005,0.000739328,0.00044359680000000015,0.0002217984000000001,7.393280000000001e-05,4.912791094074942e-20,0.0,7.393280000000001e-05,0.00022179839999999986,0.00044359679999999993,0.000739328,0.0011089919999999998,0.0015525887999999993,0.0020701184000000003],[0.0019961856000000004,0.001478656,0.0010350592000000004,0.0006653952,0.0003696640000000001,0.0001478656000000001,0.0,-7.393279999999997e-05,-7.393280000000001e-05,0.0,0.00014786559999999983,0.0003696639999999999,0.0006653952,0.0010350591999999997,0.0014786559999999992,0.0019961856000000004],[0.0018483200000000003,0.0013307904000000002,0.0008871936000000005,0.0005175296000000002,0.0002217984000000003,2.439454888092385e-19,-0.00014786559999999983,-0.0002217983999999998,-0.00022179839999999986,-0.00014786559999999983,0.0,0.00022179840000000008,0.0005175296000000002,0.0008871935999999999,0.0013307903999999994,0.0018483200000000003],[0.0016265216000000003,0.001108992,0.0006653952000000004,0.0002957312000000001,2.168404344971009e-19,-0.00022179839999999983,-0.0003696639999999999,-0.0004435967999999999,-0.00044359679999999993,-0.0003696639999999999,-0.00022179840000000008,0.0,0.0002957312000000001,0.0006653951999999998,0.0011089919999999992,0.0016265216000000003],[0.0013307904000000002,0.0008132608000000001,0.00036966400000000034,0.0,-0.0002957311999999999,-0.0005175296,-0.0006653952,-0.000739328,-0.000739328,-0.0006653952,-0.0005175296000000002,-0.0002957312000000001,0.0,0.0003696639999999997,0.0008132607999999992,0.0013307904000000002],[0.0009611264000000004,0.00044359680000000037,6.505213034913027e-19,-0.0003696639999999997,-0.0006653951999999996,-0.0008871935999999997,-0.0010350591999999997,-0.0011089919999999996,-0.0011089919999999998,-0.0010350591999999997,-0.0008871935999999999,-0.0006653951999999998,-0.0003696639999999997,0.0,0.0004435967999999995,0.0009611264000000004],[0.0005175296000000009,8.673617379884035e-19,-0.00044359679999999885,-0.0008132607999999992,-0.0011089919999999992,-0.0013307903999999992,-0.0014786559999999992,-0.0015525887999999991,-0.0015525887999999993,-0.0014786559999999992,-0.0013307903999999994,-0.0011089919999999992,-0.0008132607999999992,-0.0004435967999999995,0.0,0.0005175296000000009],[0.0,-0.0005175296000000001,-0.0009611263999999998,-0.0013307904000000002,-0.0016265216,-0.00184832,-0.0019961856000000004,-0.0020701184000000003,-0.0020701184000000003,-0.0019961856000000004,-0.0018483200000000003,-0.0016265216000000003,-0.0013307904000000002,-0.0009611264000000004,-0.0005175296000000009,0.0]],\"type\":\"surface\",\"scene\":\"scene\"},{\"colorscale\":[[0.0,\"rgb(103,0,31)\"],[0.1,\"rgb(178,24,43)\"],[0.2,\"rgb(214,96,77)\"],[0.3,\"rgb(244,165,130)\"],[0.4,\"rgb(253,219,199)\"],[0.5,\"rgb(247,247,247)\"],[0.6,\"rgb(209,229,240)\"],[0.7,\"rgb(146,197,222)\"],[0.8,\"rgb(67,147,195)\"],[0.9,\"rgb(33,102,172)\"],[1.0,\"rgb(5,48,97)\"]],\"showscale\":false,\"x\":[-0.08,-0.06933333333333333,-0.05866666666666667,-0.048,-0.037333333333333336,-0.026666666666666672,-0.016,-0.005333333333333343,0.005333333333333329,0.016,0.026666666666666658,0.03733333333333333,0.048,0.05866666666666666,0.06933333333333332,0.08],\"y\":[-0.08,-0.06933333333333333,-0.05866666666666667,-0.048,-0.037333333333333336,-0.026666666666666672,-0.016,-0.005333333333333343,0.005333333333333329,0.016,0.026666666666666658,0.03733333333333333,0.048,0.05866666666666666,0.06933333333333332,0.08],\"z\":[[0.0067712,0.005022845155555555,0.003524255288888889,0.0022754304,0.0012763704888888892,0.0005270755555555557,2.7545599999999955e-05,-0.00022221937777777768,-0.00022221937777777785,2.7545599999999955e-05,0.000527075555555555,0.0012763704888888883,0.0022754304,0.003524255288888887,0.0050228451555555526,0.0067712],[0.006834278399999999,0.005085923555555555,0.003587333688888889,0.0023385088,0.0013394488888888892,0.0005901539555555557,9.062399999999995e-05,-0.0001591409777777777,-0.00015914097777777785,9.062399999999995e-05,0.000590153955555555,0.0013394488888888883,0.0023385088,0.003587333688888887,0.005085923555555552,0.006834278399999999],[0.0068883456,0.005139990755555554,0.003641400888888889,0.002392576,0.0013935160888888891,0.0006442211555555557,0.00014469119999999992,-0.00010507377777777772,-0.00010507377777777788,0.00014469119999999992,0.0006442211555555549,0.0013935160888888882,0.002392576,0.0036414008888888873,0.005139990755555553,0.0068883456],[0.0069334016,0.005185046755555555,0.003686456888888889,0.002437632,0.0014385720888888892,0.0006892771555555557,0.00018974719999999994,-6.001777777777768e-05,-6.001777777777784e-05,0.00018974719999999994,0.000689277155555555,0.0014385720888888884,0.002437632,0.0036864568888888873,0.005185046755555553,0.0069334016],[0.0069694464,0.005221091555555555,0.003722501688888889,0.0024736768,0.0014746168888888891,0.0007253219555555557,0.00022579199999999994,-2.3972977777777683e-05,-2.3972977777777846e-05,0.00022579199999999994,0.000725321955555555,0.0014746168888888883,0.0024736768,0.0037225016888888874,0.005221091555555553,0.0069694464],[0.006996479999999999,0.005248125155555555,0.003749535288888889,0.0025007104,0.0015016504888888892,0.0007523555555555557,0.00025282559999999997,3.0606222222223185e-06,3.060622222222156e-06,0.00025282559999999997,0.0007523555555555549,0.0015016504888888883,0.0025007104,0.0037495352888888872,0.005248125155555552,0.006996479999999999],[0.0070145024,0.005266147555555555,0.003767557688888889,0.0025187328,0.0015196728888888893,0.0007703779555555557,0.00027084799999999997,2.1083022222222327e-05,2.1083022222222165e-05,0.00027084799999999997,0.000770377955555555,0.0015196728888888884,0.0025187328,0.0037675576888888873,0.005266147555555553,0.0070145024],[0.0070235136,0.005275158755555555,0.0037765688888888893,0.002527744,0.001528684088888889,0.0007793891555555558,0.00027985919999999994,3.0094222222222327e-05,3.0094222222222164e-05,0.00027985919999999994,0.000779389155555555,0.0015286840888888882,0.002527744,0.0037765688888888875,0.005275158755555552,0.0070235136],[0.0070235136,0.005275158755555555,0.0037765688888888893,0.002527744,0.001528684088888889,0.0007793891555555558,0.0002798592,3.0094222222222334e-05,3.009422222222217e-05,0.0002798592,0.000779389155555555,0.0015286840888888882,0.002527744,0.0037765688888888875,0.005275158755555552,0.0070235136],[0.0070145024,0.005266147555555555,0.003767557688888889,0.0025187328,0.0015196728888888893,0.0007703779555555557,0.00027084799999999997,2.1083022222222327e-05,2.1083022222222165e-05,0.00027084799999999997,0.000770377955555555,0.0015196728888888884,0.0025187328,0.0037675576888888873,0.005266147555555553,0.0070145024],[0.006996479999999999,0.005248125155555555,0.003749535288888889,0.0025007104,0.0015016504888888892,0.0007523555555555558,0.00025282559999999997,3.060622222222349e-06,3.0606222222221864e-06,0.00025282559999999997,0.000752355555555555,0.0015016504888888883,0.0025007104,0.0037495352888888872,0.005248125155555552,0.006996479999999999],[0.0069694464,0.005221091555555555,0.003722501688888889,0.0024736768,0.0014746168888888891,0.0007253219555555557,0.00022579199999999997,-2.3972977777777663e-05,-2.3972977777777825e-05,0.00022579199999999997,0.000725321955555555,0.0014746168888888883,0.0024736768,0.0037225016888888874,0.005221091555555553,0.0069694464],[0.0069334016,0.005185046755555555,0.003686456888888889,0.002437632,0.0014385720888888892,0.0006892771555555557,0.00018974719999999994,-6.001777777777768e-05,-6.001777777777784e-05,0.00018974719999999994,0.000689277155555555,0.0014385720888888884,0.002437632,0.0036864568888888873,0.005185046755555553,0.0069334016],[0.0068883456,0.005139990755555555,0.003641400888888889,0.002392576,0.0013935160888888891,0.0006442211555555558,0.0001446912,-0.00010507377777777764,-0.0001050737777777778,0.0001446912,0.000644221155555555,0.0013935160888888882,0.002392576,0.0036414008888888873,0.005139990755555553,0.0068883456],[0.006834278399999999,0.005085923555555555,0.0035873336888888894,0.0023385088000000003,0.0013394488888888892,0.0005901539555555559,9.062400000000006e-05,-0.00015914097777777758,-0.00015914097777777774,9.062400000000006e-05,0.0005901539555555551,0.0013394488888888883,0.0023385088000000003,0.0035873336888888876,0.005085923555555552,0.006834278399999999],[0.0067712,0.005022845155555555,0.003524255288888889,0.0022754304,0.0012763704888888892,0.0005270755555555557,2.7545599999999955e-05,-0.00022221937777777768,-0.00022221937777777785,2.7545599999999955e-05,0.000527075555555555,0.0012763704888888883,0.0022754304,0.003524255288888887,0.0050228451555555526,0.0067712]],\"type\":\"surface\",\"scene\":\"scene2\"},{\"colorscale\":[[0.0,\"rgb(255,255,204)\"],[0.125,\"rgb(255,237,160)\"],[0.25,\"rgb(254,217,118)\"],[0.375,\"rgb(254,178,76)\"],[0.5,\"rgb(253,141,60)\"],[0.625,\"rgb(252,78,42)\"],[0.75,\"rgb(227,26,28)\"],[0.875,\"rgb(189,0,38)\"],[1.0,\"rgb(128,0,38)\"]],\"showscale\":false,\"x\":[-0.08,-0.06933333333333333,-0.05866666666666667,-0.048,-0.037333333333333336,-0.026666666666666672,-0.016,-0.005333333333333343,0.005333333333333329,0.016,0.026666666666666658,0.03733333333333333,0.048,0.05866666666666666,0.06933333333333332,0.08],\"y\":[-0.08,-0.06933333333333333,-0.05866666666666667,-0.048,-0.037333333333333336,-0.026666666666666672,-0.016,-0.005333333333333343,0.005333333333333329,0.016,0.026666666666666658,0.03733333333333333,0.048,0.05866666666666666,0.06933333333333332,0.08],\"z\":[[-0.0067712,-0.006834278399999999,-0.0068883456,-0.0069334016,-0.0069694464,-0.006996479999999999,-0.0070145024,-0.0070235136,-0.0070235136,-0.0070145024,-0.006996479999999999,-0.0069694464,-0.0069334016,-0.0068883456,-0.006834278399999999,-0.0067712],[-0.005022845155555555,-0.005085923555555555,-0.005139990755555554,-0.005185046755555555,-0.005221091555555555,-0.005248125155555555,-0.005266147555555555,-0.005275158755555555,-0.005275158755555555,-0.005266147555555555,-0.005248125155555555,-0.005221091555555555,-0.005185046755555555,-0.005139990755555555,-0.005085923555555555,-0.005022845155555555],[-0.003524255288888889,-0.003587333688888889,-0.003641400888888889,-0.003686456888888889,-0.003722501688888889,-0.003749535288888889,-0.003767557688888889,-0.0037765688888888893,-0.0037765688888888893,-0.003767557688888889,-0.003749535288888889,-0.003722501688888889,-0.003686456888888889,-0.003641400888888889,-0.0035873336888888894,-0.003524255288888889],[-0.0022754304,-0.0023385088,-0.002392576,-0.002437632,-0.0024736768,-0.0025007104,-0.0025187328,-0.002527744,-0.002527744,-0.0025187328,-0.0025007104,-0.0024736768,-0.002437632,-0.002392576,-0.0023385088000000003,-0.0022754304],[-0.0012763704888888892,-0.0013394488888888892,-0.0013935160888888891,-0.0014385720888888892,-0.0014746168888888891,-0.0015016504888888892,-0.0015196728888888893,-0.001528684088888889,-0.001528684088888889,-0.0015196728888888893,-0.0015016504888888892,-0.0014746168888888891,-0.0014385720888888892,-0.0013935160888888891,-0.0013394488888888892,-0.0012763704888888892],[-0.0005270755555555557,-0.0005901539555555557,-0.0006442211555555557,-0.0006892771555555557,-0.0007253219555555557,-0.0007523555555555557,-0.0007703779555555557,-0.0007793891555555558,-0.0007793891555555558,-0.0007703779555555557,-0.0007523555555555558,-0.0007253219555555557,-0.0006892771555555557,-0.0006442211555555558,-0.0005901539555555559,-0.0005270755555555557],[-2.7545599999999955e-05,-9.062399999999995e-05,-0.00014469119999999992,-0.00018974719999999994,-0.00022579199999999994,-0.00025282559999999997,-0.00027084799999999997,-0.00027985919999999994,-0.0002798592,-0.00027084799999999997,-0.00025282559999999997,-0.00022579199999999997,-0.00018974719999999994,-0.0001446912,-9.062400000000006e-05,-2.7545599999999955e-05],[0.00022221937777777768,0.0001591409777777777,0.00010507377777777772,6.001777777777768e-05,2.3972977777777683e-05,-3.0606222222223185e-06,-2.1083022222222327e-05,-3.0094222222222327e-05,-3.0094222222222334e-05,-2.1083022222222327e-05,-3.060622222222349e-06,2.3972977777777663e-05,6.001777777777768e-05,0.00010507377777777764,0.00015914097777777758,0.00022221937777777768],[0.00022221937777777785,0.00015914097777777785,0.00010507377777777788,6.001777777777784e-05,2.3972977777777846e-05,-3.060622222222156e-06,-2.1083022222222165e-05,-3.0094222222222164e-05,-3.009422222222217e-05,-2.1083022222222165e-05,-3.0606222222221864e-06,2.3972977777777825e-05,6.001777777777784e-05,0.0001050737777777778,0.00015914097777777774,0.00022221937777777785],[-2.7545599999999955e-05,-9.062399999999995e-05,-0.00014469119999999992,-0.00018974719999999994,-0.00022579199999999994,-0.00025282559999999997,-0.00027084799999999997,-0.00027985919999999994,-0.0002798592,-0.00027084799999999997,-0.00025282559999999997,-0.00022579199999999997,-0.00018974719999999994,-0.0001446912,-9.062400000000006e-05,-2.7545599999999955e-05],[-0.000527075555555555,-0.000590153955555555,-0.0006442211555555549,-0.000689277155555555,-0.000725321955555555,-0.0007523555555555549,-0.000770377955555555,-0.000779389155555555,-0.000779389155555555,-0.000770377955555555,-0.000752355555555555,-0.000725321955555555,-0.000689277155555555,-0.000644221155555555,-0.0005901539555555551,-0.000527075555555555],[-0.0012763704888888883,-0.0013394488888888883,-0.0013935160888888882,-0.0014385720888888884,-0.0014746168888888883,-0.0015016504888888883,-0.0015196728888888884,-0.0015286840888888882,-0.0015286840888888882,-0.0015196728888888884,-0.0015016504888888883,-0.0014746168888888883,-0.0014385720888888884,-0.0013935160888888882,-0.0013394488888888883,-0.0012763704888888883],[-0.0022754304,-0.0023385088,-0.002392576,-0.002437632,-0.0024736768,-0.0025007104,-0.0025187328,-0.002527744,-0.002527744,-0.0025187328,-0.0025007104,-0.0024736768,-0.002437632,-0.002392576,-0.0023385088000000003,-0.0022754304],[-0.003524255288888887,-0.003587333688888887,-0.0036414008888888873,-0.0036864568888888873,-0.0037225016888888874,-0.0037495352888888872,-0.0037675576888888873,-0.0037765688888888875,-0.0037765688888888875,-0.0037675576888888873,-0.0037495352888888872,-0.0037225016888888874,-0.0036864568888888873,-0.0036414008888888873,-0.0035873336888888876,-0.003524255288888887],[-0.0050228451555555526,-0.005085923555555552,-0.005139990755555553,-0.005185046755555553,-0.005221091555555553,-0.005248125155555552,-0.005266147555555553,-0.005275158755555552,-0.005275158755555552,-0.005266147555555553,-0.005248125155555552,-0.005221091555555553,-0.005185046755555553,-0.005139990755555553,-0.005085923555555552,-0.0050228451555555526],[-0.0067712,-0.006834278399999999,-0.0068883456,-0.0069334016,-0.0069694464,-0.006996479999999999,-0.0070145024,-0.0070235136,-0.0070235136,-0.0070145024,-0.006996479999999999,-0.0069694464,-0.0069334016,-0.0068883456,-0.006834278399999999,-0.0067712]],\"type\":\"surface\",\"scene\":\"scene3\"}],                        {\"template\":{\"data\":{\"bar\":[{\"error_x\":{\"color\":\"#2a3f5f\"},\"error_y\":{\"color\":\"#2a3f5f\"},\"marker\":{\"line\":{\"color\":\"#E5ECF6\",\"width\":0.5},\"pattern\":{\"fillmode\":\"overlay\",\"size\":10,\"solidity\":0.2}},\"type\":\"bar\"}],\"barpolar\":[{\"marker\":{\"line\":{\"color\":\"#E5ECF6\",\"width\":0.5},\"pattern\":{\"fillmode\":\"overlay\",\"size\":10,\"solidity\":0.2}},\"type\":\"barpolar\"}],\"carpet\":[{\"aaxis\":{\"endlinecolor\":\"#2a3f5f\",\"gridcolor\":\"white\",\"linecolor\":\"white\",\"minorgridcolor\":\"white\",\"startlinecolor\":\"#2a3f5f\"},\"baxis\":{\"endlinecolor\":\"#2a3f5f\",\"gridcolor\":\"white\",\"linecolor\":\"white\",\"minorgridcolor\":\"white\",\"startlinecolor\":\"#2a3f5f\"},\"type\":\"carpet\"}],\"choropleth\":[{\"colorbar\":{\"outlinewidth\":0,\"ticks\":\"\"},\"type\":\"choropleth\"}],\"contour\":[{\"colorbar\":{\"outlinewidth\":0,\"ticks\":\"\"},\"colorscale\":[[0.0,\"#0d0887\"],[0.1111111111111111,\"#46039f\"],[0.2222222222222222,\"#7201a8\"],[0.3333333333333333,\"#9c179e\"],[0.4444444444444444,\"#bd3786\"],[0.5555555555555556,\"#d8576b\"],[0.6666666666666666,\"#ed7953\"],[0.7777777777777778,\"#fb9f3a\"],[0.8888888888888888,\"#fdca26\"],[1.0,\"#f0f921\"]],\"type\":\"contour\"}],\"contourcarpet\":[{\"colorbar\":{\"outlinewidth\":0,\"ticks\":\"\"},\"type\":\"contourcarpet\"}],\"heatmap\":[{\"colorbar\":{\"outlinewidth\":0,\"ticks\":\"\"},\"colorscale\":[[0.0,\"#0d0887\"],[0.1111111111111111,\"#46039f\"],[0.2222222222222222,\"#7201a8\"],[0.3333333333333333,\"#9c179e\"],[0.4444444444444444,\"#bd3786\"],[0.5555555555555556,\"#d8576b\"],[0.6666666666666666,\"#ed7953\"],[0.7777777777777778,\"#fb9f3a\"],[0.8888888888888888,\"#fdca26\"],[1.0,\"#f0f921\"]],\"type\":\"heatmap\"}],\"heatmapgl\":[{\"colorbar\":{\"outlinewidth\":0,\"ticks\":\"\"},\"colorscale\":[[0.0,\"#0d0887\"],[0.1111111111111111,\"#46039f\"],[0.2222222222222222,\"#7201a8\"],[0.3333333333333333,\"#9c179e\"],[0.4444444444444444,\"#bd3786\"],[0.5555555555555556,\"#d8576b\"],[0.6666666666666666,\"#ed7953\"],[0.7777777777777778,\"#fb9f3a\"],[0.8888888888888888,\"#fdca26\"],[1.0,\"#f0f921\"]],\"type\":\"heatmapgl\"}],\"histogram\":[{\"marker\":{\"pattern\":{\"fillmode\":\"overlay\",\"size\":10,\"solidity\":0.2}},\"type\":\"histogram\"}],\"histogram2d\":[{\"colorbar\":{\"outlinewidth\":0,\"ticks\":\"\"},\"colorscale\":[[0.0,\"#0d0887\"],[0.1111111111111111,\"#46039f\"],[0.2222222222222222,\"#7201a8\"],[0.3333333333333333,\"#9c179e\"],[0.4444444444444444,\"#bd3786\"],[0.5555555555555556,\"#d8576b\"],[0.6666666666666666,\"#ed7953\"],[0.7777777777777778,\"#fb9f3a\"],[0.8888888888888888,\"#fdca26\"],[1.0,\"#f0f921\"]],\"type\":\"histogram2d\"}],\"histogram2dcontour\":[{\"colorbar\":{\"outlinewidth\":0,\"ticks\":\"\"},\"colorscale\":[[0.0,\"#0d0887\"],[0.1111111111111111,\"#46039f\"],[0.2222222222222222,\"#7201a8\"],[0.3333333333333333,\"#9c179e\"],[0.4444444444444444,\"#bd3786\"],[0.5555555555555556,\"#d8576b\"],[0.6666666666666666,\"#ed7953\"],[0.7777777777777778,\"#fb9f3a\"],[0.8888888888888888,\"#fdca26\"],[1.0,\"#f0f921\"]],\"type\":\"histogram2dcontour\"}],\"mesh3d\":[{\"colorbar\":{\"outlinewidth\":0,\"ticks\":\"\"},\"type\":\"mesh3d\"}],\"parcoords\":[{\"line\":{\"colorbar\":{\"outlinewidth\":0,\"ticks\":\"\"}},\"type\":\"parcoords\"}],\"pie\":[{\"automargin\":true,\"type\":\"pie\"}],\"scatter\":[{\"marker\":{\"colorbar\":{\"outlinewidth\":0,\"ticks\":\"\"}},\"type\":\"scatter\"}],\"scatter3d\":[{\"line\":{\"colorbar\":{\"outlinewidth\":0,\"ticks\":\"\"}},\"marker\":{\"colorbar\":{\"outlinewidth\":0,\"ticks\":\"\"}},\"type\":\"scatter3d\"}],\"scattercarpet\":[{\"marker\":{\"colorbar\":{\"outlinewidth\":0,\"ticks\":\"\"}},\"type\":\"scattercarpet\"}],\"scattergeo\":[{\"marker\":{\"colorbar\":{\"outlinewidth\":0,\"ticks\":\"\"}},\"type\":\"scattergeo\"}],\"scattergl\":[{\"marker\":{\"colorbar\":{\"outlinewidth\":0,\"ticks\":\"\"}},\"type\":\"scattergl\"}],\"scattermapbox\":[{\"marker\":{\"colorbar\":{\"outlinewidth\":0,\"ticks\":\"\"}},\"type\":\"scattermapbox\"}],\"scatterpolar\":[{\"marker\":{\"colorbar\":{\"outlinewidth\":0,\"ticks\":\"\"}},\"type\":\"scatterpolar\"}],\"scatterpolargl\":[{\"marker\":{\"colorbar\":{\"outlinewidth\":0,\"ticks\":\"\"}},\"type\":\"scatterpolargl\"}],\"scatterternary\":[{\"marker\":{\"colorbar\":{\"outlinewidth\":0,\"ticks\":\"\"}},\"type\":\"scatterternary\"}],\"surface\":[{\"colorbar\":{\"outlinewidth\":0,\"ticks\":\"\"},\"colorscale\":[[0.0,\"#0d0887\"],[0.1111111111111111,\"#46039f\"],[0.2222222222222222,\"#7201a8\"],[0.3333333333333333,\"#9c179e\"],[0.4444444444444444,\"#bd3786\"],[0.5555555555555556,\"#d8576b\"],[0.6666666666666666,\"#ed7953\"],[0.7777777777777778,\"#fb9f3a\"],[0.8888888888888888,\"#fdca26\"],[1.0,\"#f0f921\"]],\"type\":\"surface\"}],\"table\":[{\"cells\":{\"fill\":{\"color\":\"#EBF0F8\"},\"line\":{\"color\":\"white\"}},\"header\":{\"fill\":{\"color\":\"#C8D4E3\"},\"line\":{\"color\":\"white\"}},\"type\":\"table\"}]},\"layout\":{\"annotationdefaults\":{\"arrowcolor\":\"#2a3f5f\",\"arrowhead\":0,\"arrowwidth\":1},\"autotypenumbers\":\"strict\",\"coloraxis\":{\"colorbar\":{\"outlinewidth\":0,\"ticks\":\"\"}},\"colorscale\":{\"diverging\":[[0,\"#8e0152\"],[0.1,\"#c51b7d\"],[0.2,\"#de77ae\"],[0.3,\"#f1b6da\"],[0.4,\"#fde0ef\"],[0.5,\"#f7f7f7\"],[0.6,\"#e6f5d0\"],[0.7,\"#b8e186\"],[0.8,\"#7fbc41\"],[0.9,\"#4d9221\"],[1,\"#276419\"]],\"sequential\":[[0.0,\"#0d0887\"],[0.1111111111111111,\"#46039f\"],[0.2222222222222222,\"#7201a8\"],[0.3333333333333333,\"#9c179e\"],[0.4444444444444444,\"#bd3786\"],[0.5555555555555556,\"#d8576b\"],[0.6666666666666666,\"#ed7953\"],[0.7777777777777778,\"#fb9f3a\"],[0.8888888888888888,\"#fdca26\"],[1.0,\"#f0f921\"]],\"sequentialminus\":[[0.0,\"#0d0887\"],[0.1111111111111111,\"#46039f\"],[0.2222222222222222,\"#7201a8\"],[0.3333333333333333,\"#9c179e\"],[0.4444444444444444,\"#bd3786\"],[0.5555555555555556,\"#d8576b\"],[0.6666666666666666,\"#ed7953\"],[0.7777777777777778,\"#fb9f3a\"],[0.8888888888888888,\"#fdca26\"],[1.0,\"#f0f921\"]]},\"colorway\":[\"#636efa\",\"#EF553B\",\"#00cc96\",\"#ab63fa\",\"#FFA15A\",\"#19d3f3\",\"#FF6692\",\"#B6E880\",\"#FF97FF\",\"#FECB52\"],\"font\":{\"color\":\"#2a3f5f\"},\"geo\":{\"bgcolor\":\"white\",\"lakecolor\":\"white\",\"landcolor\":\"#E5ECF6\",\"showlakes\":true,\"showland\":true,\"subunitcolor\":\"white\"},\"hoverlabel\":{\"align\":\"left\"},\"hovermode\":\"closest\",\"mapbox\":{\"style\":\"light\"},\"paper_bgcolor\":\"white\",\"plot_bgcolor\":\"#E5ECF6\",\"polar\":{\"angularaxis\":{\"gridcolor\":\"white\",\"linecolor\":\"white\",\"ticks\":\"\"},\"bgcolor\":\"#E5ECF6\",\"radialaxis\":{\"gridcolor\":\"white\",\"linecolor\":\"white\",\"ticks\":\"\"}},\"scene\":{\"xaxis\":{\"backgroundcolor\":\"#E5ECF6\",\"gridcolor\":\"white\",\"gridwidth\":2,\"linecolor\":\"white\",\"showbackground\":true,\"ticks\":\"\",\"zerolinecolor\":\"white\"},\"yaxis\":{\"backgroundcolor\":\"#E5ECF6\",\"gridcolor\":\"white\",\"gridwidth\":2,\"linecolor\":\"white\",\"showbackground\":true,\"ticks\":\"\",\"zerolinecolor\":\"white\"},\"zaxis\":{\"backgroundcolor\":\"#E5ECF6\",\"gridcolor\":\"white\",\"gridwidth\":2,\"linecolor\":\"white\",\"showbackground\":true,\"ticks\":\"\",\"zerolinecolor\":\"white\"}},\"shapedefaults\":{\"line\":{\"color\":\"#2a3f5f\"}},\"ternary\":{\"aaxis\":{\"gridcolor\":\"white\",\"linecolor\":\"white\",\"ticks\":\"\"},\"baxis\":{\"gridcolor\":\"white\",\"linecolor\":\"white\",\"ticks\":\"\"},\"bgcolor\":\"#E5ECF6\",\"caxis\":{\"gridcolor\":\"white\",\"linecolor\":\"white\",\"ticks\":\"\"}},\"title\":{\"x\":0.05},\"xaxis\":{\"automargin\":true,\"gridcolor\":\"white\",\"linecolor\":\"white\",\"ticks\":\"\",\"title\":{\"standoff\":15},\"zerolinecolor\":\"white\",\"zerolinewidth\":2},\"yaxis\":{\"automargin\":true,\"gridcolor\":\"white\",\"linecolor\":\"white\",\"ticks\":\"\",\"title\":{\"standoff\":15},\"zerolinecolor\":\"white\",\"zerolinewidth\":2}}},\"scene\":{\"domain\":{\"x\":[0.0,0.45],\"y\":[0.575,1.0]}},\"scene2\":{\"domain\":{\"x\":[0.55,1.0],\"y\":[0.575,1.0]}},\"scene3\":{\"domain\":{\"x\":[0.0,0.45],\"y\":[0.0,0.425]}},\"scene4\":{\"domain\":{\"x\":[0.55,1.0],\"y\":[0.0,0.425]}},\"title\":{\"text\":\"3D subplots with different colorscales\"},\"height\":1000,\"width\":1000},                        {\"responsive\": true}                    ).then(function(){\n",
              "                            \n",
              "var gd = document.getElementById('7e7cbc5f-dd6a-45db-9aaa-23da7fa71970');\n",
              "var x = new MutationObserver(function (mutations, observer) {{\n",
              "        var display = window.getComputedStyle(gd).display;\n",
              "        if (!display || display === 'none') {{\n",
              "            console.log([gd, 'removed!']);\n",
              "            Plotly.purge(gd);\n",
              "            observer.disconnect();\n",
              "        }}\n",
              "}});\n",
              "\n",
              "// Listen for the removal of the full notebook cells\n",
              "var notebookContainer = gd.closest('#notebook-container');\n",
              "if (notebookContainer) {{\n",
              "    x.observe(notebookContainer, {childList: true});\n",
              "}}\n",
              "\n",
              "// Listen for the clearing of the current output cell\n",
              "var outputEl = gd.closest('.output');\n",
              "if (outputEl) {{\n",
              "    x.observe(outputEl, {childList: true});\n",
              "}}\n",
              "\n",
              "                        })                };                            </script>        </div>\n",
              "</body>\n",
              "</html>"
            ]
          },
          "metadata": {}
        }
      ]
    }
  ],
  "metadata": {
    "colab": {
      "name": "shisyuu_.ipynb",
      "provenance": [],
      "authorship_tag": "ABX9TyN1N2N7s9ry/pilnpQbPcqS",
      "include_colab_link": true
    },
    "kernelspec": {
      "display_name": "Python 3",
      "name": "python3"
    },
    "language_info": {
      "name": "python"
    }
  },
  "nbformat": 4,
  "nbformat_minor": 0
}